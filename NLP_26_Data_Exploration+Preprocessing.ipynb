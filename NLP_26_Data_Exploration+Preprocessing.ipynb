{
  "cells": [
    {
      "cell_type": "markdown",
      "id": "65557378",
      "metadata": {
        "id": "65557378"
      },
      "source": [
        "# Data Exploration"
      ]
    },
    {
      "cell_type": "markdown",
      "id": "c8a9a2c0",
      "metadata": {
        "id": "c8a9a2c0"
      },
      "source": [
        "## Import Libries"
      ]
    },
    {
      "cell_type": "code",
      "source": [
        "#For runnig the both notebook I recomand google Colab pro with 35 GB RAM"
      ],
      "metadata": {
        "id": "h7O4HQZqb7_f"
      },
      "id": "h7O4HQZqb7_f",
      "execution_count": null,
      "outputs": []
    },
    {
      "cell_type": "code",
      "execution_count": 3,
      "id": "74115a72",
      "metadata": {
        "id": "74115a72"
      },
      "outputs": [],
      "source": [
        "# !pip install emoji"
      ]
    },
    {
      "cell_type": "code",
      "execution_count": 4,
      "id": "a4d728e7",
      "metadata": {
        "id": "a4d728e7"
      },
      "outputs": [],
      "source": [
        "# !python -m spacy download en_core_web_md"
      ]
    },
    {
      "cell_type": "code",
      "execution_count": 5,
      "id": "aa35ee49",
      "metadata": {
        "id": "aa35ee49"
      },
      "outputs": [],
      "source": [
        "import pandas as pd\n",
        "import numpy as np\n",
        "import matplotlib.pyplot as plt\n",
        "import re\n",
        "import emoji\n",
        "from tqdm import tqdm\n",
        "import nltk\n",
        "from nltk.corpus import stopwords\n",
        "from nltk.stem import WordNetLemmatizer\n",
        "from sklearn.feature_extraction.text import TfidfVectorizer\n",
        "from sklearn.model_selection import train_test_split\n",
        "from sklearn.neighbors import KNeighborsClassifier\n",
        "from sklearn.linear_model import LogisticRegression\n",
        "from sklearn.neural_network import MLPClassifier\n",
        "from sklearn.metrics import accuracy_score, precision_score, recall_score, f1_score\n",
        "import numpy as np\n",
        "import spacy\n"
      ]
    },
    {
      "cell_type": "markdown",
      "id": "e7e00fe2",
      "metadata": {
        "id": "e7e00fe2"
      },
      "source": [
        "## Load train data original"
      ]
    },
    {
      "cell_type": "code",
      "execution_count": 6,
      "id": "e3ce9b33",
      "metadata": {
        "id": "e3ce9b33"
      },
      "outputs": [],
      "source": [
        "df_train = pd.read_excel('train.xlsx')\n",
        "df_train_reviews = pd.read_excel('train_reviews.xlsx')"
      ]
    },
    {
      "cell_type": "code",
      "execution_count": 7,
      "id": "197cffbe",
      "metadata": {
        "colab": {
          "base_uri": "https://localhost:8080/",
          "height": 337
        },
        "id": "197cffbe",
        "outputId": "7c4889d9-6f18-405d-c5e6-9ac760957830"
      },
      "outputs": [
        {
          "output_type": "execute_result",
          "data": {
            "text/plain": [
              "   index                                        description  \\\n",
              "0      1  This is a shared mixed room in our hostel, wit...   \n",
              "1      2  O meu espaço fica perto de Parque Eduardo VII,...   \n",
              "2      3  Trafaria’s House is a cozy and familiar villa ...   \n",
              "3      4  Apartamento Charmoso no Chiado, Entre o Largo ...   \n",
              "4      5  Joli appartement  en bordure de mer.<br /> 2 m...   \n",
              "\n",
              "                                          host_about  unlisted  \n",
              "0                Alojamento Local Registro: 20835/AL         0  \n",
              "1  I am friendly host, and I will try to always b...         1  \n",
              "2  I am a social person liking to communicate, re...         1  \n",
              "3  Hello!_x000D_\\nI m Portuguese and i love to me...         0  \n",
              "4  Nous sommes une famille avec deux enfants de 1...         0  "
            ],
            "text/html": [
              "\n",
              "  <div id=\"df-69c71b83-5d6d-4023-88f1-99ba2965ed89\">\n",
              "    <div class=\"colab-df-container\">\n",
              "      <div>\n",
              "<style scoped>\n",
              "    .dataframe tbody tr th:only-of-type {\n",
              "        vertical-align: middle;\n",
              "    }\n",
              "\n",
              "    .dataframe tbody tr th {\n",
              "        vertical-align: top;\n",
              "    }\n",
              "\n",
              "    .dataframe thead th {\n",
              "        text-align: right;\n",
              "    }\n",
              "</style>\n",
              "<table border=\"1\" class=\"dataframe\">\n",
              "  <thead>\n",
              "    <tr style=\"text-align: right;\">\n",
              "      <th></th>\n",
              "      <th>index</th>\n",
              "      <th>description</th>\n",
              "      <th>host_about</th>\n",
              "      <th>unlisted</th>\n",
              "    </tr>\n",
              "  </thead>\n",
              "  <tbody>\n",
              "    <tr>\n",
              "      <th>0</th>\n",
              "      <td>1</td>\n",
              "      <td>This is a shared mixed room in our hostel, wit...</td>\n",
              "      <td>Alojamento Local Registro: 20835/AL</td>\n",
              "      <td>0</td>\n",
              "    </tr>\n",
              "    <tr>\n",
              "      <th>1</th>\n",
              "      <td>2</td>\n",
              "      <td>O meu espaço fica perto de Parque Eduardo VII,...</td>\n",
              "      <td>I am friendly host, and I will try to always b...</td>\n",
              "      <td>1</td>\n",
              "    </tr>\n",
              "    <tr>\n",
              "      <th>2</th>\n",
              "      <td>3</td>\n",
              "      <td>Trafaria’s House is a cozy and familiar villa ...</td>\n",
              "      <td>I am a social person liking to communicate, re...</td>\n",
              "      <td>1</td>\n",
              "    </tr>\n",
              "    <tr>\n",
              "      <th>3</th>\n",
              "      <td>4</td>\n",
              "      <td>Apartamento Charmoso no Chiado, Entre o Largo ...</td>\n",
              "      <td>Hello!_x000D_\\nI m Portuguese and i love to me...</td>\n",
              "      <td>0</td>\n",
              "    </tr>\n",
              "    <tr>\n",
              "      <th>4</th>\n",
              "      <td>5</td>\n",
              "      <td>Joli appartement  en bordure de mer.&lt;br /&gt; 2 m...</td>\n",
              "      <td>Nous sommes une famille avec deux enfants de 1...</td>\n",
              "      <td>0</td>\n",
              "    </tr>\n",
              "  </tbody>\n",
              "</table>\n",
              "</div>\n",
              "      <button class=\"colab-df-convert\" onclick=\"convertToInteractive('df-69c71b83-5d6d-4023-88f1-99ba2965ed89')\"\n",
              "              title=\"Convert this dataframe to an interactive table.\"\n",
              "              style=\"display:none;\">\n",
              "        \n",
              "  <svg xmlns=\"http://www.w3.org/2000/svg\" height=\"24px\"viewBox=\"0 0 24 24\"\n",
              "       width=\"24px\">\n",
              "    <path d=\"M0 0h24v24H0V0z\" fill=\"none\"/>\n",
              "    <path d=\"M18.56 5.44l.94 2.06.94-2.06 2.06-.94-2.06-.94-.94-2.06-.94 2.06-2.06.94zm-11 1L8.5 8.5l.94-2.06 2.06-.94-2.06-.94L8.5 2.5l-.94 2.06-2.06.94zm10 10l.94 2.06.94-2.06 2.06-.94-2.06-.94-.94-2.06-.94 2.06-2.06.94z\"/><path d=\"M17.41 7.96l-1.37-1.37c-.4-.4-.92-.59-1.43-.59-.52 0-1.04.2-1.43.59L10.3 9.45l-7.72 7.72c-.78.78-.78 2.05 0 2.83L4 21.41c.39.39.9.59 1.41.59.51 0 1.02-.2 1.41-.59l7.78-7.78 2.81-2.81c.8-.78.8-2.07 0-2.86zM5.41 20L4 18.59l7.72-7.72 1.47 1.35L5.41 20z\"/>\n",
              "  </svg>\n",
              "      </button>\n",
              "      \n",
              "  <style>\n",
              "    .colab-df-container {\n",
              "      display:flex;\n",
              "      flex-wrap:wrap;\n",
              "      gap: 12px;\n",
              "    }\n",
              "\n",
              "    .colab-df-convert {\n",
              "      background-color: #E8F0FE;\n",
              "      border: none;\n",
              "      border-radius: 50%;\n",
              "      cursor: pointer;\n",
              "      display: none;\n",
              "      fill: #1967D2;\n",
              "      height: 32px;\n",
              "      padding: 0 0 0 0;\n",
              "      width: 32px;\n",
              "    }\n",
              "\n",
              "    .colab-df-convert:hover {\n",
              "      background-color: #E2EBFA;\n",
              "      box-shadow: 0px 1px 2px rgba(60, 64, 67, 0.3), 0px 1px 3px 1px rgba(60, 64, 67, 0.15);\n",
              "      fill: #174EA6;\n",
              "    }\n",
              "\n",
              "    [theme=dark] .colab-df-convert {\n",
              "      background-color: #3B4455;\n",
              "      fill: #D2E3FC;\n",
              "    }\n",
              "\n",
              "    [theme=dark] .colab-df-convert:hover {\n",
              "      background-color: #434B5C;\n",
              "      box-shadow: 0px 1px 3px 1px rgba(0, 0, 0, 0.15);\n",
              "      filter: drop-shadow(0px 1px 2px rgba(0, 0, 0, 0.3));\n",
              "      fill: #FFFFFF;\n",
              "    }\n",
              "  </style>\n",
              "\n",
              "      <script>\n",
              "        const buttonEl =\n",
              "          document.querySelector('#df-69c71b83-5d6d-4023-88f1-99ba2965ed89 button.colab-df-convert');\n",
              "        buttonEl.style.display =\n",
              "          google.colab.kernel.accessAllowed ? 'block' : 'none';\n",
              "\n",
              "        async function convertToInteractive(key) {\n",
              "          const element = document.querySelector('#df-69c71b83-5d6d-4023-88f1-99ba2965ed89');\n",
              "          const dataTable =\n",
              "            await google.colab.kernel.invokeFunction('convertToInteractive',\n",
              "                                                     [key], {});\n",
              "          if (!dataTable) return;\n",
              "\n",
              "          const docLinkHtml = 'Like what you see? Visit the ' +\n",
              "            '<a target=\"_blank\" href=https://colab.research.google.com/notebooks/data_table.ipynb>data table notebook</a>'\n",
              "            + ' to learn more about interactive tables.';\n",
              "          element.innerHTML = '';\n",
              "          dataTable['output_type'] = 'display_data';\n",
              "          await google.colab.output.renderOutput(dataTable, element);\n",
              "          const docLink = document.createElement('div');\n",
              "          docLink.innerHTML = docLinkHtml;\n",
              "          element.appendChild(docLink);\n",
              "        }\n",
              "      </script>\n",
              "    </div>\n",
              "  </div>\n",
              "  "
            ]
          },
          "metadata": {},
          "execution_count": 7
        }
      ],
      "source": [
        "df_train.head()"
      ]
    },
    {
      "cell_type": "code",
      "execution_count": 8,
      "id": "ca32890c",
      "metadata": {
        "colab": {
          "base_uri": "https://localhost:8080/",
          "height": 206
        },
        "id": "ca32890c",
        "outputId": "51445e5d-af39-46df-df66-4b974b5129e8"
      },
      "outputs": [
        {
          "output_type": "execute_result",
          "data": {
            "text/plain": [
              "   index                                           comments\n",
              "0      1  this is a very cozy and comfortable house to s...\n",
              "1      1                                          good<br/>\n",
              "2      1  My first hostel experience, and all I have to ...\n",
              "3      1  Das Hostel war neu und deshalb funktionierte a...\n",
              "4      1  It was fine for a dorm, but I think for the pe..."
            ],
            "text/html": [
              "\n",
              "  <div id=\"df-553829ca-7196-42f7-a08d-591d3900b1de\">\n",
              "    <div class=\"colab-df-container\">\n",
              "      <div>\n",
              "<style scoped>\n",
              "    .dataframe tbody tr th:only-of-type {\n",
              "        vertical-align: middle;\n",
              "    }\n",
              "\n",
              "    .dataframe tbody tr th {\n",
              "        vertical-align: top;\n",
              "    }\n",
              "\n",
              "    .dataframe thead th {\n",
              "        text-align: right;\n",
              "    }\n",
              "</style>\n",
              "<table border=\"1\" class=\"dataframe\">\n",
              "  <thead>\n",
              "    <tr style=\"text-align: right;\">\n",
              "      <th></th>\n",
              "      <th>index</th>\n",
              "      <th>comments</th>\n",
              "    </tr>\n",
              "  </thead>\n",
              "  <tbody>\n",
              "    <tr>\n",
              "      <th>0</th>\n",
              "      <td>1</td>\n",
              "      <td>this is a very cozy and comfortable house to s...</td>\n",
              "    </tr>\n",
              "    <tr>\n",
              "      <th>1</th>\n",
              "      <td>1</td>\n",
              "      <td>good&lt;br/&gt;</td>\n",
              "    </tr>\n",
              "    <tr>\n",
              "      <th>2</th>\n",
              "      <td>1</td>\n",
              "      <td>My first hostel experience, and all I have to ...</td>\n",
              "    </tr>\n",
              "    <tr>\n",
              "      <th>3</th>\n",
              "      <td>1</td>\n",
              "      <td>Das Hostel war neu und deshalb funktionierte a...</td>\n",
              "    </tr>\n",
              "    <tr>\n",
              "      <th>4</th>\n",
              "      <td>1</td>\n",
              "      <td>It was fine for a dorm, but I think for the pe...</td>\n",
              "    </tr>\n",
              "  </tbody>\n",
              "</table>\n",
              "</div>\n",
              "      <button class=\"colab-df-convert\" onclick=\"convertToInteractive('df-553829ca-7196-42f7-a08d-591d3900b1de')\"\n",
              "              title=\"Convert this dataframe to an interactive table.\"\n",
              "              style=\"display:none;\">\n",
              "        \n",
              "  <svg xmlns=\"http://www.w3.org/2000/svg\" height=\"24px\"viewBox=\"0 0 24 24\"\n",
              "       width=\"24px\">\n",
              "    <path d=\"M0 0h24v24H0V0z\" fill=\"none\"/>\n",
              "    <path d=\"M18.56 5.44l.94 2.06.94-2.06 2.06-.94-2.06-.94-.94-2.06-.94 2.06-2.06.94zm-11 1L8.5 8.5l.94-2.06 2.06-.94-2.06-.94L8.5 2.5l-.94 2.06-2.06.94zm10 10l.94 2.06.94-2.06 2.06-.94-2.06-.94-.94-2.06-.94 2.06-2.06.94z\"/><path d=\"M17.41 7.96l-1.37-1.37c-.4-.4-.92-.59-1.43-.59-.52 0-1.04.2-1.43.59L10.3 9.45l-7.72 7.72c-.78.78-.78 2.05 0 2.83L4 21.41c.39.39.9.59 1.41.59.51 0 1.02-.2 1.41-.59l7.78-7.78 2.81-2.81c.8-.78.8-2.07 0-2.86zM5.41 20L4 18.59l7.72-7.72 1.47 1.35L5.41 20z\"/>\n",
              "  </svg>\n",
              "      </button>\n",
              "      \n",
              "  <style>\n",
              "    .colab-df-container {\n",
              "      display:flex;\n",
              "      flex-wrap:wrap;\n",
              "      gap: 12px;\n",
              "    }\n",
              "\n",
              "    .colab-df-convert {\n",
              "      background-color: #E8F0FE;\n",
              "      border: none;\n",
              "      border-radius: 50%;\n",
              "      cursor: pointer;\n",
              "      display: none;\n",
              "      fill: #1967D2;\n",
              "      height: 32px;\n",
              "      padding: 0 0 0 0;\n",
              "      width: 32px;\n",
              "    }\n",
              "\n",
              "    .colab-df-convert:hover {\n",
              "      background-color: #E2EBFA;\n",
              "      box-shadow: 0px 1px 2px rgba(60, 64, 67, 0.3), 0px 1px 3px 1px rgba(60, 64, 67, 0.15);\n",
              "      fill: #174EA6;\n",
              "    }\n",
              "\n",
              "    [theme=dark] .colab-df-convert {\n",
              "      background-color: #3B4455;\n",
              "      fill: #D2E3FC;\n",
              "    }\n",
              "\n",
              "    [theme=dark] .colab-df-convert:hover {\n",
              "      background-color: #434B5C;\n",
              "      box-shadow: 0px 1px 3px 1px rgba(0, 0, 0, 0.15);\n",
              "      filter: drop-shadow(0px 1px 2px rgba(0, 0, 0, 0.3));\n",
              "      fill: #FFFFFF;\n",
              "    }\n",
              "  </style>\n",
              "\n",
              "      <script>\n",
              "        const buttonEl =\n",
              "          document.querySelector('#df-553829ca-7196-42f7-a08d-591d3900b1de button.colab-df-convert');\n",
              "        buttonEl.style.display =\n",
              "          google.colab.kernel.accessAllowed ? 'block' : 'none';\n",
              "\n",
              "        async function convertToInteractive(key) {\n",
              "          const element = document.querySelector('#df-553829ca-7196-42f7-a08d-591d3900b1de');\n",
              "          const dataTable =\n",
              "            await google.colab.kernel.invokeFunction('convertToInteractive',\n",
              "                                                     [key], {});\n",
              "          if (!dataTable) return;\n",
              "\n",
              "          const docLinkHtml = 'Like what you see? Visit the ' +\n",
              "            '<a target=\"_blank\" href=https://colab.research.google.com/notebooks/data_table.ipynb>data table notebook</a>'\n",
              "            + ' to learn more about interactive tables.';\n",
              "          element.innerHTML = '';\n",
              "          dataTable['output_type'] = 'display_data';\n",
              "          await google.colab.output.renderOutput(dataTable, element);\n",
              "          const docLink = document.createElement('div');\n",
              "          docLink.innerHTML = docLinkHtml;\n",
              "          element.appendChild(docLink);\n",
              "        }\n",
              "      </script>\n",
              "    </div>\n",
              "  </div>\n",
              "  "
            ]
          },
          "metadata": {},
          "execution_count": 8
        }
      ],
      "source": [
        "df_train_reviews.head()"
      ]
    },
    {
      "cell_type": "markdown",
      "id": "08d4bcc0",
      "metadata": {
        "id": "08d4bcc0"
      },
      "source": [
        "## Load test data original"
      ]
    },
    {
      "cell_type": "code",
      "execution_count": 9,
      "id": "0c7ca015",
      "metadata": {
        "id": "0c7ca015"
      },
      "outputs": [],
      "source": [
        "df_test_reviews = pd.read_excel('test_reviews.xlsx')\n",
        "df_test = pd.read_excel('test.xlsx')"
      ]
    },
    {
      "cell_type": "code",
      "execution_count": 10,
      "id": "23b57071",
      "metadata": {
        "colab": {
          "base_uri": "https://localhost:8080/",
          "height": 206
        },
        "id": "23b57071",
        "outputId": "adf90571-6889-4ebf-c08d-b7d0c170732a"
      },
      "outputs": [
        {
          "output_type": "execute_result",
          "data": {
            "text/plain": [
              "   index                                           comments\n",
              "0      1  Thank you very much Antonio ! All has been per...\n",
              "1      1  Very nice appartment in the old town of Lissab...\n",
              "2      1  When travelling we're looking for kids friendl...\n",
              "3      1  We've been in Lisbon in march 2013 (3 adults a...\n",
              "4      1  Our host Antonio was very helpful with informa..."
            ],
            "text/html": [
              "\n",
              "  <div id=\"df-9367dbb7-02f9-4e78-8130-ad89377f47b8\">\n",
              "    <div class=\"colab-df-container\">\n",
              "      <div>\n",
              "<style scoped>\n",
              "    .dataframe tbody tr th:only-of-type {\n",
              "        vertical-align: middle;\n",
              "    }\n",
              "\n",
              "    .dataframe tbody tr th {\n",
              "        vertical-align: top;\n",
              "    }\n",
              "\n",
              "    .dataframe thead th {\n",
              "        text-align: right;\n",
              "    }\n",
              "</style>\n",
              "<table border=\"1\" class=\"dataframe\">\n",
              "  <thead>\n",
              "    <tr style=\"text-align: right;\">\n",
              "      <th></th>\n",
              "      <th>index</th>\n",
              "      <th>comments</th>\n",
              "    </tr>\n",
              "  </thead>\n",
              "  <tbody>\n",
              "    <tr>\n",
              "      <th>0</th>\n",
              "      <td>1</td>\n",
              "      <td>Thank you very much Antonio ! All has been per...</td>\n",
              "    </tr>\n",
              "    <tr>\n",
              "      <th>1</th>\n",
              "      <td>1</td>\n",
              "      <td>Very nice appartment in the old town of Lissab...</td>\n",
              "    </tr>\n",
              "    <tr>\n",
              "      <th>2</th>\n",
              "      <td>1</td>\n",
              "      <td>When travelling we're looking for kids friendl...</td>\n",
              "    </tr>\n",
              "    <tr>\n",
              "      <th>3</th>\n",
              "      <td>1</td>\n",
              "      <td>We've been in Lisbon in march 2013 (3 adults a...</td>\n",
              "    </tr>\n",
              "    <tr>\n",
              "      <th>4</th>\n",
              "      <td>1</td>\n",
              "      <td>Our host Antonio was very helpful with informa...</td>\n",
              "    </tr>\n",
              "  </tbody>\n",
              "</table>\n",
              "</div>\n",
              "      <button class=\"colab-df-convert\" onclick=\"convertToInteractive('df-9367dbb7-02f9-4e78-8130-ad89377f47b8')\"\n",
              "              title=\"Convert this dataframe to an interactive table.\"\n",
              "              style=\"display:none;\">\n",
              "        \n",
              "  <svg xmlns=\"http://www.w3.org/2000/svg\" height=\"24px\"viewBox=\"0 0 24 24\"\n",
              "       width=\"24px\">\n",
              "    <path d=\"M0 0h24v24H0V0z\" fill=\"none\"/>\n",
              "    <path d=\"M18.56 5.44l.94 2.06.94-2.06 2.06-.94-2.06-.94-.94-2.06-.94 2.06-2.06.94zm-11 1L8.5 8.5l.94-2.06 2.06-.94-2.06-.94L8.5 2.5l-.94 2.06-2.06.94zm10 10l.94 2.06.94-2.06 2.06-.94-2.06-.94-.94-2.06-.94 2.06-2.06.94z\"/><path d=\"M17.41 7.96l-1.37-1.37c-.4-.4-.92-.59-1.43-.59-.52 0-1.04.2-1.43.59L10.3 9.45l-7.72 7.72c-.78.78-.78 2.05 0 2.83L4 21.41c.39.39.9.59 1.41.59.51 0 1.02-.2 1.41-.59l7.78-7.78 2.81-2.81c.8-.78.8-2.07 0-2.86zM5.41 20L4 18.59l7.72-7.72 1.47 1.35L5.41 20z\"/>\n",
              "  </svg>\n",
              "      </button>\n",
              "      \n",
              "  <style>\n",
              "    .colab-df-container {\n",
              "      display:flex;\n",
              "      flex-wrap:wrap;\n",
              "      gap: 12px;\n",
              "    }\n",
              "\n",
              "    .colab-df-convert {\n",
              "      background-color: #E8F0FE;\n",
              "      border: none;\n",
              "      border-radius: 50%;\n",
              "      cursor: pointer;\n",
              "      display: none;\n",
              "      fill: #1967D2;\n",
              "      height: 32px;\n",
              "      padding: 0 0 0 0;\n",
              "      width: 32px;\n",
              "    }\n",
              "\n",
              "    .colab-df-convert:hover {\n",
              "      background-color: #E2EBFA;\n",
              "      box-shadow: 0px 1px 2px rgba(60, 64, 67, 0.3), 0px 1px 3px 1px rgba(60, 64, 67, 0.15);\n",
              "      fill: #174EA6;\n",
              "    }\n",
              "\n",
              "    [theme=dark] .colab-df-convert {\n",
              "      background-color: #3B4455;\n",
              "      fill: #D2E3FC;\n",
              "    }\n",
              "\n",
              "    [theme=dark] .colab-df-convert:hover {\n",
              "      background-color: #434B5C;\n",
              "      box-shadow: 0px 1px 3px 1px rgba(0, 0, 0, 0.15);\n",
              "      filter: drop-shadow(0px 1px 2px rgba(0, 0, 0, 0.3));\n",
              "      fill: #FFFFFF;\n",
              "    }\n",
              "  </style>\n",
              "\n",
              "      <script>\n",
              "        const buttonEl =\n",
              "          document.querySelector('#df-9367dbb7-02f9-4e78-8130-ad89377f47b8 button.colab-df-convert');\n",
              "        buttonEl.style.display =\n",
              "          google.colab.kernel.accessAllowed ? 'block' : 'none';\n",
              "\n",
              "        async function convertToInteractive(key) {\n",
              "          const element = document.querySelector('#df-9367dbb7-02f9-4e78-8130-ad89377f47b8');\n",
              "          const dataTable =\n",
              "            await google.colab.kernel.invokeFunction('convertToInteractive',\n",
              "                                                     [key], {});\n",
              "          if (!dataTable) return;\n",
              "\n",
              "          const docLinkHtml = 'Like what you see? Visit the ' +\n",
              "            '<a target=\"_blank\" href=https://colab.research.google.com/notebooks/data_table.ipynb>data table notebook</a>'\n",
              "            + ' to learn more about interactive tables.';\n",
              "          element.innerHTML = '';\n",
              "          dataTable['output_type'] = 'display_data';\n",
              "          await google.colab.output.renderOutput(dataTable, element);\n",
              "          const docLink = document.createElement('div');\n",
              "          docLink.innerHTML = docLinkHtml;\n",
              "          element.appendChild(docLink);\n",
              "        }\n",
              "      </script>\n",
              "    </div>\n",
              "  </div>\n",
              "  "
            ]
          },
          "metadata": {},
          "execution_count": 10
        }
      ],
      "source": [
        "df_test_reviews.head()"
      ]
    },
    {
      "cell_type": "code",
      "execution_count": 11,
      "id": "4bda0916",
      "metadata": {
        "colab": {
          "base_uri": "https://localhost:8080/",
          "height": 337
        },
        "id": "4bda0916",
        "outputId": "84a2a1e4-5d81-4d0b-bb91-61fbd38d7a6f"
      },
      "outputs": [
        {
          "output_type": "execute_result",
          "data": {
            "text/plain": [
              "   index                                        description  \\\n",
              "0      1  <b>The space</b><br />Apartment located in the...   \n",
              "1      2  IMPORTANT: In response to COVID-19, this prope...   \n",
              "2      3  Bright, beautiful, and spacious. This four-bed...   \n",
              "3      4  Charming Apartment Close to the Bay of Cascais...   \n",
              "4      5  Se procura umas férias perto da praia, casino ...   \n",
              "\n",
              "                                          host_about  \n",
              "0  Gosto de viajar, de conhecer pessoas, gosto de...  \n",
              "1  We are the be@home Team!\\n\\nYou can count on u...  \n",
              "2  Hi there!\\n\\nWe're GuestReady, a professional ...  \n",
              "3                                                 :)  \n",
              "4  Bem vindos a Portugal!_x000D_\\nAdoro o meu Paí...  "
            ],
            "text/html": [
              "\n",
              "  <div id=\"df-a400eaf6-2cf6-4f64-94b3-c4601c3c8929\">\n",
              "    <div class=\"colab-df-container\">\n",
              "      <div>\n",
              "<style scoped>\n",
              "    .dataframe tbody tr th:only-of-type {\n",
              "        vertical-align: middle;\n",
              "    }\n",
              "\n",
              "    .dataframe tbody tr th {\n",
              "        vertical-align: top;\n",
              "    }\n",
              "\n",
              "    .dataframe thead th {\n",
              "        text-align: right;\n",
              "    }\n",
              "</style>\n",
              "<table border=\"1\" class=\"dataframe\">\n",
              "  <thead>\n",
              "    <tr style=\"text-align: right;\">\n",
              "      <th></th>\n",
              "      <th>index</th>\n",
              "      <th>description</th>\n",
              "      <th>host_about</th>\n",
              "    </tr>\n",
              "  </thead>\n",
              "  <tbody>\n",
              "    <tr>\n",
              "      <th>0</th>\n",
              "      <td>1</td>\n",
              "      <td>&lt;b&gt;The space&lt;/b&gt;&lt;br /&gt;Apartment located in the...</td>\n",
              "      <td>Gosto de viajar, de conhecer pessoas, gosto de...</td>\n",
              "    </tr>\n",
              "    <tr>\n",
              "      <th>1</th>\n",
              "      <td>2</td>\n",
              "      <td>IMPORTANT: In response to COVID-19, this prope...</td>\n",
              "      <td>We are the be@home Team!\\n\\nYou can count on u...</td>\n",
              "    </tr>\n",
              "    <tr>\n",
              "      <th>2</th>\n",
              "      <td>3</td>\n",
              "      <td>Bright, beautiful, and spacious. This four-bed...</td>\n",
              "      <td>Hi there!\\n\\nWe're GuestReady, a professional ...</td>\n",
              "    </tr>\n",
              "    <tr>\n",
              "      <th>3</th>\n",
              "      <td>4</td>\n",
              "      <td>Charming Apartment Close to the Bay of Cascais...</td>\n",
              "      <td>:)</td>\n",
              "    </tr>\n",
              "    <tr>\n",
              "      <th>4</th>\n",
              "      <td>5</td>\n",
              "      <td>Se procura umas férias perto da praia, casino ...</td>\n",
              "      <td>Bem vindos a Portugal!_x000D_\\nAdoro o meu Paí...</td>\n",
              "    </tr>\n",
              "  </tbody>\n",
              "</table>\n",
              "</div>\n",
              "      <button class=\"colab-df-convert\" onclick=\"convertToInteractive('df-a400eaf6-2cf6-4f64-94b3-c4601c3c8929')\"\n",
              "              title=\"Convert this dataframe to an interactive table.\"\n",
              "              style=\"display:none;\">\n",
              "        \n",
              "  <svg xmlns=\"http://www.w3.org/2000/svg\" height=\"24px\"viewBox=\"0 0 24 24\"\n",
              "       width=\"24px\">\n",
              "    <path d=\"M0 0h24v24H0V0z\" fill=\"none\"/>\n",
              "    <path d=\"M18.56 5.44l.94 2.06.94-2.06 2.06-.94-2.06-.94-.94-2.06-.94 2.06-2.06.94zm-11 1L8.5 8.5l.94-2.06 2.06-.94-2.06-.94L8.5 2.5l-.94 2.06-2.06.94zm10 10l.94 2.06.94-2.06 2.06-.94-2.06-.94-.94-2.06-.94 2.06-2.06.94z\"/><path d=\"M17.41 7.96l-1.37-1.37c-.4-.4-.92-.59-1.43-.59-.52 0-1.04.2-1.43.59L10.3 9.45l-7.72 7.72c-.78.78-.78 2.05 0 2.83L4 21.41c.39.39.9.59 1.41.59.51 0 1.02-.2 1.41-.59l7.78-7.78 2.81-2.81c.8-.78.8-2.07 0-2.86zM5.41 20L4 18.59l7.72-7.72 1.47 1.35L5.41 20z\"/>\n",
              "  </svg>\n",
              "      </button>\n",
              "      \n",
              "  <style>\n",
              "    .colab-df-container {\n",
              "      display:flex;\n",
              "      flex-wrap:wrap;\n",
              "      gap: 12px;\n",
              "    }\n",
              "\n",
              "    .colab-df-convert {\n",
              "      background-color: #E8F0FE;\n",
              "      border: none;\n",
              "      border-radius: 50%;\n",
              "      cursor: pointer;\n",
              "      display: none;\n",
              "      fill: #1967D2;\n",
              "      height: 32px;\n",
              "      padding: 0 0 0 0;\n",
              "      width: 32px;\n",
              "    }\n",
              "\n",
              "    .colab-df-convert:hover {\n",
              "      background-color: #E2EBFA;\n",
              "      box-shadow: 0px 1px 2px rgba(60, 64, 67, 0.3), 0px 1px 3px 1px rgba(60, 64, 67, 0.15);\n",
              "      fill: #174EA6;\n",
              "    }\n",
              "\n",
              "    [theme=dark] .colab-df-convert {\n",
              "      background-color: #3B4455;\n",
              "      fill: #D2E3FC;\n",
              "    }\n",
              "\n",
              "    [theme=dark] .colab-df-convert:hover {\n",
              "      background-color: #434B5C;\n",
              "      box-shadow: 0px 1px 3px 1px rgba(0, 0, 0, 0.15);\n",
              "      filter: drop-shadow(0px 1px 2px rgba(0, 0, 0, 0.3));\n",
              "      fill: #FFFFFF;\n",
              "    }\n",
              "  </style>\n",
              "\n",
              "      <script>\n",
              "        const buttonEl =\n",
              "          document.querySelector('#df-a400eaf6-2cf6-4f64-94b3-c4601c3c8929 button.colab-df-convert');\n",
              "        buttonEl.style.display =\n",
              "          google.colab.kernel.accessAllowed ? 'block' : 'none';\n",
              "\n",
              "        async function convertToInteractive(key) {\n",
              "          const element = document.querySelector('#df-a400eaf6-2cf6-4f64-94b3-c4601c3c8929');\n",
              "          const dataTable =\n",
              "            await google.colab.kernel.invokeFunction('convertToInteractive',\n",
              "                                                     [key], {});\n",
              "          if (!dataTable) return;\n",
              "\n",
              "          const docLinkHtml = 'Like what you see? Visit the ' +\n",
              "            '<a target=\"_blank\" href=https://colab.research.google.com/notebooks/data_table.ipynb>data table notebook</a>'\n",
              "            + ' to learn more about interactive tables.';\n",
              "          element.innerHTML = '';\n",
              "          dataTable['output_type'] = 'display_data';\n",
              "          await google.colab.output.renderOutput(dataTable, element);\n",
              "          const docLink = document.createElement('div');\n",
              "          docLink.innerHTML = docLinkHtml;\n",
              "          element.appendChild(docLink);\n",
              "        }\n",
              "      </script>\n",
              "    </div>\n",
              "  </div>\n",
              "  "
            ]
          },
          "metadata": {},
          "execution_count": 11
        }
      ],
      "source": [
        "df_test.head()"
      ]
    },
    {
      "cell_type": "markdown",
      "id": "495747d9",
      "metadata": {
        "id": "495747d9"
      },
      "source": [
        "### Merge data train set"
      ]
    },
    {
      "cell_type": "code",
      "execution_count": 12,
      "id": "5fc2143e",
      "metadata": {
        "id": "5fc2143e"
      },
      "outputs": [],
      "source": [
        "#change the type of comments column to str\n",
        "df_train_reviews['comments'] = df_train_reviews['comments'].astype(str)\n",
        "\n",
        "#group comments by index\n",
        "df_train_reviews_new = df_train_reviews.groupby('index')['comments'].apply('\\n'.join).reset_index()\n",
        "\n",
        "#save the result into a new csv file\n",
        "df_train_reviews_new.to_csv(\"train_reviews_new.csv\", index=False)\n"
      ]
    },
    {
      "cell_type": "code",
      "execution_count": 13,
      "id": "dd7bb830",
      "metadata": {
        "colab": {
          "base_uri": "https://localhost:8080/",
          "height": 424
        },
        "id": "dd7bb830",
        "outputId": "1a20cddc-f05f-4ff5-ce13-f7d4e64244bc"
      },
      "outputs": [
        {
          "output_type": "execute_result",
          "data": {
            "text/plain": [
              "      index                                           comments\n",
              "0         1  this is a very cozy and comfortable house to s...\n",
              "1         5  Un très bel appartement avec une magnifique vu...\n",
              "2         8  Shani was very helpful throughout our process!...\n",
              "3         9  Nous avons passé un très bon séjour chez Isabe...\n",
              "4        10  WOW, what a great stay! The spacious apartment...\n",
              "...     ...                                                ...\n",
              "8462  12490  Excellent very well equiped apartment! Thank y...\n",
              "8463  12491  I am so happy to found this accomodation near ...\n",
              "8464  12492  Appartement très bien situé en plein coeur du ...\n",
              "8465  12493  Nice place, nice location, easy communication!...\n",
              "8466  12494  Appartement bien situé et situé au centre vill...\n",
              "\n",
              "[8467 rows x 2 columns]"
            ],
            "text/html": [
              "\n",
              "  <div id=\"df-ee0972e2-bebb-4b8d-92e7-f9d083ec30f0\">\n",
              "    <div class=\"colab-df-container\">\n",
              "      <div>\n",
              "<style scoped>\n",
              "    .dataframe tbody tr th:only-of-type {\n",
              "        vertical-align: middle;\n",
              "    }\n",
              "\n",
              "    .dataframe tbody tr th {\n",
              "        vertical-align: top;\n",
              "    }\n",
              "\n",
              "    .dataframe thead th {\n",
              "        text-align: right;\n",
              "    }\n",
              "</style>\n",
              "<table border=\"1\" class=\"dataframe\">\n",
              "  <thead>\n",
              "    <tr style=\"text-align: right;\">\n",
              "      <th></th>\n",
              "      <th>index</th>\n",
              "      <th>comments</th>\n",
              "    </tr>\n",
              "  </thead>\n",
              "  <tbody>\n",
              "    <tr>\n",
              "      <th>0</th>\n",
              "      <td>1</td>\n",
              "      <td>this is a very cozy and comfortable house to s...</td>\n",
              "    </tr>\n",
              "    <tr>\n",
              "      <th>1</th>\n",
              "      <td>5</td>\n",
              "      <td>Un très bel appartement avec une magnifique vu...</td>\n",
              "    </tr>\n",
              "    <tr>\n",
              "      <th>2</th>\n",
              "      <td>8</td>\n",
              "      <td>Shani was very helpful throughout our process!...</td>\n",
              "    </tr>\n",
              "    <tr>\n",
              "      <th>3</th>\n",
              "      <td>9</td>\n",
              "      <td>Nous avons passé un très bon séjour chez Isabe...</td>\n",
              "    </tr>\n",
              "    <tr>\n",
              "      <th>4</th>\n",
              "      <td>10</td>\n",
              "      <td>WOW, what a great stay! The spacious apartment...</td>\n",
              "    </tr>\n",
              "    <tr>\n",
              "      <th>...</th>\n",
              "      <td>...</td>\n",
              "      <td>...</td>\n",
              "    </tr>\n",
              "    <tr>\n",
              "      <th>8462</th>\n",
              "      <td>12490</td>\n",
              "      <td>Excellent very well equiped apartment! Thank y...</td>\n",
              "    </tr>\n",
              "    <tr>\n",
              "      <th>8463</th>\n",
              "      <td>12491</td>\n",
              "      <td>I am so happy to found this accomodation near ...</td>\n",
              "    </tr>\n",
              "    <tr>\n",
              "      <th>8464</th>\n",
              "      <td>12492</td>\n",
              "      <td>Appartement très bien situé en plein coeur du ...</td>\n",
              "    </tr>\n",
              "    <tr>\n",
              "      <th>8465</th>\n",
              "      <td>12493</td>\n",
              "      <td>Nice place, nice location, easy communication!...</td>\n",
              "    </tr>\n",
              "    <tr>\n",
              "      <th>8466</th>\n",
              "      <td>12494</td>\n",
              "      <td>Appartement bien situé et situé au centre vill...</td>\n",
              "    </tr>\n",
              "  </tbody>\n",
              "</table>\n",
              "<p>8467 rows × 2 columns</p>\n",
              "</div>\n",
              "      <button class=\"colab-df-convert\" onclick=\"convertToInteractive('df-ee0972e2-bebb-4b8d-92e7-f9d083ec30f0')\"\n",
              "              title=\"Convert this dataframe to an interactive table.\"\n",
              "              style=\"display:none;\">\n",
              "        \n",
              "  <svg xmlns=\"http://www.w3.org/2000/svg\" height=\"24px\"viewBox=\"0 0 24 24\"\n",
              "       width=\"24px\">\n",
              "    <path d=\"M0 0h24v24H0V0z\" fill=\"none\"/>\n",
              "    <path d=\"M18.56 5.44l.94 2.06.94-2.06 2.06-.94-2.06-.94-.94-2.06-.94 2.06-2.06.94zm-11 1L8.5 8.5l.94-2.06 2.06-.94-2.06-.94L8.5 2.5l-.94 2.06-2.06.94zm10 10l.94 2.06.94-2.06 2.06-.94-2.06-.94-.94-2.06-.94 2.06-2.06.94z\"/><path d=\"M17.41 7.96l-1.37-1.37c-.4-.4-.92-.59-1.43-.59-.52 0-1.04.2-1.43.59L10.3 9.45l-7.72 7.72c-.78.78-.78 2.05 0 2.83L4 21.41c.39.39.9.59 1.41.59.51 0 1.02-.2 1.41-.59l7.78-7.78 2.81-2.81c.8-.78.8-2.07 0-2.86zM5.41 20L4 18.59l7.72-7.72 1.47 1.35L5.41 20z\"/>\n",
              "  </svg>\n",
              "      </button>\n",
              "      \n",
              "  <style>\n",
              "    .colab-df-container {\n",
              "      display:flex;\n",
              "      flex-wrap:wrap;\n",
              "      gap: 12px;\n",
              "    }\n",
              "\n",
              "    .colab-df-convert {\n",
              "      background-color: #E8F0FE;\n",
              "      border: none;\n",
              "      border-radius: 50%;\n",
              "      cursor: pointer;\n",
              "      display: none;\n",
              "      fill: #1967D2;\n",
              "      height: 32px;\n",
              "      padding: 0 0 0 0;\n",
              "      width: 32px;\n",
              "    }\n",
              "\n",
              "    .colab-df-convert:hover {\n",
              "      background-color: #E2EBFA;\n",
              "      box-shadow: 0px 1px 2px rgba(60, 64, 67, 0.3), 0px 1px 3px 1px rgba(60, 64, 67, 0.15);\n",
              "      fill: #174EA6;\n",
              "    }\n",
              "\n",
              "    [theme=dark] .colab-df-convert {\n",
              "      background-color: #3B4455;\n",
              "      fill: #D2E3FC;\n",
              "    }\n",
              "\n",
              "    [theme=dark] .colab-df-convert:hover {\n",
              "      background-color: #434B5C;\n",
              "      box-shadow: 0px 1px 3px 1px rgba(0, 0, 0, 0.15);\n",
              "      filter: drop-shadow(0px 1px 2px rgba(0, 0, 0, 0.3));\n",
              "      fill: #FFFFFF;\n",
              "    }\n",
              "  </style>\n",
              "\n",
              "      <script>\n",
              "        const buttonEl =\n",
              "          document.querySelector('#df-ee0972e2-bebb-4b8d-92e7-f9d083ec30f0 button.colab-df-convert');\n",
              "        buttonEl.style.display =\n",
              "          google.colab.kernel.accessAllowed ? 'block' : 'none';\n",
              "\n",
              "        async function convertToInteractive(key) {\n",
              "          const element = document.querySelector('#df-ee0972e2-bebb-4b8d-92e7-f9d083ec30f0');\n",
              "          const dataTable =\n",
              "            await google.colab.kernel.invokeFunction('convertToInteractive',\n",
              "                                                     [key], {});\n",
              "          if (!dataTable) return;\n",
              "\n",
              "          const docLinkHtml = 'Like what you see? Visit the ' +\n",
              "            '<a target=\"_blank\" href=https://colab.research.google.com/notebooks/data_table.ipynb>data table notebook</a>'\n",
              "            + ' to learn more about interactive tables.';\n",
              "          element.innerHTML = '';\n",
              "          dataTable['output_type'] = 'display_data';\n",
              "          await google.colab.output.renderOutput(dataTable, element);\n",
              "          const docLink = document.createElement('div');\n",
              "          docLink.innerHTML = docLinkHtml;\n",
              "          element.appendChild(docLink);\n",
              "        }\n",
              "      </script>\n",
              "    </div>\n",
              "  </div>\n",
              "  "
            ]
          },
          "metadata": {},
          "execution_count": 13
        }
      ],
      "source": [
        "#load the data into a dataframe\n",
        "df_train_reviews_new = pd.read_csv('train_reviews_new.csv')\n",
        "\n",
        "#print the dataframe\n",
        "df_train_reviews_new"
      ]
    },
    {
      "cell_type": "code",
      "execution_count": 14,
      "id": "a69b58fa",
      "metadata": {
        "colab": {
          "base_uri": "https://localhost:8080/",
          "height": 455
        },
        "id": "a69b58fa",
        "outputId": "5f498cc0-6f57-4ca7-a4bd-ded66b98768a"
      },
      "outputs": [
        {
          "output_type": "execute_result",
          "data": {
            "text/plain": [
              "       unlisted                                               text\n",
              "index                                                             \n",
              "1             0  This is a shared mixed room in our hostel, wit...\n",
              "2             1  O meu espaço fica perto de Parque Eduardo VII,...\n",
              "3             1  Trafaria’s House is a cozy and familiar villa ...\n",
              "4             0  Apartamento Charmoso no Chiado, Entre o Largo ...\n",
              "5             0  Joli appartement  en bordure de mer.<br /> 2 m...\n",
              "...         ...                                                ...\n",
              "12492         0  CAT’S BY BAIRRO ALTO<br /><br />This cozy apar...\n",
              "12493         0  Beautifully located in the heart of Lisbon's h...\n",
              "12494         0  Enjoy breakfast in the sleek kitchen with its ...\n",
              "12495         1  A Terra da Eira é uma casa de campo rodeada de...\n",
              "12496         1  This brandnew Apartment combines elegant charm...\n",
              "\n",
              "[12496 rows x 2 columns]"
            ],
            "text/html": [
              "\n",
              "  <div id=\"df-9a67d611-41be-42e8-a69f-e7dfa3d2a869\">\n",
              "    <div class=\"colab-df-container\">\n",
              "      <div>\n",
              "<style scoped>\n",
              "    .dataframe tbody tr th:only-of-type {\n",
              "        vertical-align: middle;\n",
              "    }\n",
              "\n",
              "    .dataframe tbody tr th {\n",
              "        vertical-align: top;\n",
              "    }\n",
              "\n",
              "    .dataframe thead th {\n",
              "        text-align: right;\n",
              "    }\n",
              "</style>\n",
              "<table border=\"1\" class=\"dataframe\">\n",
              "  <thead>\n",
              "    <tr style=\"text-align: right;\">\n",
              "      <th></th>\n",
              "      <th>unlisted</th>\n",
              "      <th>text</th>\n",
              "    </tr>\n",
              "    <tr>\n",
              "      <th>index</th>\n",
              "      <th></th>\n",
              "      <th></th>\n",
              "    </tr>\n",
              "  </thead>\n",
              "  <tbody>\n",
              "    <tr>\n",
              "      <th>1</th>\n",
              "      <td>0</td>\n",
              "      <td>This is a shared mixed room in our hostel, wit...</td>\n",
              "    </tr>\n",
              "    <tr>\n",
              "      <th>2</th>\n",
              "      <td>1</td>\n",
              "      <td>O meu espaço fica perto de Parque Eduardo VII,...</td>\n",
              "    </tr>\n",
              "    <tr>\n",
              "      <th>3</th>\n",
              "      <td>1</td>\n",
              "      <td>Trafaria’s House is a cozy and familiar villa ...</td>\n",
              "    </tr>\n",
              "    <tr>\n",
              "      <th>4</th>\n",
              "      <td>0</td>\n",
              "      <td>Apartamento Charmoso no Chiado, Entre o Largo ...</td>\n",
              "    </tr>\n",
              "    <tr>\n",
              "      <th>5</th>\n",
              "      <td>0</td>\n",
              "      <td>Joli appartement  en bordure de mer.&lt;br /&gt; 2 m...</td>\n",
              "    </tr>\n",
              "    <tr>\n",
              "      <th>...</th>\n",
              "      <td>...</td>\n",
              "      <td>...</td>\n",
              "    </tr>\n",
              "    <tr>\n",
              "      <th>12492</th>\n",
              "      <td>0</td>\n",
              "      <td>CAT’S BY BAIRRO ALTO&lt;br /&gt;&lt;br /&gt;This cozy apar...</td>\n",
              "    </tr>\n",
              "    <tr>\n",
              "      <th>12493</th>\n",
              "      <td>0</td>\n",
              "      <td>Beautifully located in the heart of Lisbon's h...</td>\n",
              "    </tr>\n",
              "    <tr>\n",
              "      <th>12494</th>\n",
              "      <td>0</td>\n",
              "      <td>Enjoy breakfast in the sleek kitchen with its ...</td>\n",
              "    </tr>\n",
              "    <tr>\n",
              "      <th>12495</th>\n",
              "      <td>1</td>\n",
              "      <td>A Terra da Eira é uma casa de campo rodeada de...</td>\n",
              "    </tr>\n",
              "    <tr>\n",
              "      <th>12496</th>\n",
              "      <td>1</td>\n",
              "      <td>This brandnew Apartment combines elegant charm...</td>\n",
              "    </tr>\n",
              "  </tbody>\n",
              "</table>\n",
              "<p>12496 rows × 2 columns</p>\n",
              "</div>\n",
              "      <button class=\"colab-df-convert\" onclick=\"convertToInteractive('df-9a67d611-41be-42e8-a69f-e7dfa3d2a869')\"\n",
              "              title=\"Convert this dataframe to an interactive table.\"\n",
              "              style=\"display:none;\">\n",
              "        \n",
              "  <svg xmlns=\"http://www.w3.org/2000/svg\" height=\"24px\"viewBox=\"0 0 24 24\"\n",
              "       width=\"24px\">\n",
              "    <path d=\"M0 0h24v24H0V0z\" fill=\"none\"/>\n",
              "    <path d=\"M18.56 5.44l.94 2.06.94-2.06 2.06-.94-2.06-.94-.94-2.06-.94 2.06-2.06.94zm-11 1L8.5 8.5l.94-2.06 2.06-.94-2.06-.94L8.5 2.5l-.94 2.06-2.06.94zm10 10l.94 2.06.94-2.06 2.06-.94-2.06-.94-.94-2.06-.94 2.06-2.06.94z\"/><path d=\"M17.41 7.96l-1.37-1.37c-.4-.4-.92-.59-1.43-.59-.52 0-1.04.2-1.43.59L10.3 9.45l-7.72 7.72c-.78.78-.78 2.05 0 2.83L4 21.41c.39.39.9.59 1.41.59.51 0 1.02-.2 1.41-.59l7.78-7.78 2.81-2.81c.8-.78.8-2.07 0-2.86zM5.41 20L4 18.59l7.72-7.72 1.47 1.35L5.41 20z\"/>\n",
              "  </svg>\n",
              "      </button>\n",
              "      \n",
              "  <style>\n",
              "    .colab-df-container {\n",
              "      display:flex;\n",
              "      flex-wrap:wrap;\n",
              "      gap: 12px;\n",
              "    }\n",
              "\n",
              "    .colab-df-convert {\n",
              "      background-color: #E8F0FE;\n",
              "      border: none;\n",
              "      border-radius: 50%;\n",
              "      cursor: pointer;\n",
              "      display: none;\n",
              "      fill: #1967D2;\n",
              "      height: 32px;\n",
              "      padding: 0 0 0 0;\n",
              "      width: 32px;\n",
              "    }\n",
              "\n",
              "    .colab-df-convert:hover {\n",
              "      background-color: #E2EBFA;\n",
              "      box-shadow: 0px 1px 2px rgba(60, 64, 67, 0.3), 0px 1px 3px 1px rgba(60, 64, 67, 0.15);\n",
              "      fill: #174EA6;\n",
              "    }\n",
              "\n",
              "    [theme=dark] .colab-df-convert {\n",
              "      background-color: #3B4455;\n",
              "      fill: #D2E3FC;\n",
              "    }\n",
              "\n",
              "    [theme=dark] .colab-df-convert:hover {\n",
              "      background-color: #434B5C;\n",
              "      box-shadow: 0px 1px 3px 1px rgba(0, 0, 0, 0.15);\n",
              "      filter: drop-shadow(0px 1px 2px rgba(0, 0, 0, 0.3));\n",
              "      fill: #FFFFFF;\n",
              "    }\n",
              "  </style>\n",
              "\n",
              "      <script>\n",
              "        const buttonEl =\n",
              "          document.querySelector('#df-9a67d611-41be-42e8-a69f-e7dfa3d2a869 button.colab-df-convert');\n",
              "        buttonEl.style.display =\n",
              "          google.colab.kernel.accessAllowed ? 'block' : 'none';\n",
              "\n",
              "        async function convertToInteractive(key) {\n",
              "          const element = document.querySelector('#df-9a67d611-41be-42e8-a69f-e7dfa3d2a869');\n",
              "          const dataTable =\n",
              "            await google.colab.kernel.invokeFunction('convertToInteractive',\n",
              "                                                     [key], {});\n",
              "          if (!dataTable) return;\n",
              "\n",
              "          const docLinkHtml = 'Like what you see? Visit the ' +\n",
              "            '<a target=\"_blank\" href=https://colab.research.google.com/notebooks/data_table.ipynb>data table notebook</a>'\n",
              "            + ' to learn more about interactive tables.';\n",
              "          element.innerHTML = '';\n",
              "          dataTable['output_type'] = 'display_data';\n",
              "          await google.colab.output.renderOutput(dataTable, element);\n",
              "          const docLink = document.createElement('div');\n",
              "          docLink.innerHTML = docLinkHtml;\n",
              "          element.appendChild(docLink);\n",
              "        }\n",
              "      </script>\n",
              "    </div>\n",
              "  </div>\n",
              "  "
            ]
          },
          "metadata": {},
          "execution_count": 14
        }
      ],
      "source": [
        "#merge description and host_about in one column\n",
        "\n",
        "df_train['description & host'] = df_train['description'].astype(str) + df_train['host_about'].astype(str)\n",
        "\n",
        "#remove  description and host_about from train dataset\n",
        "df_train = df_train.drop(['description', 'host_about'], axis=1)\n",
        "\n",
        "#merged df_train with df_train_reviews_new after index\n",
        "merged_df = df_train.merge(df_train_reviews_new[['comments', 'index']], on='index', how='left')\n",
        "\n",
        "#set index column as index\n",
        "merged_df.set_index('index',inplace=True)\n",
        "\n",
        "#where is missing comment fill with  emty space to avoid error when is merging everything\n",
        "merged_df['comments'].fillna('', inplace=True)\n",
        "\n",
        "#merged all text in one column\n",
        "\n",
        "merged_df['text'] = merged_df['description & host'] + ' ' + merged_df['comments']\n",
        "\n",
        "#drop old column\n",
        "merged_df = merged_df.drop(['comments', 'description & host'], axis=1)\n",
        "\n",
        "#check the dataset\n",
        "merged_df"
      ]
    },
    {
      "cell_type": "markdown",
      "id": "01b72958",
      "metadata": {
        "id": "01b72958"
      },
      "source": [
        "### Merge data test set"
      ]
    },
    {
      "cell_type": "code",
      "execution_count": 15,
      "id": "90f18e3b",
      "metadata": {
        "id": "90f18e3b"
      },
      "outputs": [],
      "source": [
        "#change the type of comments column to str\n",
        "df_test_reviews['comments'] = df_test_reviews['comments'].astype(str)\n",
        "\n",
        "#group comments by index\n",
        "df_test_reviews_new = df_test_reviews.groupby('index')['comments'].apply('\\n'.join).reset_index()\n",
        "\n",
        "#save the result into a new csv file\n",
        "df_test_reviews_new.to_csv(\"test_reviews_new.csv\", index=False)"
      ]
    },
    {
      "cell_type": "code",
      "execution_count": 16,
      "id": "9ff4d540",
      "metadata": {
        "id": "9ff4d540"
      },
      "outputs": [],
      "source": [
        "#load the dataframe\n",
        "test_reviews_new=pd.read_csv('test_reviews_new.csv')\n"
      ]
    },
    {
      "cell_type": "code",
      "execution_count": 17,
      "id": "237c7cf1",
      "metadata": {
        "colab": {
          "base_uri": "https://localhost:8080/",
          "height": 641
        },
        "id": "237c7cf1",
        "outputId": "5579e77b-559d-45a0-afb6-814de34bff52"
      },
      "outputs": [
        {
          "output_type": "execute_result",
          "data": {
            "text/plain": [
              "      index                                        description  \\\n",
              "0         1  <b>The space</b><br />Apartment located in the...   \n",
              "1         2  IMPORTANT: In response to COVID-19, this prope...   \n",
              "2         3  Bright, beautiful, and spacious. This four-bed...   \n",
              "3         4  Charming Apartment Close to the Bay of Cascais...   \n",
              "4         5  Se procura umas férias perto da praia, casino ...   \n",
              "...     ...                                                ...   \n",
              "1384   1385  O melhor ponto de partida para descobrir Lisbo...   \n",
              "1385   1386  Casa de Baixo is a cozy and comfortable apartm...   \n",
              "1386   1387  Beautiful and peaceful apartment with a superb...   \n",
              "1387   1388  The apartment in Lisbon  has capacity for 2 pe...   \n",
              "1388   1389  Appartement situé à 5 minutes à pieds du magni...   \n",
              "\n",
              "                                             host_about  \n",
              "0     Gosto de viajar, de conhecer pessoas, gosto de...  \n",
              "1     We are the be@home Team!\\n\\nYou can count on u...  \n",
              "2     Hi there!\\n\\nWe're GuestReady, a professional ...  \n",
              "3                                                    :)  \n",
              "4     Bem vindos a Portugal!_x000D_\\nAdoro o meu Paí...  \n",
              "...                                                 ...  \n",
              "1384  I work in Hospitality and I love traveling._x0...  \n",
              "1385  Visit us, stay with us and discover the most b...  \n",
              "1386  Nice, well travelled, educated, cult, cosmopol...  \n",
              "1387  We are Feels Like Home Holiday Rentals.\\nA com...  \n",
              "1388                                  Franco-Autrichien  \n",
              "\n",
              "[1389 rows x 3 columns]"
            ],
            "text/html": [
              "\n",
              "  <div id=\"df-8b406770-fbef-4c73-af23-6949faee82b2\">\n",
              "    <div class=\"colab-df-container\">\n",
              "      <div>\n",
              "<style scoped>\n",
              "    .dataframe tbody tr th:only-of-type {\n",
              "        vertical-align: middle;\n",
              "    }\n",
              "\n",
              "    .dataframe tbody tr th {\n",
              "        vertical-align: top;\n",
              "    }\n",
              "\n",
              "    .dataframe thead th {\n",
              "        text-align: right;\n",
              "    }\n",
              "</style>\n",
              "<table border=\"1\" class=\"dataframe\">\n",
              "  <thead>\n",
              "    <tr style=\"text-align: right;\">\n",
              "      <th></th>\n",
              "      <th>index</th>\n",
              "      <th>description</th>\n",
              "      <th>host_about</th>\n",
              "    </tr>\n",
              "  </thead>\n",
              "  <tbody>\n",
              "    <tr>\n",
              "      <th>0</th>\n",
              "      <td>1</td>\n",
              "      <td>&lt;b&gt;The space&lt;/b&gt;&lt;br /&gt;Apartment located in the...</td>\n",
              "      <td>Gosto de viajar, de conhecer pessoas, gosto de...</td>\n",
              "    </tr>\n",
              "    <tr>\n",
              "      <th>1</th>\n",
              "      <td>2</td>\n",
              "      <td>IMPORTANT: In response to COVID-19, this prope...</td>\n",
              "      <td>We are the be@home Team!\\n\\nYou can count on u...</td>\n",
              "    </tr>\n",
              "    <tr>\n",
              "      <th>2</th>\n",
              "      <td>3</td>\n",
              "      <td>Bright, beautiful, and spacious. This four-bed...</td>\n",
              "      <td>Hi there!\\n\\nWe're GuestReady, a professional ...</td>\n",
              "    </tr>\n",
              "    <tr>\n",
              "      <th>3</th>\n",
              "      <td>4</td>\n",
              "      <td>Charming Apartment Close to the Bay of Cascais...</td>\n",
              "      <td>:)</td>\n",
              "    </tr>\n",
              "    <tr>\n",
              "      <th>4</th>\n",
              "      <td>5</td>\n",
              "      <td>Se procura umas férias perto da praia, casino ...</td>\n",
              "      <td>Bem vindos a Portugal!_x000D_\\nAdoro o meu Paí...</td>\n",
              "    </tr>\n",
              "    <tr>\n",
              "      <th>...</th>\n",
              "      <td>...</td>\n",
              "      <td>...</td>\n",
              "      <td>...</td>\n",
              "    </tr>\n",
              "    <tr>\n",
              "      <th>1384</th>\n",
              "      <td>1385</td>\n",
              "      <td>O melhor ponto de partida para descobrir Lisbo...</td>\n",
              "      <td>I work in Hospitality and I love traveling._x0...</td>\n",
              "    </tr>\n",
              "    <tr>\n",
              "      <th>1385</th>\n",
              "      <td>1386</td>\n",
              "      <td>Casa de Baixo is a cozy and comfortable apartm...</td>\n",
              "      <td>Visit us, stay with us and discover the most b...</td>\n",
              "    </tr>\n",
              "    <tr>\n",
              "      <th>1386</th>\n",
              "      <td>1387</td>\n",
              "      <td>Beautiful and peaceful apartment with a superb...</td>\n",
              "      <td>Nice, well travelled, educated, cult, cosmopol...</td>\n",
              "    </tr>\n",
              "    <tr>\n",
              "      <th>1387</th>\n",
              "      <td>1388</td>\n",
              "      <td>The apartment in Lisbon  has capacity for 2 pe...</td>\n",
              "      <td>We are Feels Like Home Holiday Rentals.\\nA com...</td>\n",
              "    </tr>\n",
              "    <tr>\n",
              "      <th>1388</th>\n",
              "      <td>1389</td>\n",
              "      <td>Appartement situé à 5 minutes à pieds du magni...</td>\n",
              "      <td>Franco-Autrichien</td>\n",
              "    </tr>\n",
              "  </tbody>\n",
              "</table>\n",
              "<p>1389 rows × 3 columns</p>\n",
              "</div>\n",
              "      <button class=\"colab-df-convert\" onclick=\"convertToInteractive('df-8b406770-fbef-4c73-af23-6949faee82b2')\"\n",
              "              title=\"Convert this dataframe to an interactive table.\"\n",
              "              style=\"display:none;\">\n",
              "        \n",
              "  <svg xmlns=\"http://www.w3.org/2000/svg\" height=\"24px\"viewBox=\"0 0 24 24\"\n",
              "       width=\"24px\">\n",
              "    <path d=\"M0 0h24v24H0V0z\" fill=\"none\"/>\n",
              "    <path d=\"M18.56 5.44l.94 2.06.94-2.06 2.06-.94-2.06-.94-.94-2.06-.94 2.06-2.06.94zm-11 1L8.5 8.5l.94-2.06 2.06-.94-2.06-.94L8.5 2.5l-.94 2.06-2.06.94zm10 10l.94 2.06.94-2.06 2.06-.94-2.06-.94-.94-2.06-.94 2.06-2.06.94z\"/><path d=\"M17.41 7.96l-1.37-1.37c-.4-.4-.92-.59-1.43-.59-.52 0-1.04.2-1.43.59L10.3 9.45l-7.72 7.72c-.78.78-.78 2.05 0 2.83L4 21.41c.39.39.9.59 1.41.59.51 0 1.02-.2 1.41-.59l7.78-7.78 2.81-2.81c.8-.78.8-2.07 0-2.86zM5.41 20L4 18.59l7.72-7.72 1.47 1.35L5.41 20z\"/>\n",
              "  </svg>\n",
              "      </button>\n",
              "      \n",
              "  <style>\n",
              "    .colab-df-container {\n",
              "      display:flex;\n",
              "      flex-wrap:wrap;\n",
              "      gap: 12px;\n",
              "    }\n",
              "\n",
              "    .colab-df-convert {\n",
              "      background-color: #E8F0FE;\n",
              "      border: none;\n",
              "      border-radius: 50%;\n",
              "      cursor: pointer;\n",
              "      display: none;\n",
              "      fill: #1967D2;\n",
              "      height: 32px;\n",
              "      padding: 0 0 0 0;\n",
              "      width: 32px;\n",
              "    }\n",
              "\n",
              "    .colab-df-convert:hover {\n",
              "      background-color: #E2EBFA;\n",
              "      box-shadow: 0px 1px 2px rgba(60, 64, 67, 0.3), 0px 1px 3px 1px rgba(60, 64, 67, 0.15);\n",
              "      fill: #174EA6;\n",
              "    }\n",
              "\n",
              "    [theme=dark] .colab-df-convert {\n",
              "      background-color: #3B4455;\n",
              "      fill: #D2E3FC;\n",
              "    }\n",
              "\n",
              "    [theme=dark] .colab-df-convert:hover {\n",
              "      background-color: #434B5C;\n",
              "      box-shadow: 0px 1px 3px 1px rgba(0, 0, 0, 0.15);\n",
              "      filter: drop-shadow(0px 1px 2px rgba(0, 0, 0, 0.3));\n",
              "      fill: #FFFFFF;\n",
              "    }\n",
              "  </style>\n",
              "\n",
              "      <script>\n",
              "        const buttonEl =\n",
              "          document.querySelector('#df-8b406770-fbef-4c73-af23-6949faee82b2 button.colab-df-convert');\n",
              "        buttonEl.style.display =\n",
              "          google.colab.kernel.accessAllowed ? 'block' : 'none';\n",
              "\n",
              "        async function convertToInteractive(key) {\n",
              "          const element = document.querySelector('#df-8b406770-fbef-4c73-af23-6949faee82b2');\n",
              "          const dataTable =\n",
              "            await google.colab.kernel.invokeFunction('convertToInteractive',\n",
              "                                                     [key], {});\n",
              "          if (!dataTable) return;\n",
              "\n",
              "          const docLinkHtml = 'Like what you see? Visit the ' +\n",
              "            '<a target=\"_blank\" href=https://colab.research.google.com/notebooks/data_table.ipynb>data table notebook</a>'\n",
              "            + ' to learn more about interactive tables.';\n",
              "          element.innerHTML = '';\n",
              "          dataTable['output_type'] = 'display_data';\n",
              "          await google.colab.output.renderOutput(dataTable, element);\n",
              "          const docLink = document.createElement('div');\n",
              "          docLink.innerHTML = docLinkHtml;\n",
              "          element.appendChild(docLink);\n",
              "        }\n",
              "      </script>\n",
              "    </div>\n",
              "  </div>\n",
              "  "
            ]
          },
          "metadata": {},
          "execution_count": 17
        }
      ],
      "source": [
        "df_test"
      ]
    },
    {
      "cell_type": "code",
      "execution_count": 18,
      "id": "0927512f",
      "metadata": {
        "id": "0927512f"
      },
      "outputs": [],
      "source": [
        "#merged df_test with test_reviews_new by index\n",
        "merged_df_test = df_test.merge(test_reviews_new[['comments', 'index']], on='index', how='left')\n",
        "\n",
        "#fill with empty space where is mising commnet\n",
        "merged_df_test['comments'].fillna('', inplace=True)\n",
        "\n",
        "#merged all text in a single column text\n",
        "merged_df_test['text'] = merged_df_test['description'] + ' ' + merged_df_test['host_about']+' '+merged_df_test['comments']\n",
        "\n",
        "#drop the old columns\n",
        "merged_df_test = merged_df_test.drop(['comments', 'description','host_about'], axis=1)\n",
        "\n",
        "#set index column as index\n",
        "merged_df_test.set_index('index',inplace=True)"
      ]
    },
    {
      "cell_type": "code",
      "execution_count": 19,
      "id": "a2945891",
      "metadata": {
        "colab": {
          "base_uri": "https://localhost:8080/",
          "height": 455
        },
        "id": "a2945891",
        "outputId": "e1b31d81-35f7-4cdf-8899-d647979be8b4"
      },
      "outputs": [
        {
          "output_type": "execute_result",
          "data": {
            "text/plain": [
              "                                                    text\n",
              "index                                                   \n",
              "1      <b>The space</b><br />Apartment located in the...\n",
              "2      IMPORTANT: In response to COVID-19, this prope...\n",
              "3      Bright, beautiful, and spacious. This four-bed...\n",
              "4      Charming Apartment Close to the Bay of Cascais...\n",
              "5      Se procura umas férias perto da praia, casino ...\n",
              "...                                                  ...\n",
              "1385   O melhor ponto de partida para descobrir Lisbo...\n",
              "1386   Casa de Baixo is a cozy and comfortable apartm...\n",
              "1387   Beautiful and peaceful apartment with a superb...\n",
              "1388   The apartment in Lisbon  has capacity for 2 pe...\n",
              "1389   Appartement situé à 5 minutes à pieds du magni...\n",
              "\n",
              "[1389 rows x 1 columns]"
            ],
            "text/html": [
              "\n",
              "  <div id=\"df-4767387c-bbef-4a00-ba67-a8d64782632e\">\n",
              "    <div class=\"colab-df-container\">\n",
              "      <div>\n",
              "<style scoped>\n",
              "    .dataframe tbody tr th:only-of-type {\n",
              "        vertical-align: middle;\n",
              "    }\n",
              "\n",
              "    .dataframe tbody tr th {\n",
              "        vertical-align: top;\n",
              "    }\n",
              "\n",
              "    .dataframe thead th {\n",
              "        text-align: right;\n",
              "    }\n",
              "</style>\n",
              "<table border=\"1\" class=\"dataframe\">\n",
              "  <thead>\n",
              "    <tr style=\"text-align: right;\">\n",
              "      <th></th>\n",
              "      <th>text</th>\n",
              "    </tr>\n",
              "    <tr>\n",
              "      <th>index</th>\n",
              "      <th></th>\n",
              "    </tr>\n",
              "  </thead>\n",
              "  <tbody>\n",
              "    <tr>\n",
              "      <th>1</th>\n",
              "      <td>&lt;b&gt;The space&lt;/b&gt;&lt;br /&gt;Apartment located in the...</td>\n",
              "    </tr>\n",
              "    <tr>\n",
              "      <th>2</th>\n",
              "      <td>IMPORTANT: In response to COVID-19, this prope...</td>\n",
              "    </tr>\n",
              "    <tr>\n",
              "      <th>3</th>\n",
              "      <td>Bright, beautiful, and spacious. This four-bed...</td>\n",
              "    </tr>\n",
              "    <tr>\n",
              "      <th>4</th>\n",
              "      <td>Charming Apartment Close to the Bay of Cascais...</td>\n",
              "    </tr>\n",
              "    <tr>\n",
              "      <th>5</th>\n",
              "      <td>Se procura umas férias perto da praia, casino ...</td>\n",
              "    </tr>\n",
              "    <tr>\n",
              "      <th>...</th>\n",
              "      <td>...</td>\n",
              "    </tr>\n",
              "    <tr>\n",
              "      <th>1385</th>\n",
              "      <td>O melhor ponto de partida para descobrir Lisbo...</td>\n",
              "    </tr>\n",
              "    <tr>\n",
              "      <th>1386</th>\n",
              "      <td>Casa de Baixo is a cozy and comfortable apartm...</td>\n",
              "    </tr>\n",
              "    <tr>\n",
              "      <th>1387</th>\n",
              "      <td>Beautiful and peaceful apartment with a superb...</td>\n",
              "    </tr>\n",
              "    <tr>\n",
              "      <th>1388</th>\n",
              "      <td>The apartment in Lisbon  has capacity for 2 pe...</td>\n",
              "    </tr>\n",
              "    <tr>\n",
              "      <th>1389</th>\n",
              "      <td>Appartement situé à 5 minutes à pieds du magni...</td>\n",
              "    </tr>\n",
              "  </tbody>\n",
              "</table>\n",
              "<p>1389 rows × 1 columns</p>\n",
              "</div>\n",
              "      <button class=\"colab-df-convert\" onclick=\"convertToInteractive('df-4767387c-bbef-4a00-ba67-a8d64782632e')\"\n",
              "              title=\"Convert this dataframe to an interactive table.\"\n",
              "              style=\"display:none;\">\n",
              "        \n",
              "  <svg xmlns=\"http://www.w3.org/2000/svg\" height=\"24px\"viewBox=\"0 0 24 24\"\n",
              "       width=\"24px\">\n",
              "    <path d=\"M0 0h24v24H0V0z\" fill=\"none\"/>\n",
              "    <path d=\"M18.56 5.44l.94 2.06.94-2.06 2.06-.94-2.06-.94-.94-2.06-.94 2.06-2.06.94zm-11 1L8.5 8.5l.94-2.06 2.06-.94-2.06-.94L8.5 2.5l-.94 2.06-2.06.94zm10 10l.94 2.06.94-2.06 2.06-.94-2.06-.94-.94-2.06-.94 2.06-2.06.94z\"/><path d=\"M17.41 7.96l-1.37-1.37c-.4-.4-.92-.59-1.43-.59-.52 0-1.04.2-1.43.59L10.3 9.45l-7.72 7.72c-.78.78-.78 2.05 0 2.83L4 21.41c.39.39.9.59 1.41.59.51 0 1.02-.2 1.41-.59l7.78-7.78 2.81-2.81c.8-.78.8-2.07 0-2.86zM5.41 20L4 18.59l7.72-7.72 1.47 1.35L5.41 20z\"/>\n",
              "  </svg>\n",
              "      </button>\n",
              "      \n",
              "  <style>\n",
              "    .colab-df-container {\n",
              "      display:flex;\n",
              "      flex-wrap:wrap;\n",
              "      gap: 12px;\n",
              "    }\n",
              "\n",
              "    .colab-df-convert {\n",
              "      background-color: #E8F0FE;\n",
              "      border: none;\n",
              "      border-radius: 50%;\n",
              "      cursor: pointer;\n",
              "      display: none;\n",
              "      fill: #1967D2;\n",
              "      height: 32px;\n",
              "      padding: 0 0 0 0;\n",
              "      width: 32px;\n",
              "    }\n",
              "\n",
              "    .colab-df-convert:hover {\n",
              "      background-color: #E2EBFA;\n",
              "      box-shadow: 0px 1px 2px rgba(60, 64, 67, 0.3), 0px 1px 3px 1px rgba(60, 64, 67, 0.15);\n",
              "      fill: #174EA6;\n",
              "    }\n",
              "\n",
              "    [theme=dark] .colab-df-convert {\n",
              "      background-color: #3B4455;\n",
              "      fill: #D2E3FC;\n",
              "    }\n",
              "\n",
              "    [theme=dark] .colab-df-convert:hover {\n",
              "      background-color: #434B5C;\n",
              "      box-shadow: 0px 1px 3px 1px rgba(0, 0, 0, 0.15);\n",
              "      filter: drop-shadow(0px 1px 2px rgba(0, 0, 0, 0.3));\n",
              "      fill: #FFFFFF;\n",
              "    }\n",
              "  </style>\n",
              "\n",
              "      <script>\n",
              "        const buttonEl =\n",
              "          document.querySelector('#df-4767387c-bbef-4a00-ba67-a8d64782632e button.colab-df-convert');\n",
              "        buttonEl.style.display =\n",
              "          google.colab.kernel.accessAllowed ? 'block' : 'none';\n",
              "\n",
              "        async function convertToInteractive(key) {\n",
              "          const element = document.querySelector('#df-4767387c-bbef-4a00-ba67-a8d64782632e');\n",
              "          const dataTable =\n",
              "            await google.colab.kernel.invokeFunction('convertToInteractive',\n",
              "                                                     [key], {});\n",
              "          if (!dataTable) return;\n",
              "\n",
              "          const docLinkHtml = 'Like what you see? Visit the ' +\n",
              "            '<a target=\"_blank\" href=https://colab.research.google.com/notebooks/data_table.ipynb>data table notebook</a>'\n",
              "            + ' to learn more about interactive tables.';\n",
              "          element.innerHTML = '';\n",
              "          dataTable['output_type'] = 'display_data';\n",
              "          await google.colab.output.renderOutput(dataTable, element);\n",
              "          const docLink = document.createElement('div');\n",
              "          docLink.innerHTML = docLinkHtml;\n",
              "          element.appendChild(docLink);\n",
              "        }\n",
              "      </script>\n",
              "    </div>\n",
              "  </div>\n",
              "  "
            ]
          },
          "metadata": {},
          "execution_count": 19
        }
      ],
      "source": [
        "merged_df_test"
      ]
    },
    {
      "cell_type": "code",
      "execution_count": 20,
      "id": "14169fa6",
      "metadata": {
        "id": "14169fa6"
      },
      "outputs": [],
      "source": [
        "# Save the DataFrame to a CSV file\n",
        "merged_df_test.to_csv('merged_df_test.csv', index=False)"
      ]
    },
    {
      "cell_type": "markdown",
      "id": "cedc1a45",
      "metadata": {
        "id": "cedc1a45"
      },
      "source": [
        "### Exploratory Analysis"
      ]
    },
    {
      "cell_type": "code",
      "execution_count": 21,
      "id": "2defcdba",
      "metadata": {
        "colab": {
          "base_uri": "https://localhost:8080/",
          "height": 455
        },
        "id": "2defcdba",
        "outputId": "a9c94934-c836-4db4-c010-66ce590a78bf"
      },
      "outputs": [
        {
          "output_type": "execute_result",
          "data": {
            "text/plain": [
              "       unlisted                                               text\n",
              "index                                                             \n",
              "1             0  This is a shared mixed room in our hostel, wit...\n",
              "2             1  O meu espaço fica perto de Parque Eduardo VII,...\n",
              "3             1  Trafaria’s House is a cozy and familiar villa ...\n",
              "4             0  Apartamento Charmoso no Chiado, Entre o Largo ...\n",
              "5             0  Joli appartement  en bordure de mer.<br /> 2 m...\n",
              "...         ...                                                ...\n",
              "12492         0  CAT’S BY BAIRRO ALTO<br /><br />This cozy apar...\n",
              "12493         0  Beautifully located in the heart of Lisbon's h...\n",
              "12494         0  Enjoy breakfast in the sleek kitchen with its ...\n",
              "12495         1  A Terra da Eira é uma casa de campo rodeada de...\n",
              "12496         1  This brandnew Apartment combines elegant charm...\n",
              "\n",
              "[12496 rows x 2 columns]"
            ],
            "text/html": [
              "\n",
              "  <div id=\"df-f9f1e380-52f7-47e9-b783-0ef1348b8f36\">\n",
              "    <div class=\"colab-df-container\">\n",
              "      <div>\n",
              "<style scoped>\n",
              "    .dataframe tbody tr th:only-of-type {\n",
              "        vertical-align: middle;\n",
              "    }\n",
              "\n",
              "    .dataframe tbody tr th {\n",
              "        vertical-align: top;\n",
              "    }\n",
              "\n",
              "    .dataframe thead th {\n",
              "        text-align: right;\n",
              "    }\n",
              "</style>\n",
              "<table border=\"1\" class=\"dataframe\">\n",
              "  <thead>\n",
              "    <tr style=\"text-align: right;\">\n",
              "      <th></th>\n",
              "      <th>unlisted</th>\n",
              "      <th>text</th>\n",
              "    </tr>\n",
              "    <tr>\n",
              "      <th>index</th>\n",
              "      <th></th>\n",
              "      <th></th>\n",
              "    </tr>\n",
              "  </thead>\n",
              "  <tbody>\n",
              "    <tr>\n",
              "      <th>1</th>\n",
              "      <td>0</td>\n",
              "      <td>This is a shared mixed room in our hostel, wit...</td>\n",
              "    </tr>\n",
              "    <tr>\n",
              "      <th>2</th>\n",
              "      <td>1</td>\n",
              "      <td>O meu espaço fica perto de Parque Eduardo VII,...</td>\n",
              "    </tr>\n",
              "    <tr>\n",
              "      <th>3</th>\n",
              "      <td>1</td>\n",
              "      <td>Trafaria’s House is a cozy and familiar villa ...</td>\n",
              "    </tr>\n",
              "    <tr>\n",
              "      <th>4</th>\n",
              "      <td>0</td>\n",
              "      <td>Apartamento Charmoso no Chiado, Entre o Largo ...</td>\n",
              "    </tr>\n",
              "    <tr>\n",
              "      <th>5</th>\n",
              "      <td>0</td>\n",
              "      <td>Joli appartement  en bordure de mer.&lt;br /&gt; 2 m...</td>\n",
              "    </tr>\n",
              "    <tr>\n",
              "      <th>...</th>\n",
              "      <td>...</td>\n",
              "      <td>...</td>\n",
              "    </tr>\n",
              "    <tr>\n",
              "      <th>12492</th>\n",
              "      <td>0</td>\n",
              "      <td>CAT’S BY BAIRRO ALTO&lt;br /&gt;&lt;br /&gt;This cozy apar...</td>\n",
              "    </tr>\n",
              "    <tr>\n",
              "      <th>12493</th>\n",
              "      <td>0</td>\n",
              "      <td>Beautifully located in the heart of Lisbon's h...</td>\n",
              "    </tr>\n",
              "    <tr>\n",
              "      <th>12494</th>\n",
              "      <td>0</td>\n",
              "      <td>Enjoy breakfast in the sleek kitchen with its ...</td>\n",
              "    </tr>\n",
              "    <tr>\n",
              "      <th>12495</th>\n",
              "      <td>1</td>\n",
              "      <td>A Terra da Eira é uma casa de campo rodeada de...</td>\n",
              "    </tr>\n",
              "    <tr>\n",
              "      <th>12496</th>\n",
              "      <td>1</td>\n",
              "      <td>This brandnew Apartment combines elegant charm...</td>\n",
              "    </tr>\n",
              "  </tbody>\n",
              "</table>\n",
              "<p>12496 rows × 2 columns</p>\n",
              "</div>\n",
              "      <button class=\"colab-df-convert\" onclick=\"convertToInteractive('df-f9f1e380-52f7-47e9-b783-0ef1348b8f36')\"\n",
              "              title=\"Convert this dataframe to an interactive table.\"\n",
              "              style=\"display:none;\">\n",
              "        \n",
              "  <svg xmlns=\"http://www.w3.org/2000/svg\" height=\"24px\"viewBox=\"0 0 24 24\"\n",
              "       width=\"24px\">\n",
              "    <path d=\"M0 0h24v24H0V0z\" fill=\"none\"/>\n",
              "    <path d=\"M18.56 5.44l.94 2.06.94-2.06 2.06-.94-2.06-.94-.94-2.06-.94 2.06-2.06.94zm-11 1L8.5 8.5l.94-2.06 2.06-.94-2.06-.94L8.5 2.5l-.94 2.06-2.06.94zm10 10l.94 2.06.94-2.06 2.06-.94-2.06-.94-.94-2.06-.94 2.06-2.06.94z\"/><path d=\"M17.41 7.96l-1.37-1.37c-.4-.4-.92-.59-1.43-.59-.52 0-1.04.2-1.43.59L10.3 9.45l-7.72 7.72c-.78.78-.78 2.05 0 2.83L4 21.41c.39.39.9.59 1.41.59.51 0 1.02-.2 1.41-.59l7.78-7.78 2.81-2.81c.8-.78.8-2.07 0-2.86zM5.41 20L4 18.59l7.72-7.72 1.47 1.35L5.41 20z\"/>\n",
              "  </svg>\n",
              "      </button>\n",
              "      \n",
              "  <style>\n",
              "    .colab-df-container {\n",
              "      display:flex;\n",
              "      flex-wrap:wrap;\n",
              "      gap: 12px;\n",
              "    }\n",
              "\n",
              "    .colab-df-convert {\n",
              "      background-color: #E8F0FE;\n",
              "      border: none;\n",
              "      border-radius: 50%;\n",
              "      cursor: pointer;\n",
              "      display: none;\n",
              "      fill: #1967D2;\n",
              "      height: 32px;\n",
              "      padding: 0 0 0 0;\n",
              "      width: 32px;\n",
              "    }\n",
              "\n",
              "    .colab-df-convert:hover {\n",
              "      background-color: #E2EBFA;\n",
              "      box-shadow: 0px 1px 2px rgba(60, 64, 67, 0.3), 0px 1px 3px 1px rgba(60, 64, 67, 0.15);\n",
              "      fill: #174EA6;\n",
              "    }\n",
              "\n",
              "    [theme=dark] .colab-df-convert {\n",
              "      background-color: #3B4455;\n",
              "      fill: #D2E3FC;\n",
              "    }\n",
              "\n",
              "    [theme=dark] .colab-df-convert:hover {\n",
              "      background-color: #434B5C;\n",
              "      box-shadow: 0px 1px 3px 1px rgba(0, 0, 0, 0.15);\n",
              "      filter: drop-shadow(0px 1px 2px rgba(0, 0, 0, 0.3));\n",
              "      fill: #FFFFFF;\n",
              "    }\n",
              "  </style>\n",
              "\n",
              "      <script>\n",
              "        const buttonEl =\n",
              "          document.querySelector('#df-f9f1e380-52f7-47e9-b783-0ef1348b8f36 button.colab-df-convert');\n",
              "        buttonEl.style.display =\n",
              "          google.colab.kernel.accessAllowed ? 'block' : 'none';\n",
              "\n",
              "        async function convertToInteractive(key) {\n",
              "          const element = document.querySelector('#df-f9f1e380-52f7-47e9-b783-0ef1348b8f36');\n",
              "          const dataTable =\n",
              "            await google.colab.kernel.invokeFunction('convertToInteractive',\n",
              "                                                     [key], {});\n",
              "          if (!dataTable) return;\n",
              "\n",
              "          const docLinkHtml = 'Like what you see? Visit the ' +\n",
              "            '<a target=\"_blank\" href=https://colab.research.google.com/notebooks/data_table.ipynb>data table notebook</a>'\n",
              "            + ' to learn more about interactive tables.';\n",
              "          element.innerHTML = '';\n",
              "          dataTable['output_type'] = 'display_data';\n",
              "          await google.colab.output.renderOutput(dataTable, element);\n",
              "          const docLink = document.createElement('div');\n",
              "          docLink.innerHTML = docLinkHtml;\n",
              "          element.appendChild(docLink);\n",
              "        }\n",
              "      </script>\n",
              "    </div>\n",
              "  </div>\n",
              "  "
            ]
          },
          "metadata": {},
          "execution_count": 21
        }
      ],
      "source": [
        "merged_df"
      ]
    },
    {
      "cell_type": "code",
      "execution_count": 22,
      "id": "9e22ea6f",
      "metadata": {
        "colab": {
          "base_uri": "https://localhost:8080/"
        },
        "id": "9e22ea6f",
        "outputId": "276a9e25-d5a3-420e-e8bf-2f3dbca5a3ce"
      },
      "outputs": [
        {
          "output_type": "execute_result",
          "data": {
            "text/plain": [
              "1"
            ]
          },
          "metadata": {},
          "execution_count": 22
        }
      ],
      "source": [
        "(merged_df['unlisted']).max()"
      ]
    },
    {
      "cell_type": "code",
      "execution_count": 23,
      "id": "6b51b014",
      "metadata": {
        "colab": {
          "base_uri": "https://localhost:8080/"
        },
        "id": "6b51b014",
        "outputId": "4d281165-5c72-46d2-ef23-0c0d4624008e"
      },
      "outputs": [
        {
          "output_type": "execute_result",
          "data": {
            "text/plain": [
              "0"
            ]
          },
          "metadata": {},
          "execution_count": 23
        }
      ],
      "source": [
        "(merged_df['unlisted']).min()"
      ]
    },
    {
      "cell_type": "code",
      "execution_count": 24,
      "id": "22bd5b38",
      "metadata": {
        "colab": {
          "base_uri": "https://localhost:8080/"
        },
        "id": "22bd5b38",
        "outputId": "a0300f98-9ee8-42bf-e330-9450c983a624"
      },
      "outputs": [
        {
          "output_type": "execute_result",
          "data": {
            "text/plain": [
              "0.27712868117797695"
            ]
          },
          "metadata": {},
          "execution_count": 24
        }
      ],
      "source": [
        "(merged_df['unlisted']).mean()"
      ]
    },
    {
      "cell_type": "code",
      "execution_count": 25,
      "id": "8f97133f",
      "metadata": {
        "colab": {
          "base_uri": "https://localhost:8080/"
        },
        "id": "8f97133f",
        "outputId": "1c3b7e38-3d37-438e-c950-df6d0d3c74c0"
      },
      "outputs": [
        {
          "output_type": "execute_result",
          "data": {
            "text/plain": [
              "0.4475984896418051"
            ]
          },
          "metadata": {},
          "execution_count": 25
        }
      ],
      "source": [
        "(merged_df['unlisted']).std()"
      ]
    },
    {
      "cell_type": "code",
      "execution_count": 26,
      "id": "8dd76435",
      "metadata": {
        "colab": {
          "base_uri": "https://localhost:8080/"
        },
        "id": "8dd76435",
        "outputId": "4a4dcba7-b6a1-4dcc-fca3-0e5b553c8d2d"
      },
      "outputs": [
        {
          "output_type": "execute_result",
          "data": {
            "text/plain": [
              "0.0"
            ]
          },
          "metadata": {},
          "execution_count": 26
        }
      ],
      "source": [
        "(merged_df['unlisted']).median()"
      ]
    },
    {
      "cell_type": "code",
      "execution_count": 27,
      "id": "28630ab8",
      "metadata": {
        "colab": {
          "base_uri": "https://localhost:8080/"
        },
        "id": "28630ab8",
        "outputId": "9ab74de4-de27-4743-8fb9-4a0e184a0917"
      },
      "outputs": [
        {
          "output_type": "execute_result",
          "data": {
            "text/plain": [
              "array([0, 1])"
            ]
          },
          "metadata": {},
          "execution_count": 27
        }
      ],
      "source": [
        "(merged_df['unlisted']).unique()"
      ]
    },
    {
      "cell_type": "code",
      "execution_count": 28,
      "id": "3d140b74",
      "metadata": {
        "colab": {
          "base_uri": "https://localhost:8080/"
        },
        "id": "3d140b74",
        "outputId": "516c12e3-6512-48c4-c4de-70af799d068c"
      },
      "outputs": [
        {
          "output_type": "execute_result",
          "data": {
            "text/plain": [
              "count    12496.000000\n",
              "mean         0.277129\n",
              "std          0.447598\n",
              "min          0.000000\n",
              "25%          0.000000\n",
              "50%          0.000000\n",
              "75%          1.000000\n",
              "max          1.000000\n",
              "Name: unlisted, dtype: float64"
            ]
          },
          "metadata": {},
          "execution_count": 28
        }
      ],
      "source": [
        "merged_df['unlisted'].describe()"
      ]
    },
    {
      "cell_type": "code",
      "execution_count": 29,
      "id": "c35f187e",
      "metadata": {
        "colab": {
          "base_uri": "https://localhost:8080/",
          "height": 447
        },
        "id": "c35f187e",
        "outputId": "ae262720-d5a8-46cd-d0be-a7280f5098ad"
      },
      "outputs": [
        {
          "output_type": "execute_result",
          "data": {
            "text/plain": [
              "<Axes: >"
            ]
          },
          "metadata": {},
          "execution_count": 29
        },
        {
          "output_type": "display_data",
          "data": {
            "text/plain": [
              "<Figure size 640x480 with 1 Axes>"
            ],
            "image/png": "[encoded data removed]"
          },
          "metadata": {}
        }
      ],
      "source": [
        "merged_df['unlisted'].hist()"
      ]
    },
    {
      "cell_type": "code",
      "execution_count": 30,
      "id": "dd0cb6fd",
      "metadata": {
        "colab": {
          "base_uri": "https://localhost:8080/",
          "height": 447
        },
        "id": "dd0cb6fd",
        "outputId": "3ab1437c-e57f-4188-9805-3f1619f2f5ba"
      },
      "outputs": [
        {
          "output_type": "execute_result",
          "data": {
            "text/plain": [
              "<Axes: >"
            ]
          },
          "metadata": {},
          "execution_count": 30
        },
        {
          "output_type": "display_data",
          "data": {
            "text/plain": [
              "<Figure size 640x480 with 1 Axes>"
            ],
            "image/png": "[encoded data removed]"
          },
          "metadata": {}
        }
      ],
      "source": [
        "merged_df.boxplot(['unlisted'])"
      ]
    },
    {
      "cell_type": "code",
      "execution_count": 31,
      "id": "ff6efb9d",
      "metadata": {
        "colab": {
          "base_uri": "https://localhost:8080/"
        },
        "id": "ff6efb9d",
        "outputId": "e82d6e71-a3f7-4951-b6f6-9f9deb2f7a1b"
      },
      "outputs": [
        {
          "output_type": "execute_result",
          "data": {
            "text/plain": [
              "0"
            ]
          },
          "metadata": {},
          "execution_count": 31
        }
      ],
      "source": [
        "merged_df['unlisted'].isna().sum()"
      ]
    },
    {
      "cell_type": "markdown",
      "id": "b7fbcb61",
      "metadata": {
        "id": "b7fbcb61"
      },
      "source": [
        "### Text (Independent features)"
      ]
    },
    {
      "cell_type": "code",
      "execution_count": 32,
      "id": "c33cc7e4",
      "metadata": {
        "colab": {
          "base_uri": "https://localhost:8080/",
          "height": 244
        },
        "id": "c33cc7e4",
        "outputId": "d6dbebdd-d56d-4875-b8a3-c55c6f39457c"
      },
      "outputs": [
        {
          "output_type": "execute_result",
          "data": {
            "text/plain": [
              "\"Walk up original wooden stairs to the entrance of an apartment bathed in light. Here, wooden fixtures rest atop hardwood floors and are accentuated by bold blues and vibrant plant life. Play a game on the tennis court and dive into the pool.<br /><br /><b>License number</b><br />80419/ALServiced holiday apartments casa in Azenhas do Mar combining the amenities of a luxury hotel with the space and privacy of your own vacation house. WOW, what a great stay! The spacious apartment is brand new with a super nice interior and the best view over the ocean. The light that falls into the rooms is so special at different times of the day, it is simply magic! It really felt like home from the very first moment, the house by the sea you always dreamt of. A coastal walk starts right at the property, which leads you to Azenhas do Mar in just a few minutes (beach, restaurants, but no supermarket). We enjoyed a breathtaking sunset with a glass of wine right by the pool. The beds are MEGA comfy and after a day outdoors with lots of sea breeze we slept so well. Yoga mats are provided. We definitely will be back for a longer stay!!!\\nOUTPOST is a beautiful place to stay in Azenhas Do Mar. The property is newly renovated and looks and feels brand new. Owner Chris oversees every detail and he has great attention to style and detail - the towels and bed linens smell amazing!!  We arrived after dark and hungry on our first night and Chris kindly let us follow him to his favorite restaurant in the area for dinner which was one of our best on the trip. The property is pristinely kept. The private pool area is wonderful and would make this a fantastic place in the summer. Historic Sintra is only a 15 min drive away but you feel like you’ve escaped all the hustle & bustle at OUTPOST. We only had one hiccup whist there. We had mistakenly left an open bag of sugar in the kitchen at night and some ants had found it by the morning. Chris responded immediately and the problem was taken care of by the time we returned from breakfast. He is the perfect host who is more than eager to meet any need that comes up. We stayed at 5 different AIRB&B places on our trip. We enjoyed all of them in their own way but OUTPOST was undoubtedly the best. Very highly recommended.\\nReally appreciated our stay at this beautifully designed place!!! Apartment is so nicely decorated, and well planned: huge bathroom, open concept design of living room, dining room and kitchen. And what a view of the ocean, breathtaking! Kris - the host is super helpful, has lots of tips and recommendations.\\nOutstanding location and view<br/>Super clean and nice<br/>We had some misunderstandings but solved in peace<br/>Recommend!\\nWundervoll! Tolle Aussicht in einem ansprechenden Zuhause, im Sommer bestimmt noch besser zu nutzen.\\nWe LOVED our stay! We reviewed you all 5 stars on everything. The joy and hospitality that is shared with your guests is as spectacular as the view from the house. Be sure to read the folder provided at check in with ideas of things to do bc that’s how we found the most fabulous restaurant in town- Patricia’s! Cannot day enough wonderful things about this place and all of the people we met.\\nGorgeous apartment and location! Beautiful, clean, open space. 5 minute walk from the beach but you can see the ocean right from the apartment. Loved staying here. The outdoor spaces (pool, seating, etc.) are shared with guests in other apartments but everyone is respectful and it felt like you had your own space. Can’t recommend enough!\\nThis is a great place! Only a 45-50 min drive from downtown Lisbon. You're literally on the coast, get to wake up to seeing the waves and the inside/decor is great. Also beds are really comfortable.\\nThe host canceled this reservation 29 days before arrival. This is an automated posting.\\nthis is not at all what we expected.  when we arrived at the place we decided it was better to leave.  The description indicates that this is the entire housing.  The house has a bad smell and every word of the neighbors is heard behind the wall.  I do not recommend this accommodation. for the money they ask for. You can rent a whole villa with a private pool and no neighbors.  the owner answered for a very long time.  we have a negative impression\\nI can't recommend this place enough, it looked amazing in photos but even better in person! There were so many little details that exceeded my every expectation and made the experience absolutely enjoyable.<br/><br/>Will be coming back over and over again!\\nResponsável, muito simpática sempre a escuta de qualquer problema.<br/>Equipa agradável.\\nOutpost was so amazing! We had the most wonderful time in this beautiful apartment. The location is incredible and has everything you need. We travelled with our 6 month old and it was the perfect place for a baby. Host is wonderful and check in and out was so easy. Definitely worth the money!\""
            ],
            "application/vnd.google.colaboratory.intrinsic+json": {
              "type": "string"
            }
          },
          "metadata": {},
          "execution_count": 32
        }
      ],
      "source": [
        "merged_df['text'][10]"
      ]
    },
    {
      "cell_type": "code",
      "execution_count": 33,
      "id": "039052ee",
      "metadata": {
        "colab": {
          "base_uri": "https://localhost:8080/"
        },
        "id": "039052ee",
        "outputId": "92f133cf-45ea-4301-8b01-314ab67df6fe"
      },
      "outputs": [
        {
          "output_type": "execute_result",
          "data": {
            "text/plain": [
              "0"
            ]
          },
          "metadata": {},
          "execution_count": 33
        }
      ],
      "source": [
        "merged_df['text'].isna().sum()"
      ]
    },
    {
      "cell_type": "markdown",
      "id": "854997fa",
      "metadata": {
        "id": "854997fa"
      },
      "source": [
        "### Word Count"
      ]
    },
    {
      "cell_type": "code",
      "execution_count": 34,
      "id": "fc36ed71",
      "metadata": {
        "colab": {
          "base_uri": "https://localhost:8080/",
          "height": 238
        },
        "id": "fc36ed71",
        "outputId": "b8bca88c-5a15-415c-e385-397534ea86c2"
      },
      "outputs": [
        {
          "output_type": "execute_result",
          "data": {
            "text/plain": [
              "                                                    text  word_count\n",
              "index                                                               \n",
              "1      This is a shared mixed room in our hostel, wit...        1412\n",
              "2      O meu espaço fica perto de Parque Eduardo VII,...          47\n",
              "3      Trafaria’s House is a cozy and familiar villa ...         215\n",
              "4      Apartamento Charmoso no Chiado, Entre o Largo ...          78\n",
              "5      Joli appartement  en bordure de mer.<br /> 2 m...        1161"
            ],
            "text/html": [
              "\n",
              "  <div id=\"df-fb8894c3-0703-44dd-b12e-d38ea46a1971\">\n",
              "    <div class=\"colab-df-container\">\n",
              "      <div>\n",
              "<style scoped>\n",
              "    .dataframe tbody tr th:only-of-type {\n",
              "        vertical-align: middle;\n",
              "    }\n",
              "\n",
              "    .dataframe tbody tr th {\n",
              "        vertical-align: top;\n",
              "    }\n",
              "\n",
              "    .dataframe thead th {\n",
              "        text-align: right;\n",
              "    }\n",
              "</style>\n",
              "<table border=\"1\" class=\"dataframe\">\n",
              "  <thead>\n",
              "    <tr style=\"text-align: right;\">\n",
              "      <th></th>\n",
              "      <th>text</th>\n",
              "      <th>word_count</th>\n",
              "    </tr>\n",
              "    <tr>\n",
              "      <th>index</th>\n",
              "      <th></th>\n",
              "      <th></th>\n",
              "    </tr>\n",
              "  </thead>\n",
              "  <tbody>\n",
              "    <tr>\n",
              "      <th>1</th>\n",
              "      <td>This is a shared mixed room in our hostel, wit...</td>\n",
              "      <td>1412</td>\n",
              "    </tr>\n",
              "    <tr>\n",
              "      <th>2</th>\n",
              "      <td>O meu espaço fica perto de Parque Eduardo VII,...</td>\n",
              "      <td>47</td>\n",
              "    </tr>\n",
              "    <tr>\n",
              "      <th>3</th>\n",
              "      <td>Trafaria’s House is a cozy and familiar villa ...</td>\n",
              "      <td>215</td>\n",
              "    </tr>\n",
              "    <tr>\n",
              "      <th>4</th>\n",
              "      <td>Apartamento Charmoso no Chiado, Entre o Largo ...</td>\n",
              "      <td>78</td>\n",
              "    </tr>\n",
              "    <tr>\n",
              "      <th>5</th>\n",
              "      <td>Joli appartement  en bordure de mer.&lt;br /&gt; 2 m...</td>\n",
              "      <td>1161</td>\n",
              "    </tr>\n",
              "  </tbody>\n",
              "</table>\n",
              "</div>\n",
              "      <button class=\"colab-df-convert\" onclick=\"convertToInteractive('df-fb8894c3-0703-44dd-b12e-d38ea46a1971')\"\n",
              "              title=\"Convert this dataframe to an interactive table.\"\n",
              "              style=\"display:none;\">\n",
              "        \n",
              "  <svg xmlns=\"http://www.w3.org/2000/svg\" height=\"24px\"viewBox=\"0 0 24 24\"\n",
              "       width=\"24px\">\n",
              "    <path d=\"M0 0h24v24H0V0z\" fill=\"none\"/>\n",
              "    <path d=\"M18.56 5.44l.94 2.06.94-2.06 2.06-.94-2.06-.94-.94-2.06-.94 2.06-2.06.94zm-11 1L8.5 8.5l.94-2.06 2.06-.94-2.06-.94L8.5 2.5l-.94 2.06-2.06.94zm10 10l.94 2.06.94-2.06 2.06-.94-2.06-.94-.94-2.06-.94 2.06-2.06.94z\"/><path d=\"M17.41 7.96l-1.37-1.37c-.4-.4-.92-.59-1.43-.59-.52 0-1.04.2-1.43.59L10.3 9.45l-7.72 7.72c-.78.78-.78 2.05 0 2.83L4 21.41c.39.39.9.59 1.41.59.51 0 1.02-.2 1.41-.59l7.78-7.78 2.81-2.81c.8-.78.8-2.07 0-2.86zM5.41 20L4 18.59l7.72-7.72 1.47 1.35L5.41 20z\"/>\n",
              "  </svg>\n",
              "      </button>\n",
              "      \n",
              "  <style>\n",
              "    .colab-df-container {\n",
              "      display:flex;\n",
              "      flex-wrap:wrap;\n",
              "      gap: 12px;\n",
              "    }\n",
              "\n",
              "    .colab-df-convert {\n",
              "      background-color: #E8F0FE;\n",
              "      border: none;\n",
              "      border-radius: 50%;\n",
              "      cursor: pointer;\n",
              "      display: none;\n",
              "      fill: #1967D2;\n",
              "      height: 32px;\n",
              "      padding: 0 0 0 0;\n",
              "      width: 32px;\n",
              "    }\n",
              "\n",
              "    .colab-df-convert:hover {\n",
              "      background-color: #E2EBFA;\n",
              "      box-shadow: 0px 1px 2px rgba(60, 64, 67, 0.3), 0px 1px 3px 1px rgba(60, 64, 67, 0.15);\n",
              "      fill: #174EA6;\n",
              "    }\n",
              "\n",
              "    [theme=dark] .colab-df-convert {\n",
              "      background-color: #3B4455;\n",
              "      fill: #D2E3FC;\n",
              "    }\n",
              "\n",
              "    [theme=dark] .colab-df-convert:hover {\n",
              "      background-color: #434B5C;\n",
              "      box-shadow: 0px 1px 3px 1px rgba(0, 0, 0, 0.15);\n",
              "      filter: drop-shadow(0px 1px 2px rgba(0, 0, 0, 0.3));\n",
              "      fill: #FFFFFF;\n",
              "    }\n",
              "  </style>\n",
              "\n",
              "      <script>\n",
              "        const buttonEl =\n",
              "          document.querySelector('#df-fb8894c3-0703-44dd-b12e-d38ea46a1971 button.colab-df-convert');\n",
              "        buttonEl.style.display =\n",
              "          google.colab.kernel.accessAllowed ? 'block' : 'none';\n",
              "\n",
              "        async function convertToInteractive(key) {\n",
              "          const element = document.querySelector('#df-fb8894c3-0703-44dd-b12e-d38ea46a1971');\n",
              "          const dataTable =\n",
              "            await google.colab.kernel.invokeFunction('convertToInteractive',\n",
              "                                                     [key], {});\n",
              "          if (!dataTable) return;\n",
              "\n",
              "          const docLinkHtml = 'Like what you see? Visit the ' +\n",
              "            '<a target=\"_blank\" href=https://colab.research.google.com/notebooks/data_table.ipynb>data table notebook</a>'\n",
              "            + ' to learn more about interactive tables.';\n",
              "          element.innerHTML = '';\n",
              "          dataTable['output_type'] = 'display_data';\n",
              "          await google.colab.output.renderOutput(dataTable, element);\n",
              "          const docLink = document.createElement('div');\n",
              "          docLink.innerHTML = docLinkHtml;\n",
              "          element.appendChild(docLink);\n",
              "        }\n",
              "      </script>\n",
              "    </div>\n",
              "  </div>\n",
              "  "
            ]
          },
          "metadata": {},
          "execution_count": 34
        }
      ],
      "source": [
        "merged_df['word_count']  = merged_df['text'].apply(lambda x: len(str(x).split(\" \")))\n",
        "merged_df[['text','word_count']].head()"
      ]
    },
    {
      "cell_type": "markdown",
      "id": "ddbeab9f",
      "metadata": {
        "id": "ddbeab9f"
      },
      "source": [
        "### Descriptive Statistics of word count"
      ]
    },
    {
      "cell_type": "code",
      "execution_count": 35,
      "id": "2ff89024",
      "metadata": {
        "colab": {
          "base_uri": "https://localhost:8080/"
        },
        "id": "2ff89024",
        "outputId": "0bf81794-ac41-449c-a051-e820621d4191"
      },
      "outputs": [
        {
          "output_type": "execute_result",
          "data": {
            "text/plain": [
              "count    12496.000000\n",
              "mean      2918.676056\n",
              "std       4490.149054\n",
              "min          4.000000\n",
              "25%        234.000000\n",
              "50%        952.500000\n",
              "75%       3676.250000\n",
              "max      55963.000000\n",
              "Name: word_count, dtype: float64"
            ]
          },
          "metadata": {},
          "execution_count": 35
        }
      ],
      "source": [
        "merged_df.word_count.describe()"
      ]
    },
    {
      "cell_type": "code",
      "execution_count": 36,
      "id": "08af8e1e",
      "metadata": {
        "colab": {
          "base_uri": "https://localhost:8080/",
          "height": 447
        },
        "id": "08af8e1e",
        "outputId": "efc0cc9e-771a-4f96-a856-26ce908c20d9"
      },
      "outputs": [
        {
          "output_type": "execute_result",
          "data": {
            "text/plain": [
              "<Axes: >"
            ]
          },
          "metadata": {},
          "execution_count": 36
        },
        {
          "output_type": "display_data",
          "data": {
            "text/plain": [
              "<Figure size 640x480 with 1 Axes>"
            ],
            "image/png": "[encoded data removed]"
          },
          "metadata": {}
        }
      ],
      "source": [
        "merged_df['word_count'].hist()"
      ]
    },
    {
      "cell_type": "code",
      "execution_count": 37,
      "id": "9f6b42b4",
      "metadata": {
        "id": "9f6b42b4"
      },
      "outputs": [],
      "source": [
        "all_words = ' '.join(merged_df['text']).split()"
      ]
    },
    {
      "cell_type": "code",
      "execution_count": 38,
      "id": "940b574f",
      "metadata": {
        "id": "940b574f"
      },
      "outputs": [],
      "source": [
        "freq = pd.Series(all_words).value_counts()"
      ]
    },
    {
      "cell_type": "code",
      "execution_count": 39,
      "id": "34d1f9be",
      "metadata": {
        "colab": {
          "base_uri": "https://localhost:8080/"
        },
        "id": "34d1f9be",
        "outputId": "bea133a3-6b35-453f-8548-b2b4f031b89f"
      },
      "outputs": [
        {
          "output_type": "execute_result",
          "data": {
            "text/plain": [
              "and     1185846\n",
              "the     1112345\n",
              "a        864741\n",
              "to       710262\n",
              "in       544837\n",
              "is       542807\n",
              "was      479209\n",
              "of       390681\n",
              "very     316491\n",
              "de       304938\n",
              "dtype: int64"
            ]
          },
          "metadata": {},
          "execution_count": 39
        }
      ],
      "source": [
        "freq.sort_values(ascending=False)[0:10]"
      ]
    },
    {
      "cell_type": "code",
      "execution_count": 40,
      "id": "917dd828",
      "metadata": {
        "colab": {
          "base_uri": "https://localhost:8080/"
        },
        "id": "917dd828",
        "outputId": "e42fa9a3-c387-4265-9926-9098bdf6e982"
      },
      "outputs": [
        {
          "output_type": "execute_result",
          "data": {
            "text/plain": [
              "Index(['and', 'the', 'a', 'to', 'in', 'is', 'was', 'of', 'very', 'de'], dtype='object')"
            ]
          },
          "metadata": {},
          "execution_count": 40
        }
      ],
      "source": [
        "freq.index[0:10]"
      ]
    },
    {
      "cell_type": "code",
      "execution_count": 41,
      "id": "4d72943c",
      "metadata": {
        "colab": {
          "base_uri": "https://localhost:8080/",
          "height": 469
        },
        "id": "4d72943c",
        "outputId": "d5c98ce6-474e-4c5c-cee6-387e8e45e4e4"
      },
      "outputs": [
        {
          "output_type": "display_data",
          "data": {
            "text/plain": [
              "<Figure size 640x480 with 1 Axes>"
            ],
            "image/png": "[encoded data removed]"
          },
          "metadata": {}
        }
      ],
      "source": [
        "x_labels = freq.index[0:10]\n",
        "values = freq[:10]\n",
        "plt.bar(x_labels, values, align='center', alpha=0.5)\n",
        "# plt.xticks(y_pos, x_labels)\n",
        "plt.ylabel('Frequencies')\n",
        "plt.title('Words')\n",
        "plt.xticks(rotation=90)\n",
        "plt.show()"
      ]
    },
    {
      "cell_type": "markdown",
      "id": "100c2908",
      "metadata": {
        "id": "100c2908"
      },
      "source": [
        "# Data Preprocessing"
      ]
    },
    {
      "cell_type": "code",
      "execution_count": 42,
      "id": "3f4964ea",
      "metadata": {
        "colab": {
          "base_uri": "https://localhost:8080/"
        },
        "id": "3f4964ea",
        "outputId": "a948c53c-6644-4d40-ba38-a37463345d27"
      },
      "outputs": [
        {
          "output_type": "stream",
          "name": "stdout",
          "text": [
            "['i', 'me', 'my', 'myself', 'we', 'our', 'ours', 'ourselves', 'you', \"you're\", \"you've\", \"you'll\", \"you'd\", 'your', 'yours', 'yourself', 'yourselves', 'he', 'him', 'his', 'himself', 'she', \"she's\", 'her', 'hers', 'herself', 'it', \"it's\", 'its', 'itself', 'they', 'them', 'their', 'theirs', 'themselves', 'what', 'which', 'who', 'whom', 'this', 'that', \"that'll\", 'these', 'those', 'am', 'is', 'are', 'was', 'were', 'be', 'been', 'being', 'have', 'has', 'had', 'having', 'do', 'does', 'did', 'doing', 'a', 'an', 'the', 'and', 'but', 'if', 'or', 'because', 'as', 'until', 'while', 'of', 'at', 'by', 'for', 'with', 'about', 'against', 'between', 'into', 'through', 'during', 'before', 'after', 'above', 'below', 'to', 'from', 'up', 'down', 'in', 'out', 'on', 'off', 'over', 'under', 'again', 'further', 'then', 'once', 'here', 'there', 'when', 'where', 'why', 'how', 'all', 'any', 'both', 'each', 'few', 'more', 'most', 'other', 'some', 'such', 'no', 'nor', 'not', 'only', 'own', 'same', 'so', 'than', 'too', 'very', 's', 't', 'can', 'will', 'just', 'don', \"don't\", 'should', \"should've\", 'now', 'd', 'll', 'm', 'o', 're', 've', 'y', 'ain', 'aren', \"aren't\", 'couldn', \"couldn't\", 'didn', \"didn't\", 'doesn', \"doesn't\", 'hadn', \"hadn't\", 'hasn', \"hasn't\", 'haven', \"haven't\", 'isn', \"isn't\", 'ma', 'mightn', \"mightn't\", 'mustn', \"mustn't\", 'needn', \"needn't\", 'shan', \"shan't\", 'shouldn', \"shouldn't\", 'wasn', \"wasn't\", 'weren', \"weren't\", 'won', \"won't\", 'wouldn', \"wouldn't\", 'de', 'la', 'que', 'el', 'en', 'y', 'a', 'los', 'del', 'se', 'las', 'por', 'un', 'para', 'con', 'no', 'una', 'su', 'al', 'lo', 'como', 'más', 'pero', 'sus', 'le', 'ya', 'o', 'este', 'sí', 'porque', 'esta', 'entre', 'cuando', 'muy', 'sin', 'sobre', 'también', 'me', 'hasta', 'hay', 'donde', 'quien', 'desde', 'todo', 'nos', 'durante', 'todos', 'uno', 'les', 'ni', 'contra', 'otros', 'ese', 'eso', 'ante', 'ellos', 'e', 'esto', 'mí', 'antes', 'algunos', 'qué', 'unos', 'yo', 'otro', 'otras', 'otra', 'él', 'tanto', 'esa', 'estos', 'mucho', 'quienes', 'nada', 'muchos', 'cual', 'poco', 'ella', 'estar', 'estas', 'algunas', 'algo', 'nosotros', 'mi', 'mis', 'tú', 'te', 'ti', 'tu', 'tus', 'ellas', 'nosotras', 'vosotros', 'vosotras', 'os', 'mío', 'mía', 'míos', 'mías', 'tuyo', 'tuya', 'tuyos', 'tuyas', 'suyo', 'suya', 'suyos', 'suyas', 'nuestro', 'nuestra', 'nuestros', 'nuestras', 'vuestro', 'vuestra', 'vuestros', 'vuestras', 'esos', 'esas', 'estoy', 'estás', 'está', 'estamos', 'estáis', 'están', 'esté', 'estés', 'estemos', 'estéis', 'estén', 'estaré', 'estarás', 'estará', 'estaremos', 'estaréis', 'estarán', 'estaría', 'estarías', 'estaríamos', 'estaríais', 'estarían', 'estaba', 'estabas', 'estábamos', 'estabais', 'estaban', 'estuve', 'estuviste', 'estuvo', 'estuvimos', 'estuvisteis', 'estuvieron', 'estuviera', 'estuvieras', 'estuviéramos', 'estuvierais', 'estuvieran', 'estuviese', 'estuvieses', 'estuviésemos', 'estuvieseis', 'estuviesen', 'estando', 'estado', 'estada', 'estados', 'estadas', 'estad', 'he', 'has', 'ha', 'hemos', 'habéis', 'han', 'haya', 'hayas', 'hayamos', 'hayáis', 'hayan', 'habré', 'habrás', 'habrá', 'habremos', 'habréis', 'habrán', 'habría', 'habrías', 'habríamos', 'habríais', 'habrían', 'había', 'habías', 'habíamos', 'habíais', 'habían', 'hube', 'hubiste', 'hubo', 'hubimos', 'hubisteis', 'hubieron', 'hubiera', 'hubieras', 'hubiéramos', 'hubierais', 'hubieran', 'hubiese', 'hubieses', 'hubiésemos', 'hubieseis', 'hubiesen', 'habiendo', 'habido', 'habida', 'habidos', 'habidas', 'soy', 'eres', 'es', 'somos', 'sois', 'son', 'sea', 'seas', 'seamos', 'seáis', 'sean', 'seré', 'serás', 'será', 'seremos', 'seréis', 'serán', 'sería', 'serías', 'seríamos', 'seríais', 'serían', 'era', 'eras', 'éramos', 'erais', 'eran', 'fui', 'fuiste', 'fue', 'fuimos', 'fuisteis', 'fueron', 'fuera', 'fueras', 'fuéramos', 'fuerais', 'fueran', 'fuese', 'fueses', 'fuésemos', 'fueseis', 'fuesen', 'sintiendo', 'sentido', 'sentida', 'sentidos', 'sentidas', 'siente', 'sentid', 'tengo', 'tienes', 'tiene', 'tenemos', 'tenéis', 'tienen', 'tenga', 'tengas', 'tengamos', 'tengáis', 'tengan', 'tendré', 'tendrás', 'tendrá', 'tendremos', 'tendréis', 'tendrán', 'tendría', 'tendrías', 'tendríamos', 'tendríais', 'tendrían', 'tenía', 'tenías', 'teníamos', 'teníais', 'tenían', 'tuve', 'tuviste', 'tuvo', 'tuvimos', 'tuvisteis', 'tuvieron', 'tuviera', 'tuvieras', 'tuviéramos', 'tuvierais', 'tuvieran', 'tuviese', 'tuvieses', 'tuviésemos', 'tuvieseis', 'tuviesen', 'teniendo', 'tenido', 'tenida', 'tenidos', 'tenidas', 'tened', 'au', 'aux', 'avec', 'ce', 'ces', 'dans', 'de', 'des', 'du', 'elle', 'en', 'et', 'eux', 'il', 'ils', 'je', 'la', 'le', 'les', 'leur', 'lui', 'ma', 'mais', 'me', 'même', 'mes', 'moi', 'mon', 'ne', 'nos', 'notre', 'nous', 'on', 'ou', 'par', 'pas', 'pour', 'qu', 'que', 'qui', 'sa', 'se', 'ses', 'son', 'sur', 'ta', 'te', 'tes', 'toi', 'ton', 'tu', 'un', 'une', 'vos', 'votre', 'vous', 'c', 'd', 'j', 'l', 'à', 'm', 'n', 's', 't', 'y', 'été', 'étée', 'étées', 'étés', 'étant', 'étante', 'étants', 'étantes', 'suis', 'es', 'est', 'sommes', 'êtes', 'sont', 'serai', 'seras', 'sera', 'serons', 'serez', 'seront', 'serais', 'serait', 'serions', 'seriez', 'seraient', 'étais', 'était', 'étions', 'étiez', 'étaient', 'fus', 'fut', 'fûmes', 'fûtes', 'furent', 'sois', 'soit', 'soyons', 'soyez', 'soient', 'fusse', 'fusses', 'fût', 'fussions', 'fussiez', 'fussent', 'ayant', 'ayante', 'ayantes', 'ayants', 'eu', 'eue', 'eues', 'eus', 'ai', 'as', 'avons', 'avez', 'ont', 'aurai', 'auras', 'aura', 'aurons', 'aurez', 'auront', 'aurais', 'aurait', 'aurions', 'auriez', 'auraient', 'avais', 'avait', 'avions', 'aviez', 'avaient', 'eut', 'eûmes', 'eûtes', 'eurent', 'aie', 'aies', 'ait', 'ayons', 'ayez', 'aient', 'eusse', 'eusses', 'eût', 'eussions', 'eussiez', 'eussent', 'и', 'в', 'во', 'не', 'что', 'он', 'на', 'я', 'с', 'со', 'как', 'а', 'то', 'все', 'она', 'так', 'его', 'но', 'да', 'ты', 'к', 'у', 'же', 'вы', 'за', 'бы', 'по', 'только', 'ее', 'мне', 'было', 'вот', 'от', 'меня', 'еще', 'нет', 'о', 'из', 'ему', 'теперь', 'когда', 'даже', 'ну', 'вдруг', 'ли', 'если', 'уже', 'или', 'ни', 'быть', 'был', 'него', 'до', 'вас', 'нибудь', 'опять', 'уж', 'вам', 'ведь', 'там', 'потом', 'себя', 'ничего', 'ей', 'может', 'они', 'тут', 'где', 'есть', 'надо', 'ней', 'для', 'мы', 'тебя', 'их', 'чем', 'была', 'сам', 'чтоб', 'без', 'будто', 'чего', 'раз', 'тоже', 'себе', 'под', 'будет', 'ж', 'тогда', 'кто', 'этот', 'того', 'потому', 'этого', 'какой', 'совсем', 'ним', 'здесь', 'этом', 'один', 'почти', 'мой', 'тем', 'чтобы', 'нее', 'сейчас', 'были', 'куда', 'зачем', 'всех', 'никогда', 'можно', 'при', 'наконец', 'два', 'об', 'другой', 'хоть', 'после', 'над', 'больше', 'тот', 'через', 'эти', 'нас', 'про', 'всего', 'них', 'какая', 'много', 'разве', 'три', 'эту', 'моя', 'впрочем', 'хорошо', 'свою', 'этой', 'перед', 'иногда', 'лучше', 'чуть', 'том', 'нельзя', 'такой', 'им', 'более', 'всегда', 'конечно', 'всю', 'между', '一', '一下', '一些', '一切', '一则', '一天', '一定', '一方面', '一旦', '一时', '一来', '一样', '一次', '一片', '一直', '一致', '一般', '一起', '一边', '一面', '万一', '上下', '上升', '上去', '上来', '上述', '上面', '下列', '下去', '下来', '下面', '不一', '不久', '不仅', '不会', '不但', '不光', '不单', '不变', '不只', '不可', '不同', '不够', '不如', '不得', '不怕', '不惟', '不成', '不拘', '不敢', '不断', '不是', '不比', '不然', '不特', '不独', '不管', '不能', '不要', '不论', '不足', '不过', '不问', '与', '与其', '与否', '与此同时', '专门', '且', '两者', '严格', '严重', '个', '个人', '个别', '中小', '中间', '丰富', '临', '为', '为主', '为了', '为什么', '为什麽', '为何', '为着', '主张', '主要', '举行', '乃', '乃至', '么', '之', '之一', '之前', '之后', '之後', '之所以', '之类', '乌乎', '乎', '乘', '也', '也好', '也是', '也罢', '了', '了解', '争取', '于', '于是', '于是乎', '云云', '互相', '产生', '人们', '人家', '什么', '什么样', '什麽', '今后', '今天', '今年', '今後', '仍然', '从', '从事', '从而', '他', '他人', '他们', '他的', '代替', '以', '以上', '以下', '以为', '以便', '以免', '以前', '以及', '以后', '以外', '以後', '以来', '以至', '以至于', '以致', '们', '任', '任何', '任凭', '任务', '企图', '伟大', '似乎', '似的', '但', '但是', '何', '何况', '何处', '何时', '作为', '你', '你们', '你的', '使得', '使用', '例如', '依', '依照', '依靠', '促进', '保持', '俺', '俺们', '倘', '倘使', '倘或', '倘然', '倘若', '假使', '假如', '假若', '做到', '像', '允许', '充分', '先后', '先後', '先生', '全部', '全面', '兮', '共同', '关于', '其', '其一', '其中', '其二', '其他', '其余', '其它', '其实', '其次', '具体', '具体地说', '具体说来', '具有', '再者', '再说', '冒', '冲', '决定', '况且', '准备', '几', '几乎', '几时', '凭', '凭借', '出去', '出来', '出现', '分别', '则', '别', '别的', '别说', '到', '前后', '前者', '前进', '前面', '加之', '加以', '加入', '加强', '十分', '即', '即令', '即使', '即便', '即或', '即若', '却不', '原来', '又', '及', '及其', '及时', '及至', '双方', '反之', '反应', '反映', '反过来', '反过来说', '取得', '受到', '变成', '另', '另一方面', '另外', '只是', '只有', '只要', '只限', '叫', '叫做', '召开', '叮咚', '可', '可以', '可是', '可能', '可见', '各', '各个', '各人', '各位', '各地', '各种', '各级', '各自', '合理', '同', '同一', '同时', '同样', '后来', '后面', '向', '向着', '吓', '吗', '否则', '吧', '吧哒', '吱', '呀', '呃', '呕', '呗', '呜', '呜呼', '呢', '周围', '呵', '呸', '呼哧', '咋', '和', '咚', '咦', '咱', '咱们', '咳', '哇', '哈', '哈哈', '哉', '哎', '哎呀', '哎哟', '哗', '哟', '哦', '哩', '哪', '哪个', '哪些', '哪儿', '哪天', '哪年', '哪怕', '哪样', '哪边', '哪里', '哼', '哼唷', '唉', '啊', '啐', '啥', '啦', '啪达', '喂', '喏', '喔唷', '嗡嗡', '嗬', '嗯', '嗳', '嘎', '嘎登', '嘘', '嘛', '嘻', '嘿', '因', '因为', '因此', '因而', '固然', '在', '在下', '地', '坚决', '坚持', '基本', '处理', '复杂', '多', '多少', '多数', '多次', '大力', '大多数', '大大', '大家', '大批', '大约', '大量', '失去', '她', '她们', '她的', '好的', '好象', '如', '如上所述', '如下', '如何', '如其', '如果', '如此', '如若', '存在', '宁', '宁可', '宁愿', '宁肯', '它', '它们', '它们的', '它的', '安全', '完全', '完成', '实现', '实际', '宣布', '容易', '密切', '对', '对于', '对应', '将', '少数', '尔后', '尚且', '尤其', '就', '就是', '就是说', '尽', '尽管', '属于', '岂但', '左右', '巨大', '巩固', '己', '已经', '帮助', '常常', '并', '并不', '并不是', '并且', '并没有', '广大', '广泛', '应当', '应用', '应该', '开外', '开始', '开展', '引起', '强烈', '强调', '归', '当', '当前', '当时', '当然', '当着', '形成', '彻底', '彼', '彼此', '往', '往往', '待', '後来', '後面', '得', '得出', '得到', '心里', '必然', '必要', '必须', '怎', '怎么', '怎么办', '怎么样', '怎样', '怎麽', '总之', '总是', '总的来看', '总的来说', '总的说来', '总结', '总而言之', '恰恰相反', '您', '意思', '愿意', '慢说', '成为', '我', '我们', '我的', '或', '或是', '或者', '战斗', '所', '所以', '所有', '所谓', '打', '扩大', '把', '抑或', '拿', '按', '按照', '换句话说', '换言之', '据', '掌握', '接着', '接著', '故', '故此', '整个', '方便', '方面', '旁人', '无宁', '无法', '无论', '既', '既是', '既然', '时候', '明显', '明确', '是', '是否', '是的', '显然', '显著', '普通', '普遍', '更加', '曾经', '替', '最后', '最大', '最好', '最後', '最近', '最高', '有', '有些', '有关', '有利', '有力', '有所', '有效', '有时', '有点', '有的', '有着', '有著', '望', '朝', '朝着', '本', '本着', '来', '来着', '极了', '构成', '果然', '果真', '某', '某个', '某些', '根据', '根本', '欢迎', '正在', '正如', '正常', '此', '此外', '此时', '此间', '毋宁', '每', '每个', '每天', '每年', '每当', '比', '比如', '比方', '比较', '毫不', '没有', '沿', '沿着', '注意', '深入', '清楚', '满足', '漫说', '焉', '然则', '然后', '然後', '然而', '照', '照着', '特别是', '特殊', '特点', '现代', '现在', '甚么', '甚而', '甚至', '用', '由', '由于', '由此可见', '的', '的话', '目前', '直到', '直接', '相似', '相信', '相反', '相同', '相对', '相对而言', '相应', '相当', '相等', '省得', '看出', '看到', '看来', '看看', '看见', '真是', '真正', '着', '着呢', '矣', '知道', '确定', '离', '积极', '移动', '突出', '突然', '立即', '第', '等', '等等', '管', '紧接着', '纵', '纵令', '纵使', '纵然', '练习', '组成', '经', '经常', '经过', '结合', '结果', '给', '绝对', '继续', '继而', '维持', '综上所述', '罢了', '考虑', '者', '而', '而且', '而况', '而外', '而已', '而是', '而言', '联系', '能', '能否', '能够', '腾', '自', '自个儿', '自从', '自各儿', '自家', '自己', '自身', '至', '至于', '良好', '若', '若是', '若非', '范围', '莫若', '获得', '虽', '虽则', '虽然', '虽说', '行为', '行动', '表明', '表示', '被', '要', '要不', '要不是', '要不然', '要么', '要是', '要求', '规定', '觉得', '认为', '认真', '认识', '让', '许多', '论', '设使', '设若', '该', '说明', '诸位', '谁', '谁知', '赶', '起', '起来', '起见', '趁', '趁着', '越是', '跟', '转动', '转变', '转贴', '较', '较之', '边', '达到', '迅速', '过', '过去', '过来', '运用', '还是', '还有', '这', '这个', '这么', '这么些', '这么样', '这么点儿', '这些', '这会儿', '这儿', '这就是说', '这时', '这样', '这点', '这种', '这边', '这里', '这麽', '进入', '进步', '进而', '进行', '连', '连同', '适应', '适当', '适用', '逐步', '逐渐', '通常', '通过', '造成', '遇到', '遭到', '避免', '那', '那个', '那么', '那么些', '那么样', '那些', '那会儿', '那儿', '那时', '那样', '那边', '那里', '那麽', '部分', '鄙人', '采取', '里面', '重大', '重新', '重要', '鉴于', '问题', '防止', '阿', '附近', '限制', '除', '除了', '除此之外', '除非', '随', '随着', '随著', '集中', '需要', '非但', '非常', '非徒', '靠', '顺', '顺着', '首先', '高兴', '是不是', 'a', 'à', 'ao', 'aos', 'aquela', 'aquelas', 'aquele', 'aqueles', 'aquilo', 'as', 'às', 'até', 'com', 'como', 'da', 'das', 'de', 'dela', 'delas', 'dele', 'deles', 'depois', 'do', 'dos', 'e', 'é', 'ela', 'elas', 'ele', 'eles', 'em', 'entre', 'era', 'eram', 'éramos', 'essa', 'essas', 'esse', 'esses', 'esta', 'está', 'estamos', 'estão', 'estar', 'estas', 'estava', 'estavam', 'estávamos', 'este', 'esteja', 'estejam', 'estejamos', 'estes', 'esteve', 'estive', 'estivemos', 'estiver', 'estivera', 'estiveram', 'estivéramos', 'estiverem', 'estivermos', 'estivesse', 'estivessem', 'estivéssemos', 'estou', 'eu', 'foi', 'fomos', 'for', 'fora', 'foram', 'fôramos', 'forem', 'formos', 'fosse', 'fossem', 'fôssemos', 'fui', 'há', 'haja', 'hajam', 'hajamos', 'hão', 'havemos', 'haver', 'hei', 'houve', 'houvemos', 'houver', 'houvera', 'houverá', 'houveram', 'houvéramos', 'houverão', 'houverei', 'houverem', 'houveremos', 'houveria', 'houveriam', 'houveríamos', 'houvermos', 'houvesse', 'houvessem', 'houvéssemos', 'isso', 'isto', 'já', 'lhe', 'lhes', 'mais', 'mas', 'me', 'mesmo', 'meu', 'meus', 'minha', 'minhas', 'muito', 'na', 'não', 'nas', 'nem', 'no', 'nos', 'nós', 'nossa', 'nossas', 'nosso', 'nossos', 'num', 'numa', 'o', 'os', 'ou', 'para', 'pela', 'pelas', 'pelo', 'pelos', 'por', 'qual', 'quando', 'que', 'quem', 'são', 'se', 'seja', 'sejam', 'sejamos', 'sem', 'ser', 'será', 'serão', 'serei', 'seremos', 'seria', 'seriam', 'seríamos', 'seu', 'seus', 'só', 'somos', 'sou', 'sua', 'suas', 'também', 'te', 'tem', 'tém', 'temos', 'tenha', 'tenham', 'tenhamos', 'tenho', 'terá', 'terão', 'terei', 'teremos', 'teria', 'teriam', 'teríamos', 'teu', 'teus', 'teve', 'tinha', 'tinham', 'tínhamos', 'tive', 'tivemos', 'tiver', 'tivera', 'tiveram', 'tivéramos', 'tiverem', 'tivermos', 'tivesse', 'tivessem', 'tivéssemos', 'tu', 'tua', 'tuas', 'um', 'uma', 'você', 'vocês', 'vos', 'aber', 'alle', 'allem', 'allen', 'aller', 'alles', 'als', 'also', 'am', 'an', 'ander', 'andere', 'anderem', 'anderen', 'anderer', 'anderes', 'anderm', 'andern', 'anderr', 'anders', 'auch', 'auf', 'aus', 'bei', 'bin', 'bis', 'bist', 'da', 'damit', 'dann', 'der', 'den', 'des', 'dem', 'die', 'das', 'dass', 'daß', 'derselbe', 'derselben', 'denselben', 'desselben', 'demselben', 'dieselbe', 'dieselben', 'dasselbe', 'dazu', 'dein', 'deine', 'deinem', 'deinen', 'deiner', 'deines', 'denn', 'derer', 'dessen', 'dich', 'dir', 'du', 'dies', 'diese', 'diesem', 'diesen', 'dieser', 'dieses', 'doch', 'dort', 'durch', 'ein', 'eine', 'einem', 'einen', 'einer', 'eines', 'einig', 'einige', 'einigem', 'einigen', 'einiger', 'einiges', 'einmal', 'er', 'ihn', 'ihm', 'es', 'etwas', 'euer', 'eure', 'eurem', 'euren', 'eurer', 'eures', 'für', 'gegen', 'gewesen', 'hab', 'habe', 'haben', 'hat', 'hatte', 'hatten', 'hier', 'hin', 'hinter', 'ich', 'mich', 'mir', 'ihr', 'ihre', 'ihrem', 'ihren', 'ihrer', 'ihres', 'euch', 'im', 'in', 'indem', 'ins', 'ist', 'jede', 'jedem', 'jeden', 'jeder', 'jedes', 'jene', 'jenem', 'jenen', 'jener', 'jenes', 'jetzt', 'kann', 'kein', 'keine', 'keinem', 'keinen', 'keiner', 'keines', 'können', 'könnte', 'machen', 'man', 'manche', 'manchem', 'manchen', 'mancher', 'manches', 'mein', 'meine', 'meinem', 'meinen', 'meiner', 'meines', 'mit', 'muss', 'musste', 'nach', 'nicht', 'nichts', 'noch', 'nun', 'nur', 'ob', 'oder', 'ohne', 'sehr', 'sein', 'seine', 'seinem', 'seinen', 'seiner', 'seines', 'selbst', 'sich', 'sie', 'ihnen', 'sind', 'so', 'solche', 'solchem', 'solchen', 'solcher', 'solches', 'soll', 'sollte', 'sondern', 'sonst', 'über', 'um', 'und', 'uns', 'unsere', 'unserem', 'unseren', 'unser', 'unseres', 'unter', 'viel', 'vom', 'von', 'vor', 'während', 'war', 'waren', 'warst', 'was', 'weg', 'weil', 'weiter', 'welche', 'welchem', 'welchen', 'welcher', 'welches', 'wenn', 'werde', 'werden', 'wie', 'wieder', 'will', 'wir', 'wird', 'wirst', 'wo', 'wollen', 'wollte', 'würde', 'würden', 'zu', 'zum', 'zur', 'zwar', 'zwischen', 'ad', 'al', 'allo', 'ai', 'agli', 'all', 'agl', 'alla', 'alle', 'con', 'col', 'coi', 'da', 'dal', 'dallo', 'dai', 'dagli', 'dall', 'dagl', 'dalla', 'dalle', 'di', 'del', 'dello', 'dei', 'degli', 'dell', 'degl', 'della', 'delle', 'in', 'nel', 'nello', 'nei', 'negli', 'nell', 'negl', 'nella', 'nelle', 'su', 'sul', 'sullo', 'sui', 'sugli', 'sull', 'sugl', 'sulla', 'sulle', 'per', 'tra', 'contro', 'io', 'tu', 'lui', 'lei', 'noi', 'voi', 'loro', 'mio', 'mia', 'miei', 'mie', 'tuo', 'tua', 'tuoi', 'tue', 'suo', 'sua', 'suoi', 'sue', 'nostro', 'nostra', 'nostri', 'nostre', 'vostro', 'vostra', 'vostri', 'vostre', 'mi', 'ti', 'ci', 'vi', 'lo', 'la', 'li', 'le', 'gli', 'ne', 'il', 'un', 'uno', 'una', 'ma', 'ed', 'se', 'perché', 'anche', 'come', 'dov', 'dove', 'che', 'chi', 'cui', 'non', 'più', 'quale', 'quanto', 'quanti', 'quanta', 'quante', 'quello', 'quelli', 'quella', 'quelle', 'questo', 'questi', 'questa', 'queste', 'si', 'tutto', 'tutti', 'a', 'c', 'e', 'i', 'l', 'o', 'ho', 'hai', 'ha', 'abbiamo', 'avete', 'hanno', 'abbia', 'abbiate', 'abbiano', 'avrò', 'avrai', 'avrà', 'avremo', 'avrete', 'avranno', 'avrei', 'avresti', 'avrebbe', 'avremmo', 'avreste', 'avrebbero', 'avevo', 'avevi', 'aveva', 'avevamo', 'avevate', 'avevano', 'ebbi', 'avesti', 'ebbe', 'avemmo', 'aveste', 'ebbero', 'avessi', 'avesse', 'avessimo', 'avessero', 'avendo', 'avuto', 'avuta', 'avuti', 'avute', 'sono', 'sei', 'è', 'siamo', 'siete', 'sia', 'siate', 'siano', 'sarò', 'sarai', 'sarà', 'saremo', 'sarete', 'saranno', 'sarei', 'saresti', 'sarebbe', 'saremmo', 'sareste', 'sarebbero', 'ero', 'eri', 'era', 'eravamo', 'eravate', 'erano', 'fui', 'fosti', 'fu', 'fummo', 'foste', 'furono', 'fossi', 'fosse', 'fossimo', 'fossero', 'essendo', 'faccio', 'fai', 'facciamo', 'fanno', 'faccia', 'facciate', 'facciano', 'farò', 'farai', 'farà', 'faremo', 'farete', 'faranno', 'farei', 'faresti', 'farebbe', 'faremmo', 'fareste', 'farebbero', 'facevo', 'facevi', 'faceva', 'facevamo', 'facevate', 'facevano', 'feci', 'facesti', 'fece', 'facemmo', 'faceste', 'fecero', 'facessi', 'facesse', 'facessimo', 'facessero', 'facendo', 'sto', 'stai', 'sta', 'stiamo', 'stanno', 'stia', 'stiate', 'stiano', 'starò', 'starai', 'starà', 'staremo', 'starete', 'staranno', 'starei', 'staresti', 'starebbe', 'staremmo', 'stareste', 'starebbero', 'stavo', 'stavi', 'stava', 'stavamo', 'stavate', 'stavano', 'stetti', 'stesti', 'stette', 'stemmo', 'steste', 'stettero', 'stessi', 'stesse', 'stessimo', 'stessero', 'stando']\n"
          ]
        },
        {
          "output_type": "stream",
          "name": "stderr",
          "text": [
            "[nltk_data] Downloading package stopwords to /root/nltk_data...\n",
            "[nltk_data]   Unzipping corpora/stopwords.zip.\n"
          ]
        }
      ],
      "source": [
        "nltk.download('stopwords')\n",
        "\n",
        "stopwords_list = []\n",
        "for lang in ['english', 'spanish', 'french', 'russian', 'chinese', 'portuguese', 'german', 'italian']:\n",
        "    stopwords_list += stopwords.words(lang)\n",
        "\n",
        "print(stopwords_list)\n"
      ]
    },
    {
      "cell_type": "code",
      "execution_count": 43,
      "id": "db699d02",
      "metadata": {
        "colab": {
          "base_uri": "https://localhost:8080/"
        },
        "id": "db699d02",
        "outputId": "24d627d4-6a6e-4647-f893-fed6fa5bf9c9"
      },
      "outputs": [
        {
          "output_type": "stream",
          "name": "stderr",
          "text": [
            "[nltk_data] Downloading package wordnet to /root/nltk_data...\n"
          ]
        }
      ],
      "source": [
        "\n",
        "nltk.download('wordnet')\n",
        "\n",
        "lemma = WordNetLemmatizer()"
      ]
    },
    {
      "cell_type": "code",
      "execution_count": 44,
      "id": "656486d3",
      "metadata": {
        "id": "656486d3"
      },
      "outputs": [],
      "source": [
        "\n",
        "def clean(text_list, lemmatize, stemmer):\n",
        "    updates = []\n",
        "    emoji_pattern = re.compile(\"[\"\n",
        "                               u\"\\U0001F600-\\U0001F64F\"  # emoticons\n",
        "                               u\"\\U0001F300-\\U0001F5FF\"  # symbols & pictographs\n",
        "                               u\"\\U0001F680-\\U0001F6FF\"  # transport & map symbols\n",
        "                               u\"\\U0001F1E0-\\U0001F1FF\"  # flags (iOS)\n",
        "                               u\"\\U00002500-\\U00002BEF\"  # chinese char\n",
        "                               u\"\\U00002702-\\U000027B0\"\n",
        "                               u\"\\U00002702-\\U000027B0\"\n",
        "                               u\"\\U000024C2-\\U0001F251\"\n",
        "                               u\"\\U0001f926-\\U0001f937\"\n",
        "                               u\"\\U00010000-\\U0010ffff\"\n",
        "                               u\"\\u2640-\\u2642\"\n",
        "                               u\"\\u2600-\\u2B55\"\n",
        "                               u\"\\u200d\"\n",
        "                               u\"\\u23cf\"\n",
        "                               u\"\\u23e9\"\n",
        "                               u\"\\u231a\"\n",
        "                               u\"\\ufe0f\"  # dingbats\n",
        "                               u\"\\u3030\"\n",
        "                               \"]+\", flags=re.UNICODE)\n",
        "\n",
        "    for j in tqdm(text_list):\n",
        "        text = j\n",
        "\n",
        "        # REMOVE EMOJIS\n",
        "        text = emoji_pattern.sub(r'', text)\n",
        "\n",
        "        # LOWERCASE TEXT\n",
        "        text = text.lower()\n",
        "\n",
        "        # REMOVE NUMERICAL DATA and PUNCTUATION\n",
        "        text = re.sub(\"[^a-zA-Z]\",\" \", text )\n",
        "        text = re.sub(\"br\", \"\", text)\n",
        "\n",
        "        # REMOVE STOPWORDS\n",
        "        text = \" \".join([word for word in text.split() if word not in stopwords_list])\n",
        "\n",
        "        # LEMMATIZE\n",
        "        if lemmatize:\n",
        "            text = \" \".join(lemma.lemmatize(word) for word in text.split())\n",
        "\n",
        "        # STEMMING\n",
        "        if stemmer:\n",
        "            text = \" \".join(stemmer.stem(word) for word in text.split())\n",
        "\n",
        "        updates.append(text)\n",
        "\n",
        "    return updates"
      ]
    },
    {
      "cell_type": "code",
      "execution_count": 45,
      "id": "b1e3e21e",
      "metadata": {
        "colab": {
          "base_uri": "https://localhost:8080/"
        },
        "id": "b1e3e21e",
        "outputId": "73077682-f778-44b2-f418-734a9a568882"
      },
      "outputs": [
        {
          "output_type": "stream",
          "name": "stderr",
          "text": [
            "100%|██████████| 12496/12496 [11:01<00:00, 18.90it/s]\n"
          ]
        }
      ],
      "source": [
        "updates = clean(merged_df['text'], lemmatize=True, stemmer=False)\n",
        "\n"
      ]
    },
    {
      "cell_type": "code",
      "execution_count": 46,
      "id": "54a8b20c",
      "metadata": {
        "colab": {
          "base_uri": "https://localhost:8080/",
          "height": 244
        },
        "id": "54a8b20c",
        "outputId": "b65912af-f8e5-470a-c454-6fab1426e463"
      },
      "outputs": [
        {
          "output_type": "execute_result",
          "data": {
            "text/plain": [
              "'dear guest pleaser receive home one guest room people living home space tv netflix mbo w private kitchen shared situated minute metro anjos min gra min walking city centre space good couple solo adventure business traveler b space b apartment typical characteristic house time wooden floor shutter window b guest access b neighborhood quiet walk without problem bus tram minute walk next apartment garage park around euro day b thing note b apartment situated quiet street lisbon close center minute walking grace alfama castelo metro anjos minute walking electric minute street cafe whi quiet person like cinema reading writing walking traveling love receive people need help respecting privacy interest sociologist cristina really perfect host helped lot trip house clean cozy min away center highly recommend house thanks everything way forgot lisbon magnet home please keep know may take next time logement tr bien situ proximit tro bus tram permet rendre tr facilement alfama peut pied chez cristina tr bonne pastelaria juste ba bon petit jeuner typique prix tr correct bon accueil chame conforme photo confortable celle petit bureau cristina h tr agr able disponible partag bons moment recommandons vivement accueil propret confort jardin retournerons volontiers christina awesome host check easy really lovely person helpful would love back one day apartment room spacious clean everything well organized prepared arrival look exactly like picture worth price house near underground short walk bit uphill nothing much st floor need many stair generally good neighborhood hip central lot small market place diner grab bite house beautiful great room overall loved would suggest day cristina place great base explore lisbon clean quiet night close anjos metro station easily get good place excellent value money really friendly helpful offered u load advice definitely recommended cristina pessoa ador vel fez sentir casa belo aconchegante apartamento espa pr ximo metr fica bairro tranquilo v rio caf mercados quarto bem maior fotos tudo organizado limpo dividimos banheiro cristina sentimos privativo cristina deu dicas lugares restaurantes visitar preparou jantar delicioso rea externa agrad vel tomar caf vinho certeza recomendamos vida melhor experi ncia airbnb adoramos great hoster really recomend stay cristina place really kind friendly would help everything place cozy nice perfecta ubicaci zona tranquila minutos centro andando casa agradable cristina tambi repetir duda lovely home great hospitality benchmark air bnbs ever stay cristina perfect host kind happy help well set room perfectly cold water arrival map boot super close nearest underground station min top downtown perfect place lisbon city eak cristina tima anfitri comunicativa prestativa apartamento excelente ainda fotos apresentam limpo bem decorado confort vel acolhedor recomendamos altamente pretendemos voltar eve cristina ym gospodarzem bardzo przyjemne mieszkanie niedaleko centrum ok min pieszo metra min blisko ynny tramwaj nie ycha nic z innych pokoj w wi doa wi koszczelno tylko z ulicy ycha samochody ale w ko cu centrum miasta dyspozycji kuchni z kt rej cz korzysta rzadko widywa cristin innych go wi swoboda w korzystaniu z kuchni azienki kt r dzieli z cristin drugi pok osobn azienk mieszkanie znajduje w starej kamienicy z mozaikami polecam cristina stata fin subito super accogliente fatto trovare stanza splendore casa completa disposizione condividere quegli spazi stato piacere parlare fatto appartamento trova zona strategica muoversi citt andare fuori lisbona futuro riportasse portogallo esiteremmo tornare cristina good place short staying spacieous room cristina kind person thank amazing experience lisbon thanks cristina flat well located close metro bus station easy go airport nice restaurant minute walking thanks staying cristina place perfect choice clean cosy great value money flexible check easy reach highly recommended cristina great communicative flexible friendly laid back place short walk subway nice room friendly hostess everything perfectly order beginning end alojamiento anfitriona total recomendables vuelva lisboa posible repito cristina perfect host speak french english well always available question nice u bedroom bathroom apartment general clean tidy well decorated cozy room comfortable bed dressing room even fan apartment far city center small half hour foot close subway station anjos min walk would definitely recommend cristina anfitri incr vel recepcionou bem deu dicas flex vel cuidadosa prestativa quarto exatamente foto grande bem cuidado apartamento lindo confort vel bem localizado bairro perto centro tranquilo residencial perto metr padarias mercados volta acomoda ter sido melhor excellent accueil chez cristina fait partager appartement tr gentille h tesse pen bouteille eau fraiche arriv appartement tage tr agr able proche tro tout proche tramway stayed night would definitely recommend flat aufenthalt cristina super sch zimmer super lage top cristina unsre fragen beantwortet empfehlenswert f r lissabonbesucher w rden jederzeit wiederkommen cristina lovely friendly easy going host appartement well located walked almost everywhere different caf close clean could use washing machine definetely recommend appartement would love back next time lisboa cristina excellente h tr arrangeante heures arriv part tr sympathique appartement tr agr able reviendra plaisir chez retourne lisbonne cristina fabulous host helped u always needed place really clean cozy min walking uphill nearest tube station anjos min walking town center thank christina thoughtful host helpful everything made stay great experience highly recommended staying cristina great easy get airport location close enough center convenient walkable far enough get away tourist noise cristina welcomed u warmly everything easy set room comfy clean internet fast everyone house respectful would definitely stay back lisbon thanks nice garden clear house eakfasts love pas tr bon jour lisbonne tr bien accueilli chez cristina tr gentille logement tr bien tr bien plac recommande tout monde landlord really nice room really clean nice located good accogliente pulita padrona casa cordiale disponibile consiglio vivamente apartment safe clean easily walkable metro quick access city center cristina welcoming host communicated quickly made stay pleasant thank cristina cristina wonderful host warmly welcomed u home always available made u feel home kitchen well stocked taught u cook traditional portuguese dish bedroom spacious nice desk lot storage space clothes apartment nicely located local neighborhood deli store close buy fresh fruit vegetable well close convenience store metro walking distance downtown airport train station short ride uber back cristina home next time lisbon apartment clean spacey cristina nice caring host bed comfortable area quite night everything needed stay perfect thank cristina making trip lisboa pleasant stay husband wonderful stay cristina home room warm cozy ample space unpack bathroom sparkling clean plenty hot water location perfect well within walking distance sight public transportation felt right home cristina helpful check local tip area sweet felt like really put airbnb highly recommend airbnb anyone looking quiet relaxing place explore lisbon cristina excellent host little office space much comfortable expected unfortunately much see lisbon used little casa cristina agradable especial hizo sentir casa excelente disposici atenta detalles necesidades anfitri piso central puede acceder pie sitios representativos ciudad gran vocaci servicio recomendamos stayed month cristina apartment loved time room even bigger look photo little office space perfect u apartment spacious modern lovely little garden back neighbourhood residential edge tourist area like gra minute walk water great place hang lot restaurant caf look out etc every direction cristina great host made early check unusual check easy could hope back time soon airbnb really nice private space everything clean location close center place eat nearby cristina helpful nice would definitely recommend airbnb anyone great host friendly helpful however lot dust found hair ball bedroom floor great cristina tima pessoa boa acomoda pouco subidas pra chegar metro pouco longe resto tudo ok indicamos casa hola casa cristina confortable cerca servicios autobus metro tranv caf restaurantes barrio familiar anfitriona agradable flexible horarios llegada salida crisina perfect host nice helpfull informative appreciate conversation cristina politics life history etc flat perfectly located peacefull residential area local live go within minute walk town center close tram stop room nice exactly see photo highly recommanded excelente cristina gran anfitriona cristina pessoa atenciosa deixou total liberdade casa cujo espa agrad vel confort vel deu interessant ssimas sugest soe lisboa primeira experi ncia airbnb anfitri mostrou valioso cart visitas estimula nova viagens seguran meio desse aplicativo anjos cristina really lovely stay cristina friendly helpful arrival talked u area gave u map happy book taxi u airport apartment really nice aware communal space shared guest location great short walk shop metro station smack bang centre preferred lisbon hilly cobble ing good shoe great place would recommend staying cristina nice experience flat good located large comfortable able use kitchen facility eakfast lovely terrace cristina always kind friendly enjoyed visiting lisbon lot cristina tima anfitri sempre atenciosa educada dando dicas soe cidade quarto timo mostra fotos apartamento super bem localizado f cil acesso centro metr super recomendo great stay cristinas apartment stay two couple staying apartment however issue since private bathroom spacious room location apartment great easily reach city center lovely stay christina place house nice room spatious cool considering degree outside comfortable bed luckily large fan everything needed towel clean bathroom kitchen empty shelf fridge supermarket busstops nearby minute walk metro station would recommend thank cristina stayed sister two night lovely room apartment cristina friendly communicative even water u ready room room large small work space attached apartment large clean need queue bathroom even though people staying apartment well lidl grocery store well metro station right around corner good location walk city center nice alfama area absolutely recommend place room tidy confortamble minute away center kitchen fully equipped small private bathroom higly recomended great place great host excelente cerca metro tranvia principal lisboa pesar conocimos cristina pendiente amigo recibieron tambi recomendado habitaci amplia tranquilidad incre ble cristina h tesse remarquable disponible attentionn logement parfait tr bien situ tr propre toutes commodit literie exceptionnelle pas tr tr bon jour spent two night cristina place nicely located far metro station city center apartment tidy comfortable highly recommended cristina friendly nice host wonderful staying room tidy clean apartment closed city centre definitely recommend stay cristina place great though shared apartment got utilize bathroom room even larger expected whole place clean cozy lot storage space belonging far airport city center good number cafe around area trip would stay cristina place good stay cristina appartment cristina calm friendly great host room spacious bed confortable moreover love location beautiful gra place great location airport around minute drive town centre short walk took u alfama really catch public transport christine great hostess friendly helpful nice person general flexible check suggested place go explained thing work lisbon would certainly use air bnb back lisbon place clean even little back garden recommande airbnb cristina tr r active agr able logement propre joli situ arr t tro place principale cristina personne merveilleuse grand coeur beaucoup partage attention logement excellent couple cherchent tranquillit proximit cette ville tumultueuse tout pr plus importants site touristiques ville transport publiques beaucoup utilis puisque mari presque tout fait pieds recommande sans h siter logement adultes recherche nuits calmes lit confortable peux tout crire invite journer car regretteriez chame spacieuse propre agr able quartier offrant nomeuses facilit rejoindre coeur lisbonne notamment passage fameux tram pratique aussi rejoindre roport tro accueil sympathique cristina montr extr mement r active disponible change adresse recommand great office space working try little bakery street euro lunch super friendly owner logement cristina tout fait conforme photo logement relativement bien situ possibilit visiter ensemble ville pied rue calme cristina attentive r active demandes plus assez arrangeante arriv pu poser bagages appartement matin alors chame tait encore disponible recommandons big room bathroom u kitchen beautiful comfortable like buy ead fruit eat eakfast beautiful kitchen tram nearby metro minute walk cristina nice host apartment beautiful one best location lisboa host welcoming place clean tidy cozy location perfect quiet yet central place remark noise extremely tired first night decided go bed pm pregnant need hour sleep surprised hear host guest guessing age building could hear room boyfriend really get quality sleep people left around next night quiet fortunately could sleep spacious room work desk shared bathroom side hallway coming area lisbon easy communication cristina oigado cristina place strategically located lisbon subway station anjos minute walking distance apartment cristina apartment cozy clean get see beautiful picture misleading cristina outstanding host always helpful understanding really made feel home definitely stay place back lisbon highly recommended cristina house perfect place stay central position near metro station near main touristic point beautiful welcoming house cleaning cozy house cristina friendly helpful really respectful person definitely assert one best airb b experience thanks cristina chez cristina calme chaleureux charmant comme chez soi ailleurs premi re parole accueillantes mn metro station coeur ville retour plus sportif car rue heliodoro peu raide situ hauteur fait charme lisbonne monte descend tout temp bout jours pris pli cristina tima pessoa casa acolhedora departamento bonito estilo modo localidad buena puede llegar facilmente lados bus metro departamento cristina recibi atentamente persona simp tica recomendado clean tidy well located cristina wonderful host downside property number traveller may staying well two room flat private cabin studio garden patio area ideal place sit relax apartamento encuentra bien ubicado f cil acceso caminando sitios turisticos centro lisboa habitaci comoda confortable descansar indan recomendaciones tile soe lisboa actividades restaurantes etc buena opci hospedarse lisboa really nice stay everything clean christina nice host even prepared information city u sharing flat guest cristina excelente gracias lisboa hizo f cil siempre atenta mensajes ayuda movilizarte habitaci amplia limpia casa cerca metro recomiendo cristina cristina h super aid suite voyage donn bonnes adresses lisbonne tait facile changer puisque cristina parle tr bien fran ai chame spacieuse bien cor appartement tr agr able bien plac pas excellent jour chez cristina airbnb tr propre fid photo christina vraiment gentille serviable place super big comfortable super nice host definitely choose cristina place back lisbon cristina h tesse petits soins voyageurs logement id alement plac cot arr ligne tram tout pr tro chame spacieuse cristina met tout disposition h sitez rendre visite bardzo solidny gospodarz lubi pom w ka dej sprawie adnych problem w logement propos parfaitement conforme description galement situ proximit centre moyens transport cristina disponible accueillante jour excellent ville tr charmante chame parfaite cristina tr bel appartement proche tro tr lumineux chame conforme annonce spacieuse beau volume rangements v tements recommandons everything perfect wonderful time cristina place apartment super well located metro stone throw away thank cristina attention touch room great cristina fantastic host home cozy nicely decorated room booked actually quite spacious expected high ceiling great office space well nice lounge around lot thoughtful touch room like collection book room bottle water room provided thoughtful small thing make difference really enjoyed stay lisbon would absolutely recommend others would like book airbnb amazing loved start saying best bed ever comfortable hard leave morning sightsee lisbon cristina warm kind welcoming host thoughtful discrete felt right home house would stay recommend wonderful time christina place everything clean lovely decorated loved used self made booklet touristic recommendation window open get noisy night apart super content stay location nailed excelente localiza cristina atenciosa h spedes sentimos pa espa limpo aconchegante facilidade comunica timas dicas passeio recomendamos certeza voltaremos perfect place visit lisbon min bus stop min green line reach whatever place lisbon min foot everywhere room huge comfortable silent moreover garden something exceptional cristina polite helpful provided u great suggestion suggested cristina place perfect location explore lisbon supermarket metro city center close reach foot apartment clean cozy bedroom fan perfect get good night rest cristina friendly gave u tip little day trip restaurant could go perfect stay lisbon cristina charming appartment well decorated well located next main metro line well received cristina gave u guide city made daughter recommandating place visit eat party etc ficamos dia casa cristina melhores momentos viagem conseguimos fazer parte central p regi pante bem pr xima precisamos usar transporte p blico ir bel sintra usamos carros aplicativos poi barato partir pessoas conforto extra rgicas usamos diversas vezes cozinha cristina sempre deixou extremamente vontade qualquer coisa escreva aqui vai conseguir traduzir toda experiencia acolhimento cristina fam lia profundo sentimento gratid pode traduzir termos estrutura internet excelente precisa trabalhar chuveiro maravilhoso principalmente longas caminhas banheiro acabou ficando exclusivo nica coisa voc tomar cuidado conforto quarto dormir demais voc precisa acolhimento generosidade lugar localiza estrat gica lugar aqui cristina voc mora anjos toa certeza delightful stay cristina place first arrive provided u helpful tip map city room really clean confortable actually bigger expected indeed great host kitchen well appointed bathroom tiny pretty scummy bedroom large bed comfortable room full old book personal item leaving small drawer belonging small sitting area overcrowded wall wall wardrobe full musty smelling personal item junk space available hanging item musty moldy smell permeated entire room cupboard opened quickly closed closet opened window clear air open wardrobe accommodation worth nightly fee cristina accueilli tr chaleureusement grand appartement bien situ centre lisbonne loin tro anjos chame spacieuse lit confortable arriv cristina pr sent livret plein bonnes adresses r ali merci tout cristina place really good location able walk centre without problem check quick smooth room really spacious small working space big desk amazing working amazing option lisbon apartment beautiful located quiet area room nice cozy private bathroom extremely clean could notice cristina cared lot make sure clean throughout stay kind gave u lot information tip lisbon surrounding area although bit tourist area located nice pleasant walk distance city center definitely recommend place would back sure cristina definitely super host nice clean room good clean space anjos hospitality cristina excellent room spacious table helpful work flat clean well designed criticism double bed made foam got quite warm uncomfortable bit cramped two people least otherwise clean safe good value room excellent cristina h tesse tr accueillante disponible calme aussi tr accommodante donn bonnes information diff rente activit fait couvrir quartier gra vu lors premier jour chame int ressante parce ell espace bureau tr grand chame tr agr able vivre spacieuse bien meubl surtout matelas plus confortable tout voyage chame bureau taient propret impeccable cette chame beaucoup espace rangement ceux aiment vive leurs valise beaucoup choses disponibilit cuisine comme pices caf huile plus espace jardin ba table chaise parasol proche plusieurs attraits touristiques dont castelo jorge alfama minute tro anjos beaucoup aim jour chez cristina recommande fortement beautiful pretty warm place friendly helpful host stay aware may neighbor room local maravilhoso anfitri espet culo pessoa super indico procuram paz centraliza perto tudo precisas ambiente agrad vel timas companhias cristina wonderful host amazing stay cute place great location accessible touristy spot city highly recommend cristina nice apartment could even use living room private bathroom apartment well located close lookout tram enjoyed time lisbon cristina atenciosa cuidadosa casa agrad vel tudo precisamos perto tudo precisamos tb mercado metro nibus autocar etc super recomendo cristina accueilli chaleureusement appartement agr able calme pi vie attenante chame tr agr able cela donne espace vie spacieux lit confortable logement bien quip tout faut cuisiner cuisine seul espace partag autres locataires salle douche spacieuse bien fonctionnelle rue pente plusieurs bus arr tent juste pied rue envie marcher depuis tro chargez appli moovit conna tre ligne horaires tout faut quartier manger faire course everything great beyond room come kind private living room neighborhood lovely lovely lisbon cristina really kind helpful wonderful clean peaceful private room bathroom living area cristina kind excellent host communication great appreciated near little restaurant grocery store metro close easy use neighborhood heart touristy area appreciated still close easy get touristy stuff nice spacy great location highly recommend everything fine good communication sweet apartment clean everything need one week centre lisboa metro next would really nice amount space sole access bedroom sitting room share bathroom nice able get really cheap taxi popular part lisbon pretty easily area apartment popular fyi cristina great friendly helpful pr tout h bien organis tr sympathique propre wifi fonctionne tr bien bel endroit vivre easy super good stay christina super friendly host helped u everything needed street car couple block away everything clean allowed friend move last day fee wifi great working remotely enjoyed sure beautiful home necessity including grocery store restaurant even lookout point host warm helpful welcoming kitchen exceptionally equipped received needed help thank hosting u wonderful stay cheer great place private apartment close proximity center polite host thank great experience staying airbnb host sweet helpful making stay comfortable possible greatly appreciated place cute honestly done justice photo tr bel appartement situ quartier tr sympa lisbonne pr tro quartiers gra alfama beaucoup appr jour tr calme impression tre maison seuls bien appartement partag place amazing look like dreamy european city getaway location amazing great place grab bite easy access transit would definitely back posto molto comodo raggiungere metro tutte mete importanti lisbona pochissimi minuti lontano aereoporto contempo tranquillo silenzioso buon quartiere atm supermercati vicinanze completano quadro fermata tram pochi metri cristina stata molto gentile accolto dandoci consigli posti vedere stanza carina solo andare bagno devi passare area comune altri ospiti cosa capito annuncio guastato soggiorno stato molto gradevole consiglio eve visita lisbona cristina adorable room private living room awesome clean spacious calm everything needed provided great location without many tourist around recommend sure really liked staying christina place cozy clean nice place calm day exploring lisbon guten aufenthalt cristinas wohnung ganze woche angrenzende wohnzimmer zeit beengend wohnung gibt weiteres g stezimmer eigenem bad direkt ber zimmer innenhof chalet bewohner chalet ssen hinaus wohnzimmerfenster vorbei insofern wichtig wissen bodentiefen wohnzimmerfenster einzige glichkeit ften schlafzimmer eigenen fenster ventilator fenster direkt bett schaut ansonsten wohnung geschmackvoll gem tlich eingerichtet sauber k einladend lage angenehm wohnung ruhig check joana verlief ebenfalls problemlos vielen lieben dank beiden f r liebevoll zusammengestellte heft tip mitten stadt dennoch ruhig gelegen wohnung cristina caf mercado metro leicht erreichbar tolle verl ssliche kommunikation cristina gerne simplemente fant stico hospedarme cristina apartamento limpio modo tranquilo diez lugar modo limpio sch ne zimmer privatem bad wohnzimmer geteilter k besser fotos beschreibung freundliche gastgeberin gute lage vriendelijke schoen'"
            ],
            "application/vnd.google.colaboratory.intrinsic+json": {
              "type": "string"
            }
          },
          "metadata": {},
          "execution_count": 46
        }
      ],
      "source": [
        "updates[10]"
      ]
    },
    {
      "cell_type": "code",
      "execution_count": 47,
      "id": "0df5306d",
      "metadata": {
        "colab": {
          "base_uri": "https://localhost:8080/",
          "height": 244
        },
        "id": "0df5306d",
        "outputId": "b18720e9-039c-4482-b09d-e60033dd9dd9"
      },
      "outputs": [
        {
          "output_type": "execute_result",
          "data": {
            "text/plain": [
              "\"Walk up original wooden stairs to the entrance of an apartment bathed in light. Here, wooden fixtures rest atop hardwood floors and are accentuated by bold blues and vibrant plant life. Play a game on the tennis court and dive into the pool.<br /><br /><b>License number</b><br />80419/ALServiced holiday apartments casa in Azenhas do Mar combining the amenities of a luxury hotel with the space and privacy of your own vacation house. WOW, what a great stay! The spacious apartment is brand new with a super nice interior and the best view over the ocean. The light that falls into the rooms is so special at different times of the day, it is simply magic! It really felt like home from the very first moment, the house by the sea you always dreamt of. A coastal walk starts right at the property, which leads you to Azenhas do Mar in just a few minutes (beach, restaurants, but no supermarket). We enjoyed a breathtaking sunset with a glass of wine right by the pool. The beds are MEGA comfy and after a day outdoors with lots of sea breeze we slept so well. Yoga mats are provided. We definitely will be back for a longer stay!!!\\nOUTPOST is a beautiful place to stay in Azenhas Do Mar. The property is newly renovated and looks and feels brand new. Owner Chris oversees every detail and he has great attention to style and detail - the towels and bed linens smell amazing!!  We arrived after dark and hungry on our first night and Chris kindly let us follow him to his favorite restaurant in the area for dinner which was one of our best on the trip. The property is pristinely kept. The private pool area is wonderful and would make this a fantastic place in the summer. Historic Sintra is only a 15 min drive away but you feel like you’ve escaped all the hustle & bustle at OUTPOST. We only had one hiccup whist there. We had mistakenly left an open bag of sugar in the kitchen at night and some ants had found it by the morning. Chris responded immediately and the problem was taken care of by the time we returned from breakfast. He is the perfect host who is more than eager to meet any need that comes up. We stayed at 5 different AIRB&B places on our trip. We enjoyed all of them in their own way but OUTPOST was undoubtedly the best. Very highly recommended.\\nReally appreciated our stay at this beautifully designed place!!! Apartment is so nicely decorated, and well planned: huge bathroom, open concept design of living room, dining room and kitchen. And what a view of the ocean, breathtaking! Kris - the host is super helpful, has lots of tips and recommendations.\\nOutstanding location and view<br/>Super clean and nice<br/>We had some misunderstandings but solved in peace<br/>Recommend!\\nWundervoll! Tolle Aussicht in einem ansprechenden Zuhause, im Sommer bestimmt noch besser zu nutzen.\\nWe LOVED our stay! We reviewed you all 5 stars on everything. The joy and hospitality that is shared with your guests is as spectacular as the view from the house. Be sure to read the folder provided at check in with ideas of things to do bc that’s how we found the most fabulous restaurant in town- Patricia’s! Cannot day enough wonderful things about this place and all of the people we met.\\nGorgeous apartment and location! Beautiful, clean, open space. 5 minute walk from the beach but you can see the ocean right from the apartment. Loved staying here. The outdoor spaces (pool, seating, etc.) are shared with guests in other apartments but everyone is respectful and it felt like you had your own space. Can’t recommend enough!\\nThis is a great place! Only a 45-50 min drive from downtown Lisbon. You're literally on the coast, get to wake up to seeing the waves and the inside/decor is great. Also beds are really comfortable.\\nThe host canceled this reservation 29 days before arrival. This is an automated posting.\\nthis is not at all what we expected.  when we arrived at the place we decided it was better to leave.  The description indicates that this is the entire housing.  The house has a bad smell and every word of the neighbors is heard behind the wall.  I do not recommend this accommodation. for the money they ask for. You can rent a whole villa with a private pool and no neighbors.  the owner answered for a very long time.  we have a negative impression\\nI can't recommend this place enough, it looked amazing in photos but even better in person! There were so many little details that exceeded my every expectation and made the experience absolutely enjoyable.<br/><br/>Will be coming back over and over again!\\nResponsável, muito simpática sempre a escuta de qualquer problema.<br/>Equipa agradável.\\nOutpost was so amazing! We had the most wonderful time in this beautiful apartment. The location is incredible and has everything you need. We travelled with our 6 month old and it was the perfect place for a baby. Host is wonderful and check in and out was so easy. Definitely worth the money!\""
            ],
            "application/vnd.google.colaboratory.intrinsic+json": {
              "type": "string"
            }
          },
          "metadata": {},
          "execution_count": 47
        }
      ],
      "source": [
        "merged_df['text'][10]"
      ]
    },
    {
      "cell_type": "code",
      "execution_count": 48,
      "id": "82349bb5",
      "metadata": {
        "id": "82349bb5"
      },
      "outputs": [],
      "source": [
        "def update_df(dataframe, list_updated):\n",
        "    dataframe.update(pd.DataFrame({\"text\": list_updated}))"
      ]
    },
    {
      "cell_type": "code",
      "execution_count": 49,
      "id": "3145656c",
      "metadata": {
        "colab": {
          "base_uri": "https://localhost:8080/",
          "height": 455
        },
        "id": "3145656c",
        "outputId": "1fc0644f-8104-4656-ee92-e0fe7e2b87d2"
      },
      "outputs": [
        {
          "output_type": "execute_result",
          "data": {
            "text/plain": [
              "       unlisted                                               text\n",
              "index                                                             \n",
              "1             0  espa fica perto parque eduardo vii saldanha es...\n",
              "2             1  trafaria house cozy familiar villa facility ne...\n",
              "3             1  apartamento charmoso chiado largo carmo traves...\n",
              "4             0  joli appartement bordure mer min pied plage vu...\n",
              "5             0  important response covid property extended cle...\n",
              "...         ...                                                ...\n",
              "12492         0  beautifully located heart lisbon historic cent...\n",
              "12493         0  enjoy eakfast sleek kitchen freestanding knott...\n",
              "12494         0  terra eira casa campo rodeada rvores fruto con...\n",
              "12495         1  andnew apartment combine elegant charme excell...\n",
              "12496         1  This brandnew Apartment combines elegant charm...\n",
              "\n",
              "[12496 rows x 2 columns]"
            ],
            "text/html": [
              "\n",
              "  <div id=\"df-ae872f75-93cb-446f-b211-a36c6d465469\">\n",
              "    <div class=\"colab-df-container\">\n",
              "      <div>\n",
              "<style scoped>\n",
              "    .dataframe tbody tr th:only-of-type {\n",
              "        vertical-align: middle;\n",
              "    }\n",
              "\n",
              "    .dataframe tbody tr th {\n",
              "        vertical-align: top;\n",
              "    }\n",
              "\n",
              "    .dataframe thead th {\n",
              "        text-align: right;\n",
              "    }\n",
              "</style>\n",
              "<table border=\"1\" class=\"dataframe\">\n",
              "  <thead>\n",
              "    <tr style=\"text-align: right;\">\n",
              "      <th></th>\n",
              "      <th>unlisted</th>\n",
              "      <th>text</th>\n",
              "    </tr>\n",
              "    <tr>\n",
              "      <th>index</th>\n",
              "      <th></th>\n",
              "      <th></th>\n",
              "    </tr>\n",
              "  </thead>\n",
              "  <tbody>\n",
              "    <tr>\n",
              "      <th>1</th>\n",
              "      <td>0</td>\n",
              "      <td>espa fica perto parque eduardo vii saldanha es...</td>\n",
              "    </tr>\n",
              "    <tr>\n",
              "      <th>2</th>\n",
              "      <td>1</td>\n",
              "      <td>trafaria house cozy familiar villa facility ne...</td>\n",
              "    </tr>\n",
              "    <tr>\n",
              "      <th>3</th>\n",
              "      <td>1</td>\n",
              "      <td>apartamento charmoso chiado largo carmo traves...</td>\n",
              "    </tr>\n",
              "    <tr>\n",
              "      <th>4</th>\n",
              "      <td>0</td>\n",
              "      <td>joli appartement bordure mer min pied plage vu...</td>\n",
              "    </tr>\n",
              "    <tr>\n",
              "      <th>5</th>\n",
              "      <td>0</td>\n",
              "      <td>important response covid property extended cle...</td>\n",
              "    </tr>\n",
              "    <tr>\n",
              "      <th>...</th>\n",
              "      <td>...</td>\n",
              "      <td>...</td>\n",
              "    </tr>\n",
              "    <tr>\n",
              "      <th>12492</th>\n",
              "      <td>0</td>\n",
              "      <td>beautifully located heart lisbon historic cent...</td>\n",
              "    </tr>\n",
              "    <tr>\n",
              "      <th>12493</th>\n",
              "      <td>0</td>\n",
              "      <td>enjoy eakfast sleek kitchen freestanding knott...</td>\n",
              "    </tr>\n",
              "    <tr>\n",
              "      <th>12494</th>\n",
              "      <td>0</td>\n",
              "      <td>terra eira casa campo rodeada rvores fruto con...</td>\n",
              "    </tr>\n",
              "    <tr>\n",
              "      <th>12495</th>\n",
              "      <td>1</td>\n",
              "      <td>andnew apartment combine elegant charme excell...</td>\n",
              "    </tr>\n",
              "    <tr>\n",
              "      <th>12496</th>\n",
              "      <td>1</td>\n",
              "      <td>This brandnew Apartment combines elegant charm...</td>\n",
              "    </tr>\n",
              "  </tbody>\n",
              "</table>\n",
              "<p>12496 rows × 2 columns</p>\n",
              "</div>\n",
              "      <button class=\"colab-df-convert\" onclick=\"convertToInteractive('df-ae872f75-93cb-446f-b211-a36c6d465469')\"\n",
              "              title=\"Convert this dataframe to an interactive table.\"\n",
              "              style=\"display:none;\">\n",
              "        \n",
              "  <svg xmlns=\"http://www.w3.org/2000/svg\" height=\"24px\"viewBox=\"0 0 24 24\"\n",
              "       width=\"24px\">\n",
              "    <path d=\"M0 0h24v24H0V0z\" fill=\"none\"/>\n",
              "    <path d=\"M18.56 5.44l.94 2.06.94-2.06 2.06-.94-2.06-.94-.94-2.06-.94 2.06-2.06.94zm-11 1L8.5 8.5l.94-2.06 2.06-.94-2.06-.94L8.5 2.5l-.94 2.06-2.06.94zm10 10l.94 2.06.94-2.06 2.06-.94-2.06-.94-.94-2.06-.94 2.06-2.06.94z\"/><path d=\"M17.41 7.96l-1.37-1.37c-.4-.4-.92-.59-1.43-.59-.52 0-1.04.2-1.43.59L10.3 9.45l-7.72 7.72c-.78.78-.78 2.05 0 2.83L4 21.41c.39.39.9.59 1.41.59.51 0 1.02-.2 1.41-.59l7.78-7.78 2.81-2.81c.8-.78.8-2.07 0-2.86zM5.41 20L4 18.59l7.72-7.72 1.47 1.35L5.41 20z\"/>\n",
              "  </svg>\n",
              "      </button>\n",
              "      \n",
              "  <style>\n",
              "    .colab-df-container {\n",
              "      display:flex;\n",
              "      flex-wrap:wrap;\n",
              "      gap: 12px;\n",
              "    }\n",
              "\n",
              "    .colab-df-convert {\n",
              "      background-color: #E8F0FE;\n",
              "      border: none;\n",
              "      border-radius: 50%;\n",
              "      cursor: pointer;\n",
              "      display: none;\n",
              "      fill: #1967D2;\n",
              "      height: 32px;\n",
              "      padding: 0 0 0 0;\n",
              "      width: 32px;\n",
              "    }\n",
              "\n",
              "    .colab-df-convert:hover {\n",
              "      background-color: #E2EBFA;\n",
              "      box-shadow: 0px 1px 2px rgba(60, 64, 67, 0.3), 0px 1px 3px 1px rgba(60, 64, 67, 0.15);\n",
              "      fill: #174EA6;\n",
              "    }\n",
              "\n",
              "    [theme=dark] .colab-df-convert {\n",
              "      background-color: #3B4455;\n",
              "      fill: #D2E3FC;\n",
              "    }\n",
              "\n",
              "    [theme=dark] .colab-df-convert:hover {\n",
              "      background-color: #434B5C;\n",
              "      box-shadow: 0px 1px 3px 1px rgba(0, 0, 0, 0.15);\n",
              "      filter: drop-shadow(0px 1px 2px rgba(0, 0, 0, 0.3));\n",
              "      fill: #FFFFFF;\n",
              "    }\n",
              "  </style>\n",
              "\n",
              "      <script>\n",
              "        const buttonEl =\n",
              "          document.querySelector('#df-ae872f75-93cb-446f-b211-a36c6d465469 button.colab-df-convert');\n",
              "        buttonEl.style.display =\n",
              "          google.colab.kernel.accessAllowed ? 'block' : 'none';\n",
              "\n",
              "        async function convertToInteractive(key) {\n",
              "          const element = document.querySelector('#df-ae872f75-93cb-446f-b211-a36c6d465469');\n",
              "          const dataTable =\n",
              "            await google.colab.kernel.invokeFunction('convertToInteractive',\n",
              "                                                     [key], {});\n",
              "          if (!dataTable) return;\n",
              "\n",
              "          const docLinkHtml = 'Like what you see? Visit the ' +\n",
              "            '<a target=\"_blank\" href=https://colab.research.google.com/notebooks/data_table.ipynb>data table notebook</a>'\n",
              "            + ' to learn more about interactive tables.';\n",
              "          element.innerHTML = '';\n",
              "          dataTable['output_type'] = 'display_data';\n",
              "          await google.colab.output.renderOutput(dataTable, element);\n",
              "          const docLink = document.createElement('div');\n",
              "          docLink.innerHTML = docLinkHtml;\n",
              "          element.appendChild(docLink);\n",
              "        }\n",
              "      </script>\n",
              "    </div>\n",
              "  </div>\n",
              "  "
            ]
          },
          "metadata": {},
          "execution_count": 49
        }
      ],
      "source": [
        "merged_df = merged_df.drop(['word_count'], axis=1)\n",
        "update_df(merged_df, updates)\n",
        "merged_df"
      ]
    },
    {
      "cell_type": "code",
      "execution_count": 50,
      "id": "7c755a7f",
      "metadata": {
        "colab": {
          "base_uri": "https://localhost:8080/"
        },
        "id": "7c755a7f",
        "outputId": "adbf76b6-7aa6-4cbf-dcc9-48a1a9a27712"
      },
      "outputs": [
        {
          "output_type": "stream",
          "name": "stderr",
          "text": [
            "100%|██████████| 1389/1389 [01:14<00:00, 18.56it/s]\n"
          ]
        }
      ],
      "source": [
        "updates2 = clean(merged_df_test['text'], lemmatize=True, stemmer=False)"
      ]
    },
    {
      "cell_type": "code",
      "execution_count": 51,
      "id": "10f70c1e",
      "metadata": {
        "colab": {
          "base_uri": "https://localhost:8080/",
          "height": 209
        },
        "id": "10f70c1e",
        "outputId": "de85d177-e38e-4caa-cc27-fb58634290eb"
      },
      "outputs": [
        {
          "output_type": "execute_result",
          "data": {
            "text/plain": [
              "'quaint beautiful flat one lisbon trendiest area bairro alto oozing european charm lisbon historical city center ceramic tile covered stone building lay near must see bit western europe hottest destination bairro alto legendary bar restaurant district bar free street oasis peace quiet winding cobblestone street block tram min walk pr ncipe real min walk baixa chiado metro cais sodr b space b ur flat apartment building nearly two century old capture essence lisbon ancient history sitting center typical historical neighborhood occupies entire rd floor building th floor american standard full length narrow balcony affords view winding street glimpse tejo river flowing atlantic distance thousand meter hill hi jos live lisbon msc engineering physic student lisbon university managing great flat sure good time'"
            ],
            "application/vnd.google.colaboratory.intrinsic+json": {
              "type": "string"
            }
          },
          "metadata": {},
          "execution_count": 51
        }
      ],
      "source": [
        "updates2[10]"
      ]
    },
    {
      "cell_type": "code",
      "execution_count": 52,
      "id": "a54a2a7c",
      "metadata": {
        "colab": {
          "base_uri": "https://localhost:8080/",
          "height": 244
        },
        "id": "a54a2a7c",
        "outputId": "2136afec-ccd8-42a7-e936-eca33b90e91e"
      },
      "outputs": [
        {
          "output_type": "execute_result",
          "data": {
            "text/plain": [
              "'Gorgeous bright one bedroom with sunny balcony in the old town of Cascais offers visitors a real feel of local life. Located on a quiet green square with mature trees and benches. We receive sun in the morning and the afternoon and have lovely views over tree tops from the fully equipped kitchen. Modern bathroom with bath and shower.<br /><br /><b>The space</b><br />Renovated apartment in the old quarters.  The sunny west facing balcony offers you a chance to soak up a little sunshine or a nice evening meal. Airconditioning means you will feel warm in winter and cool in summer making this a great all year round place to stay.<br />Located on a quiet green square with mature trees and benches. The space is well organised with plenty of storage  and it is bright and airy.<br /><br /><b>Guest access</b><br />Access is via the main building door. Two flights of stairs - no lift.<br /><br />Parking: <br />Cascais station 24h: €15 Walk: 10m<br />Hipódromo de Cascais Av. República 553. 24h: € Our mission is to make you feel like a friend when you visit us. When you are renting one of our properties, we meet you personally with the key, which gives us an opportunity to impart enough initial information to you to get you enjoying your stay as soon as possible._x000D_\\n_x000D_\\nWe would like to show you the real Portugal and so we offer personalised visits & days out with real locals who will share with you what the large tour companies cannot._x000D_\\n_x000D_\\nWe aim to provide quality accommodation for visitors looking for the freedom which self-catering offers._x000D_\\n_x000D_\\nAdditionally, we offer to identify first-rate properties for foreign investors wanting to buy property in Portugal, either for own use or to realise a return through the holiday rental market. But don\\'t take my word for it… take a tour with us and we will happily show you around._x000D_\\n_x000D_\\nWe are a small organisation and would like to remain that way in order to assure you of a service, which is as personalised as you want it to be. Great location--easy access to town, but nice quiet neighborhood with a pretty park in front. The apartment is clean and modern with everything needed. Only issue was with communication with the listing company, Portugal Portfolio.\\nCes jour a été  excellent! Cassie nous a très bien accueilli et nous a expliqué toutes les choses à faire a Cascais et au-delà, elle nous a même envoyé un mail avec des recommandations. Nous en avons suivi quelques-unes, et nous avons été très satisfaits. Si nous revenons a Cascais, nous viendrons sans aucun doute à la même adresse :)\\nEine absolut empfehlenswerte Unterkunft. Wunderbar gelegen, um einkaufen oder essen zu gehen, zum Strand zu laufen oder überhaupt Cascais zu erkunden. Cassie hat uns liebevoll und sehr warmherzig empfangen und uns die ganze Zeit über toll mit kleinen Tipps versorgt. Die Kommunikation im Ganzen war hervorragend. Man kann sich keine besseren Gastgeber vorstellen. Das Apartment war absolut sauber und gut ausgestattet. Die Gegend war ruhig und sicher. Gern wieder.\\nDie Unterkunft war wirklich klasse und ich kann sie jedem nur empfehlen. Tolle Ausstattung und die Lage ist perfekt. Nur wenige Minuten zum Strand und zu tollen Restaurants. Ich wäre sehr gern noch länger geblieben.\\nAusführliche Begrüssung. Keine technischen Kenntnisse (AC)\\nIn a lot of ways this was an excellent apartment - great location (walking distance to beach and excellent restaurants), Cassie the host gave us a really detailed explanation of the local area when we arrived, the apartment was clean and light with the nice bonus of the balcony. <br/><br/>However, the listing was advertised as having air conditioning. There was no air conditioning - just electric fans. Due to noise and the water having to be emptied on a regular basis, it was impractical to leave them on at night - which meant a very warm and uncomfortable night sleep. <br/><br/>We travelled in August. If going at cooler time of year or if you get confirmation that the air conditioning has now been installed ... Would definitely recommend! \\nExcellent and very convenient location for Cascais nightlife as well as family stay.\\nThis is a sweet little apartment in an older building located in a quiet, lovely part of town, close to everything. It\\'s simply decorated and full of light. I enjoyed having the little balcony as well. For a short stay, it has everything you need. My only suggestions would be to include an inside sweeper or broom, and perhaps a reading light in the living room. Plus, the floors in the living room by the balcony are in need of repair. But these are small things. I had a very happy stay in this cheery little space, and Cassie was great! So helpful.\\nMe and my father had a fantastic stay in Cascais in this wonderful appartment. Everything was clean and nice! we enjoyed a lot staying at the balcony for meals. The neighborhood is very calm and green and you get a good sleep! Cassie was very friendly, she gave us lots of tips for cascais, Lisbon and the surroundings. Communication was very easy with Cassie. I would recommend this appartment and hope to be back soon! Muito Obrigada Cassie :)\\nWe lived our stay at the Casa do Largo. It was clean and well appointed. Great location for walking into Cascais centre but in a quiet residential area. I\\'d recommend it and also hope to be back. \\nTrès bel appartement \\nLoved staying here. Perfect for us. \\nHad a great stay in the apartment which was lovely and a great place to come back to after a hot day at the beach, only downsides are one of the lights was held in by sticky tack which actually fell out while we was in the lounge and the shower head also wouldn\\'t stay up which made having showers more difficult.\\nThe flat was perfect and very well located, not far from the center of Cascais. it was very well equipped.<br/>We were met by Cassie who was very helpful and provided us with all the necessary information regading the equipment in the flat, as well as about Cascais, an its surroundings.<br/>We spent wonderful vacation!\\nA really great property with everything you need and close to the Centre of Cascais and the beaches.<br/><br/>We were greeted by a very friendly face in Cassie and she gave us all of the information we needed to enjoy our stay.<br/><br/>Would definitely go back!\\nThis was our second time to stay at this property, lovely apartment and great location. Will hopefully return for another trip in the future!\\nAlles wie beschrieben, geniale und professionelle Gastgeber, 2 Gehminuten zum Hafen, Restaurants und Altstadt.  Jederzeit wieder!\\n100% recommend this place! The neighborhood is quiet, beautiful and characteristic but literally a few minutes walk/streets from all the best things Cascais has to offer: cafes, restaurants, beaches, parks, museums, shopping, transport links etc. We were greeted by a wonderful host and the apartment has a very good info book. The apartment is just as pictured and described except the \"roof terrace\" is only a place where the residents dry their clothes. There is no furniture up there whatsoever and it had high walls so it\\'s not really somewhere you would/could hang out. For more than a two night stay you have to buy your own stocks of toilet paper and cleaning products - they only leave you enough for two clothes/dishwasher washes and 2 small toilet rolls. The bed linen seemed to be an unnatural fiber? Polyester?  Not ideal given the hot climate but I have mentioned this to the management company and hopefully it will be remedied. Due to the extremely small hot water tank I don\\'t think this place works for 4 adults unless you\\'re happy to stagger showers over 24 hours or have them cold.  Don\\'t get me wrong - I still totally recommend the apartment for a stay in Cascais - it\\'s just good to know the quirks in advance no? We will recommend this Casa de Largo to our friends and family - it\\'s a great apartment. Thanks again / we really enjoyed our home away from home.\\nI\\'ve stayed in this apartment several times now and will always come back.<br/>It is clean, quiet and close to all that is Cascais. I love this place.\\nHet appartement is erg netjes. Het ligt dicht bij het centrum. Alles is in de buurt. Een aanrader.\\nDit appartement is dichtbij alles gelegen en toch lekker rustig.<br/>Het bied alles wat je nodig hebt voor een fijn verblijf.<br/>Het enige nadeel is dat je in Cascais overal (dus ook bij het appartement) moet betalen om de auto te kunnen parkeren; ongeveer 7 euro per dag.\\nCassie hat uns sehr herzlich empfangen und uns viele gute Tipps (Bäckerei, Restaurants etc.) gegeben. Die Unterkunft ist gut ausgestattet und zentral gelegen.\\nIt was great... We really enjoyed the time at the Apartment. The flat feels a bit smaller then on the pictures but thereby it felt way more cosier. The littly balcony makes it just lovely, where you can enjoy the sun during the day. Everything is pretty close and you get what you need within 10-15min by walking...  groceries, train station to Lisbon or the coast.<br/>Just to mention it. For 2 people you might have to watch a bit the hot water usage, because the boiler is not the biggest. But the apartment was well equipped and everything was working fine!!<br/>It was a pleasure!! Thanks again that it was possible so spontaneous...<br/>Cheers<br/>Seb\\nO apartamento é bem equipado, super bem localizado e limpo. O anfitrião foi muito atencioso <br/>Recomendo !\\nEverything went well with my stay. The kitchen is well equipped, everything is clean and comfortable. Location is amazing as it is quiet but near the city center and walkable to super market (perhaps 15 minutes?) and also beach/restaurants. <br/>I have really enjoyed. Shower probably can stay on for 2 showers of 5 minutes each. That\\'s the only thing that made my stay less than perfect. <br/><br/>Big thanks to the host!\\nExcellent apartment which offers everything you might need. There is also a very nice balcony. We got a very warm welcome from Cassie who also gave us lots of useful information about Cascais and its surroundings. I strongly recommend this place!\\nWe had a lovely time is this apartment. The hospitality and warm welcome by Cassia were really more than we expected. The apartment is really central to the tourist destinations and walking distance to loads of restaurants, but located in a quiet neighborhood area.\\nThis place was perfect. Great location, amenities were great and Carrie who checked us in was amazing. Highly recommend for anyone. The balcony is a great way to end the day.\\nThe flat was nice and very good located. You can reach all places in the historic center of Cascais in 2 mins. the check in was very easy and quick.\\nReally great welcome and lovely place\\nThe apartment is very clean, comfortable and cozy. Location is perfect - almost in the center of Cascais, in 5-10 mins of walking from everywhere, but on a very peaceful and silent street.<br/>Highly recommend!\\nLovely space in a quiet street, but only a short walk into town and the beach. Amazing to have a balcony too!\\nThe apartment was just as the pictures portray. Everything you need to cook and relax. The location could not be better!\\nGreat apartment in a nice quiet location, yet just a short walk away from the center of Cascais. <br/>Lovely to have the balcony and also the air co!\\nThe apartment is very clean and in the perfect location.  It is just a short walk to the center, yet very quiet at night and I felt very safe there. Check in was easy and Cassie was available throughout my stay to answer any questions I had. I would definitely stay here again\\nO apartamento é completo limpo e bem localizado, atendimento foi perfeito. Recomendo !\\nWe had a great stay! The apartment is very comfortable, is in a great location and has everything one could need. The check-in was easy and the communication was great. Definitely recommended!\\nOne of the best places I stayed using AirBnB.  Apartment is very cozy and has everything needed. Terrace is just amazing. Located near town center and not too far from train station. Check-in and communication was very smooth. Definitely recommended when travelling to Cascais.\\nWe had a very helpful and detailed welcome at the apartment and felt at any moment of our stay that our hosts were available and easy to contact. The apartment was exactly like in the description, cozy and comfortable, just perfect for 2 people. It is situated in a quiet neighborhood area, very close to old town center of Cascais, only about 5 minutes to walk. We would love to come back someday in the future.\\nThe flat is very nice and comfortable. The lady who met us was very helpful.\\nGreat apartment with a lovely little balcony and in great location - close to the old town by just out of the hustle and bustle.\\nGreat location, lovely apartment..perfect with kids and to explore Cascais\\nWir haben uns sehr wohl gefühlt in dieser kleinen,  gemütlichen, funktionell eingerichteten, ruhigen  Wohnung in bezaubernder Umgebung. Die Dusche ist heiss und hat einen kräftigen Strahl. Man kann mehrere Geräte an den Strom anschliessen, ohne dass gleich die Sicherung herausspringt. Der Balkon ist vormittags im Schatten, was an heissen Tagen von Vorteil ist und nachmittags in der Sonne. Kleine Strassenläden mit dem Nötigsten sind gleich um die Ecke und der Supermarkt in 15min Gehabstand. Die Adresse ist für Taxifahrer leicht zu finden. Es hat viele kleine Restaurants in unmittelbarer Umgebung. Gehabstand zum Meer sind ca 7min. Wir werden wieder kommen!\\nThe place is exactly like described, close to the center, close to the beach and super welcoming. :)\\nGreat flat practical near city center ... great host 🥰🥰 we were delighted ! We recomand museo Paula Rego nearby, viva Cascais !\\nNice appartement and very well located in the downtown of Cascais\\nEl apartamento es lo se ve en las fotos que aparecen. Ubicacion a 5 minutos de todo, zona tranquia y cerca de la playa. Ideal para una familia compuesta de cuatro personas.   Repetiria\\nWe hebben een fantastische tijd gehad in het appartement!  Mede door de goede service van Cassie! Het appartement ligt op een goede locatie op en heeft alle noodzakelijke voorzieningen\\nGreat location, cosy apartment. Ideal for a couple.\\nThe place was bigger than I expected. It’s a good location to explore the beautiful beaches yet close to downtown Lisbon still. Be best to have a car however metro does run downtown. Great place, clean comfortable. Very nice host! Would stay again\\nThe apartment is on the second floor without elevator, but the stairway is large. It is nicely located in Cascais, almost 5min by foot from the city center. No need to drive with the car around to go for dinner. You can easily find paid parking spaces all around (1€/h - from 9am to 8pm).<br/>The apartment is cosy with all necessary amenities. The bedroom has a good size, with a good bed to enjoy a good rest. Everthing was sparkling clean when we arrived and the small balcony is realy enjoyable.<br/>Only negative point, the bathroom had a little unpleasant smell coming from the plombery. (Nothing that can’t be fixed quickly)<br/>Communication with the local contact was nice, quick and efficient.<br/>It is definitely a great option for a next stay (for a couple or alone) in Cascais.\\nFast and good communication. The flat is not that big as it looks in pictures. Hope they do some repairs in winter time as there were things that had to be repaired. They also seems to save on trash bags, dishwasher tablets...location is good, it\\'s some 10 min to downtown and 15 to beach. Apartment is in 1st floor (west European standart) so its not very easy if you have pram for baby, as there is no place to leave it in hallway.\\nErinomainen sijainti keskustan alueella , huoneisto oli siisti ja hyvin varustettu. Viestittely toimii hyvin eli kysymyksiin saimme vastaukset nopeasti. Sisäänkirjautuminen tapahtui kuten oli sovittu  ja henkilökunta oli ystävällistä.\\nWonderful Stay.  Perfect apartment and fully equipped for all one\\'s needs.  Will stay there again!\\nPerfect place for couple. Easily spend a week here. Great location. Apartment is perfect including kitchen if you wanted to cook. Great apartment.\\nEvery year we Have an excellent holiday in Cascais : very good equipped and furniture new and clean this year was quieter than the other but we had an exceptional stay and Cassie was attentive to every needs we highly recommend this apartment\\nThe apartment exceeded our expectations! Excellent value, location and had everything we needed. The hot water ran out after 5 mins in the shower but apart from that everything was great.\\nAppartement très propre, idéalement placé, quartier calme et à 5 minutes du centre de Cascais. Solange nous a très bien accueilli et a été très serviable tout le long du séjour. Je recommande sans hésiter\\nGreat stay!<br/>Comfortable, outstanding location, clean and excellent communication with the host. Will happily be back! Thanks again\\nThe location is great, tucked away from the main streets but close enough to walk to a restaurant in a matter of minutes. The building doesn’t have that many apartments so quite quiet. The apartment doesn’t have an extensive set of cutlery and crockery but enough for a holiday stay. The sofa bed is IKEA so comfortable in certain positions 🙂\\nClean, cozy, warm and sunny place. I will return there again.\\nVery well located, quite and silent area. Nice restaurants and coffees just 5 minutes walking.   Perfect apartment for enjoying Cascais,  beaches, restaurants and nightlife.  Nice kitchen and very confortable bed.\\nPerfect location, clean, great communication, just absolutely loved everything about it. I will absolutely be staying here again when I come to Cascais. Awesome balcony! They even left us some coffee and tea. Favorite Airbnb I’ve stayed in so far. Thank you!\\nTo perfecto\\nAwesome host, great space. AC is a huge plus :)\\nWe had a lovely trip to Cascais and enjoyed staying at the apartment. The apartment was quiet with no disruptions.<br/>It was clean to a good standard.<br/>The location was great. It is a 5 min walk to some great restaurants and bars and around 10 min walk to the main town centre and beaches.<br/>Communication with the host agency was always very prompt.\\nWell located. Cute apartment. Excellent communication with reaponsibles\\nA great stay ! thanks to the owner ! If you want to be in a calm area but next to Cascais city center, don\\'t hesitate to book this appartment !\\nThe bnb location is good, the neighborhood is very peaceful and charming. Although they were very helpful to fix some details the apartment had shown, the tub had its drain clogged and the couch wasn’t so comfortable to sleep on. I think the apartment fits 2 people perfectly but I don’t know  if it’s the best option for 4 people like me and my family.\\nLa casa está muy bien situada, a 5 minutos del centro de Cascais, la atención ha sido buena y rápida, la casa necesita una pequeña mejora en el mobiliario pero estaba muy limpia, es un segundo sin ascensor, nuestra estancia allí ha sido breve pero hemos estado muy cómodos, el aparcamiento es de pago de lunes a sábado, eso hay que tenerlo en cuenta.\\nnice and cozy place to stay. everything is nearby and easy to reach. just the parking situation in the area around the house is not the best.\\nEverything was just perfect. The location is great. The rooms are well equipped.<br/>The communication with the agency was smooth and friendly. Cassie met us and explained everything. <br/>We\\'d highly recommend the apartment.<br/>P.S. The only missing thing was a bottle opener (maybe we just didn\\'t find it).\\nNice little apartment in the heart of Cascais.\\nPerfect location, romantic balcony with charming view, easy check in and helpful host.\\nGreat apartment in central Cascais, a short walk from everything. Probably better for a single traveler than a couple, based on the size of the hot water tank, but it was enough for me. Loved the deck overlooking the town. Recommended!\\nA comfortable flat in a lovely quiet residential area. Approx 10-15 min slightly uphill walk from the busy restaurant/ shop area, but a lovely walk through cobbled alleyways and narrow streets. <br/>Cassie met us on arrival & was very friendly & welcoming, giving us lots of local information & was also helpful in arranging a car to take us back to the airport ( having arrived by plane, metro & train, which was hard work with a suitcase!)\\nA lovely apartment extremely well laid out with a compact kitchen which had everything. Lovely balcony for evening relaxing. Cassie was so helpful welcoming us and getting us perfectly settled in. Also she advised us on places to see and dine in. We really loved it and recommend it highly.\\nCozinha bem equipada. Agradável e silencioso. Decorado com carinho e bom gosto.\\nNice appartment very centrally located in Cascais, but distant enough from tourists in a quiet part of the city. It is located on the second floor, directly under the roof, so no noise from appartments above. We are used to have a wider bed, the one in the appartment is smaller than 180 cm. The checkin was easy and the communication pleasant. We enjoyed our time in the apartment and would come back on our next visit to Cascais.\\nNice apartment at the great location!\\nLOCATION, LOCATION, LOCATION! A short but beautiful walk to everything within Cascais. The city center was 5 minutes away from delicious bakeries, quaint restaurants, the scenic Boca do Inferno is 15 minute walk in the other direction. The train station and the beautiful beach is a 10 minute walk away. <br/><br/>We were so busy checking out the beautiful city that we really only went to sleep in the bed in a cold air conditioned bedroom. If you want to venture out this is the perfect place to stay!\\nVery nice welcoming! <br/>We have enjoyed this cosy and cute appartement. There’s all necessary equipment.\\nHet apartement was heel compleet. We hadden alles wat we nodig hadden en hebben een zeer prettig verblijf gehad. Ook de flexibiliteit en communicatie met de eigenaren was perfect, zo mochten we zonder moeite langer blijven zodat we niet hoefde te zeulen met onze bagage op de laatste dag, super fijn! Ook kun je alles met ze regelen, zo regelde wij het vervoer vanaf het vliegveld met hen. Er was één minpuntje en dat lag bij de mooi gerenoveerde badkamer. Die dus wel mooi was, maar het afvoerputje was verstopt met haar en het water liep niet goed door. <br/><br/>Qua locatie is het écht perfect. De bakker op 5 minuten lopen en met dezelfde 5 minuten ben je op het strand. Op die route liggen halverwege heel leuke restaurantjes in leuk belichtte straatjes met af en toe optredens waar je heel leuk kunt lunchen/dineren.\\nExcelente ubicación e ideal para cuatro personas. Igual que en las fotos. muy recomendable\\nThe apartment is managed very well by the Portugal Portfolio - Agency. They made us feel welcome at every stage of our stay, from booking to check out. Cassie was very welcoming and helpful with check in and check out. The team responded very quickly to any queries that we had prior to our stay and kept in touch with us while we were there. It was reassuring to know that they were available if we had any difficulties with the apartment while we were there (we didn’t!)<br/>The apartment is small, but nice and very comfortable. It was very clean. It is less than a 10 minute, very pleasant, walk (downhill) to the town centre. It is about a 15 minute walk to the beaches. The supermarket is approximately 15 to 20 minutes from the apartment. However, there are bakeries nearby where you can buy fresh bread every morning. The balcony gets the sun in the afternoon/ evening. The apartment is located on the second floor and it is very quiet. There is no sound at night at all. The hot water tank is small and will only accommodate two short showers. However, the water heats up very quickly and it was not an issue for us (a family of three).  The kitchen is very well equipped. However, there is no proper dining table in the apartment and sitting down to eat comfortably is challenging.  The balcony is too small to accommodate more than two people. However, as we went out to eat every evening, at the excellent restaurants nearby, this wasn’t an issue for us. The air conditioning  allows for a comfortable night\\'s sleep in warm weather (in the bedroom only -there is no air conditioning in the living room). The large pull out setee/bed in the living room is very comfortable.<br/>Overall, we had a very enjoyable stay in this apartment in Cascais and wouldn’t hesitate to recommend it.\\nLovely clean and bright flat.  Well equipped and in an excellent location in Cascais.  The balcony added to the open feeling of the flat and with the balcony and kitchen windows open you get a lovely draft through.  <br/>It is well equipped and good shutters to keep the sun out in the day.  I would definitely recommend.\\nA truly Gem in the best place in town !<br/><br/>What a find !!! It has to be the best Airbrb in Cascais !!<br/><br/>We stayed 3 nights at “Casa do Largo” and the apartment is brilliant! <br/><br/>A lovely clean and comfortable place in a perfect location  of the Old Historical centre in Cascais; it is just  a couple of street away from the busy area of Cascais where all the shops , restaurants/ and  bars are located so you can walk everywhere. <br/><br/>It only taken us around 5-7mins to walk to the restaurant / bar & beach area which makes this apartment even better on many other offers in the area !<br/><br/>The apartment itself it super equipped with pretty much you need - air conditioning , dishwasher and wash machine , cleaning stuff, hairdryer , Towels and bedding - it is like home from home - everything we needed we found.<br/><br/>We couldn’t faulty a thing ! <br/>Everything works like should be … <br/><br/>The Wi-Fi was spot on, very strong signal and the tv offed lots of international channels too <br/><br/>Having a little balcony gives the “outside space”  feel…and you get the afternoon sun too - perfect for a glass of wine and chill before a night out!\\nFlexible check-in, fast communication and good location.\\nLovely apartment, perfect location in residential Cascais. Close to everything, restaurants, train, beach.\\nFantastic apartment. We loved our stay here for our mini moon. Close to the centre, but in a nice, quiet area. Communication was fast and easy. Thank you for everything.\\nExcellent apartment with great locality to the old town. Loved our stay.\\nWe like this appartment, have been there now the second time. You can find my review on the post for the first trip. We will come back next time.'"
            ],
            "application/vnd.google.colaboratory.intrinsic+json": {
              "type": "string"
            }
          },
          "metadata": {},
          "execution_count": 52
        }
      ],
      "source": [
        "merged_df_test['text'][10]"
      ]
    },
    {
      "cell_type": "code",
      "execution_count": 53,
      "id": "b50342d7",
      "metadata": {
        "colab": {
          "base_uri": "https://localhost:8080/",
          "height": 455
        },
        "id": "b50342d7",
        "outputId": "08bd72db-82ca-45b8-b9aa-8ceac8773be5"
      },
      "outputs": [
        {
          "output_type": "execute_result",
          "data": {
            "text/plain": [
              "                                                    text\n",
              "index                                                   \n",
              "1      important response covid property extended cle...\n",
              "2      ight beautiful spacious four bedroom apartment...\n",
              "3      charming apartment close bay cascais bedroom d...\n",
              "4      procura uma f rias perto praia casino outras a...\n",
              "5      rustic house strong typical characteristic sit...\n",
              "...                                                  ...\n",
              "1385   casa baixo cozy comfortable apartment ideal fa...\n",
              "1386   beautiful peaceful apartment superb view minim...\n",
              "1387   apartment lisbon capacity people apartment hou...\n",
              "1388   appartement situ minute pieds magnifique jardi...\n",
              "1389   Appartement situé à 5 minutes à pieds du magni...\n",
              "\n",
              "[1389 rows x 1 columns]"
            ],
            "text/html": [
              "\n",
              "  <div id=\"df-efe862dd-6cbd-421b-bc86-b6ca3dc37ac7\">\n",
              "    <div class=\"colab-df-container\">\n",
              "      <div>\n",
              "<style scoped>\n",
              "    .dataframe tbody tr th:only-of-type {\n",
              "        vertical-align: middle;\n",
              "    }\n",
              "\n",
              "    .dataframe tbody tr th {\n",
              "        vertical-align: top;\n",
              "    }\n",
              "\n",
              "    .dataframe thead th {\n",
              "        text-align: right;\n",
              "    }\n",
              "</style>\n",
              "<table border=\"1\" class=\"dataframe\">\n",
              "  <thead>\n",
              "    <tr style=\"text-align: right;\">\n",
              "      <th></th>\n",
              "      <th>text</th>\n",
              "    </tr>\n",
              "    <tr>\n",
              "      <th>index</th>\n",
              "      <th></th>\n",
              "    </tr>\n",
              "  </thead>\n",
              "  <tbody>\n",
              "    <tr>\n",
              "      <th>1</th>\n",
              "      <td>important response covid property extended cle...</td>\n",
              "    </tr>\n",
              "    <tr>\n",
              "      <th>2</th>\n",
              "      <td>ight beautiful spacious four bedroom apartment...</td>\n",
              "    </tr>\n",
              "    <tr>\n",
              "      <th>3</th>\n",
              "      <td>charming apartment close bay cascais bedroom d...</td>\n",
              "    </tr>\n",
              "    <tr>\n",
              "      <th>4</th>\n",
              "      <td>procura uma f rias perto praia casino outras a...</td>\n",
              "    </tr>\n",
              "    <tr>\n",
              "      <th>5</th>\n",
              "      <td>rustic house strong typical characteristic sit...</td>\n",
              "    </tr>\n",
              "    <tr>\n",
              "      <th>...</th>\n",
              "      <td>...</td>\n",
              "    </tr>\n",
              "    <tr>\n",
              "      <th>1385</th>\n",
              "      <td>casa baixo cozy comfortable apartment ideal fa...</td>\n",
              "    </tr>\n",
              "    <tr>\n",
              "      <th>1386</th>\n",
              "      <td>beautiful peaceful apartment superb view minim...</td>\n",
              "    </tr>\n",
              "    <tr>\n",
              "      <th>1387</th>\n",
              "      <td>apartment lisbon capacity people apartment hou...</td>\n",
              "    </tr>\n",
              "    <tr>\n",
              "      <th>1388</th>\n",
              "      <td>appartement situ minute pieds magnifique jardi...</td>\n",
              "    </tr>\n",
              "    <tr>\n",
              "      <th>1389</th>\n",
              "      <td>Appartement situé à 5 minutes à pieds du magni...</td>\n",
              "    </tr>\n",
              "  </tbody>\n",
              "</table>\n",
              "<p>1389 rows × 1 columns</p>\n",
              "</div>\n",
              "      <button class=\"colab-df-convert\" onclick=\"convertToInteractive('df-efe862dd-6cbd-421b-bc86-b6ca3dc37ac7')\"\n",
              "              title=\"Convert this dataframe to an interactive table.\"\n",
              "              style=\"display:none;\">\n",
              "        \n",
              "  <svg xmlns=\"http://www.w3.org/2000/svg\" height=\"24px\"viewBox=\"0 0 24 24\"\n",
              "       width=\"24px\">\n",
              "    <path d=\"M0 0h24v24H0V0z\" fill=\"none\"/>\n",
              "    <path d=\"M18.56 5.44l.94 2.06.94-2.06 2.06-.94-2.06-.94-.94-2.06-.94 2.06-2.06.94zm-11 1L8.5 8.5l.94-2.06 2.06-.94-2.06-.94L8.5 2.5l-.94 2.06-2.06.94zm10 10l.94 2.06.94-2.06 2.06-.94-2.06-.94-.94-2.06-.94 2.06-2.06.94z\"/><path d=\"M17.41 7.96l-1.37-1.37c-.4-.4-.92-.59-1.43-.59-.52 0-1.04.2-1.43.59L10.3 9.45l-7.72 7.72c-.78.78-.78 2.05 0 2.83L4 21.41c.39.39.9.59 1.41.59.51 0 1.02-.2 1.41-.59l7.78-7.78 2.81-2.81c.8-.78.8-2.07 0-2.86zM5.41 20L4 18.59l7.72-7.72 1.47 1.35L5.41 20z\"/>\n",
              "  </svg>\n",
              "      </button>\n",
              "      \n",
              "  <style>\n",
              "    .colab-df-container {\n",
              "      display:flex;\n",
              "      flex-wrap:wrap;\n",
              "      gap: 12px;\n",
              "    }\n",
              "\n",
              "    .colab-df-convert {\n",
              "      background-color: #E8F0FE;\n",
              "      border: none;\n",
              "      border-radius: 50%;\n",
              "      cursor: pointer;\n",
              "      display: none;\n",
              "      fill: #1967D2;\n",
              "      height: 32px;\n",
              "      padding: 0 0 0 0;\n",
              "      width: 32px;\n",
              "    }\n",
              "\n",
              "    .colab-df-convert:hover {\n",
              "      background-color: #E2EBFA;\n",
              "      box-shadow: 0px 1px 2px rgba(60, 64, 67, 0.3), 0px 1px 3px 1px rgba(60, 64, 67, 0.15);\n",
              "      fill: #174EA6;\n",
              "    }\n",
              "\n",
              "    [theme=dark] .colab-df-convert {\n",
              "      background-color: #3B4455;\n",
              "      fill: #D2E3FC;\n",
              "    }\n",
              "\n",
              "    [theme=dark] .colab-df-convert:hover {\n",
              "      background-color: #434B5C;\n",
              "      box-shadow: 0px 1px 3px 1px rgba(0, 0, 0, 0.15);\n",
              "      filter: drop-shadow(0px 1px 2px rgba(0, 0, 0, 0.3));\n",
              "      fill: #FFFFFF;\n",
              "    }\n",
              "  </style>\n",
              "\n",
              "      <script>\n",
              "        const buttonEl =\n",
              "          document.querySelector('#df-efe862dd-6cbd-421b-bc86-b6ca3dc37ac7 button.colab-df-convert');\n",
              "        buttonEl.style.display =\n",
              "          google.colab.kernel.accessAllowed ? 'block' : 'none';\n",
              "\n",
              "        async function convertToInteractive(key) {\n",
              "          const element = document.querySelector('#df-efe862dd-6cbd-421b-bc86-b6ca3dc37ac7');\n",
              "          const dataTable =\n",
              "            await google.colab.kernel.invokeFunction('convertToInteractive',\n",
              "                                                     [key], {});\n",
              "          if (!dataTable) return;\n",
              "\n",
              "          const docLinkHtml = 'Like what you see? Visit the ' +\n",
              "            '<a target=\"_blank\" href=https://colab.research.google.com/notebooks/data_table.ipynb>data table notebook</a>'\n",
              "            + ' to learn more about interactive tables.';\n",
              "          element.innerHTML = '';\n",
              "          dataTable['output_type'] = 'display_data';\n",
              "          await google.colab.output.renderOutput(dataTable, element);\n",
              "          const docLink = document.createElement('div');\n",
              "          docLink.innerHTML = docLinkHtml;\n",
              "          element.appendChild(docLink);\n",
              "        }\n",
              "      </script>\n",
              "    </div>\n",
              "  </div>\n",
              "  "
            ]
          },
          "metadata": {},
          "execution_count": 53
        }
      ],
      "source": [
        "update_df(merged_df_test, updates2)\n",
        "merged_df_test"
      ]
    },
    {
      "cell_type": "code",
      "execution_count": 54,
      "id": "46cc60a1",
      "metadata": {
        "id": "46cc60a1"
      },
      "outputs": [],
      "source": [
        "# Load the pre-trained GloVe word vectors\n",
        "nlp = spacy.load('en_core_web_md')"
      ]
    },
    {
      "cell_type": "code",
      "execution_count": 56,
      "id": "53c81d47",
      "metadata": {
        "id": "53c81d47"
      },
      "outputs": [],
      "source": [
        "# Split the data into training and evaluation sets\n",
        "X_train, X_eval, y_train, y_eval = train_test_split(merged_df['text'], merged_df['unlisted'], test_size=0.2, random_state=42)"
      ]
    },
    {
      "cell_type": "code",
      "execution_count": 57,
      "id": "e62f4985",
      "metadata": {
        "id": "e62f4985"
      },
      "outputs": [],
      "source": [
        "# Save the DataFrame to a CSV file\n",
        "X_train.to_csv('X_train.csv', index=False)"
      ]
    },
    {
      "cell_type": "code",
      "execution_count": 58,
      "id": "df9d8afe",
      "metadata": {
        "id": "df9d8afe"
      },
      "outputs": [],
      "source": [
        "# Save the DataFrame to a CSV file\n",
        "X_eval.to_csv('X_eval.csv', index=False)"
      ]
    },
    {
      "cell_type": "code",
      "execution_count": 59,
      "id": "443ae582",
      "metadata": {
        "id": "443ae582"
      },
      "outputs": [],
      "source": [
        "# Save the DataFrame to a CSV file\n",
        "y_train.to_csv('y_train.csv', index=False)"
      ]
    },
    {
      "cell_type": "code",
      "execution_count": 60,
      "id": "15c5bf23",
      "metadata": {
        "id": "15c5bf23"
      },
      "outputs": [],
      "source": [
        "# Save the DataFrame to a CSV file\n",
        "y_eval.to_csv('y_eval.csv', index=False)"
      ]
    }
  ],
  "metadata": {
    "accelerator": "TPU",
    "colab": {
      "machine_shape": "hm",
      "provenance": []
    },
    "kernelspec": {
      "display_name": "Python 3 (ipykernel)",
      "language": "python",
      "name": "python3"
    },
    "language_info": {
      "codemirror_mode": {
        "name": "ipython",
        "version": 3
      },
      "file_extension": ".py",
      "mimetype": "text/x-python",
      "name": "python",
      "nbconvert_exporter": "python",
      "pygments_lexer": "ipython3",
      "version": "3.10.11"
    }
  },
  "nbformat": 4,
  "nbformat_minor": 5
}